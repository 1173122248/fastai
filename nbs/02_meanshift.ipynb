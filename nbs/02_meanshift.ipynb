{
  "cells": [
    {
      "cell_type": "markdown",
      "metadata": {
        "id": "-c47vxGTcqUt"
      },
      "source": [
        "# Clustering"
      ]
    },
    {
      "cell_type": "markdown",
      "metadata": {
        "id": "L8WMAWDqcqUu"
      },
      "source": [
        "Clustering techniques are unsupervised learning algorithms that try to group unlabelled data into \"clusters\", using the (typically spatial) structure of the data itself. It has many [applications](https://en.wikipedia.org/wiki/Cluster_analysis#Applications).\n",
        "\n",
        "The easiest way to demonstrate how clustering works is to simply generate some data and show them in action. We'll start off by importing the libraries we'll be using today."
      ]
    },
    {
      "cell_type": "code",
      "execution_count": 112,
      "metadata": {
        "id": "sXqcGJVEcqUv"
      },
      "outputs": [],
      "source": [
        "import math, matplotlib.pyplot as plt, operator, torch\n",
        "from functools import partial"
      ]
    },
    {
      "cell_type": "code",
      "execution_count": 113,
      "metadata": {
        "id": "-vTlX4-ocqUv"
      },
      "outputs": [],
      "source": [
        "torch.manual_seed(42)\n",
        "torch.set_printoptions(precision=3, linewidth=140, sci_mode=False)"
      ]
    },
    {
      "cell_type": "markdown",
      "metadata": {
        "id": "mvOo0JkgcqUw"
      },
      "source": [
        "## Create data"
      ]
    },
    {
      "cell_type": "code",
      "execution_count": 114,
      "metadata": {
        "id": "BX5WsW72cqUw"
      },
      "outputs": [],
      "source": [
        "n_clusters=6\n",
        "n_samples =250"
      ]
    },
    {
      "cell_type": "markdown",
      "metadata": {
        "id": "mlqgKGzacqUw"
      },
      "source": [
        "To generate our data, we're going to pick 6 random points, which we'll call centroids, and for each point we're going to generate 250 random points about it."
      ]
    },
    {
      "cell_type": "code",
      "execution_count": 115,
      "metadata": {
        "id": "YDdkBtr1cqUw"
      },
      "outputs": [],
      "source": [
        "centroids = torch.rand(n_clusters, 2)*70-35"
      ]
    },
    {
      "cell_type": "code",
      "execution_count": 116,
      "metadata": {
        "id": "lce6CM7zcqUw"
      },
      "outputs": [],
      "source": [
        "from torch.distributions.multivariate_normal import MultivariateNormal\n",
        "from torch import tensor"
      ]
    },
    {
      "cell_type": "markdown",
      "source": [
        "用来从一个多元正态分布中采样，均值为m，采样n_samples个"
      ],
      "metadata": {
        "id": "K1dwN8tNTXNi"
      }
    },
    {
      "cell_type": "code",
      "execution_count": 117,
      "metadata": {
        "id": "M0LtOUl2cqUx"
      },
      "outputs": [],
      "source": [
        "def sample(m): return MultivariateNormal(m, torch.diag(tensor([5.,5.]))).sample((n_samples,))"
      ]
    },
    {
      "cell_type": "code",
      "execution_count": 118,
      "metadata": {
        "id": "SwTJVO6BcqUx",
        "outputId": "d57a3eae-a78a-463e-cb69-4e2187cc5a4c",
        "colab": {
          "base_uri": "https://localhost:8080/"
        }
      },
      "outputs": [
        {
          "output_type": "execute_result",
          "data": {
            "text/plain": [
              "torch.Size([1500, 2])"
            ]
          },
          "metadata": {},
          "execution_count": 118
        }
      ],
      "source": [
        "slices = [sample(c) for c in centroids]\n",
        "data = torch.cat(slices)\n",
        "data.shape"
      ]
    },
    {
      "cell_type": "markdown",
      "metadata": {
        "id": "qgZsFnnLcqUy"
      },
      "source": [
        "Below we can see each centroid marked w/ X, and the coloring associated to each respective cluster."
      ]
    },
    {
      "cell_type": "code",
      "execution_count": 119,
      "metadata": {
        "id": "XhKQl1k3cqUy"
      },
      "outputs": [],
      "source": [
        "def plot_data(centroids, data, n_samples, ax=None):\n",
        "    if ax is None: _,ax = plt.subplots()\n",
        "    for i, centroid in enumerate(centroids):\n",
        "        samples = data[i*n_samples:(i+1)*n_samples]\n",
        "        ax.scatter(samples[:,0], samples[:,1], s=1)\n",
        "        ax.plot(*centroid, markersize=10, marker=\"x\", color='k', mew=5)\n",
        "        ax.plot(*centroid, markersize=5, marker=\"x\", color='m', mew=2)"
      ]
    },
    {
      "cell_type": "code",
      "execution_count": 120,
      "metadata": {
        "id": "w4iMznqRcqUy",
        "outputId": "69f11f54-6900-4600-f9c2-27aecdebe5ef",
        "colab": {
          "base_uri": "https://localhost:8080/",
          "height": 430
        }
      },
      "outputs": [
        {
          "output_type": "display_data",
          "data": {
            "text/plain": [
              "<Figure size 640x480 with 1 Axes>"
            ],
            "image/png": "[encoded data removed]"
          },
          "metadata": {}
        }
      ],
      "source": [
        "plot_data(centroids, data, n_samples)"
      ]
    },
    {
      "cell_type": "markdown",
      "metadata": {
        "id": "RE4NNQHwcqUy"
      },
      "source": [
        "## Mean shift"
      ]
    },
    {
      "cell_type": "markdown",
      "metadata": {
        "id": "EQEhvhLScqUy"
      },
      "source": [
        "Most people that have come across clustering algorithms have learnt about **k-means**. Mean shift clustering is a newer and less well-known approach, but it has some important advantages:\n",
        "* It doesn't require selecting the number of clusters in advance, but instead just requires a **bandwidth** to be specified, which can be easily chosen automatically\n",
        "* It can handle clusters of any shape, whereas k-means (without using special extensions) requires that clusters be roughly ball shaped."
      ]
    },
    {
      "cell_type": "markdown",
      "metadata": {
        "id": "a6-HOXNCcqUz"
      },
      "source": [
        "The algorithm is as follows:\n",
        "* For each data point x in the sample X, find the distance between that point x and every other point in X\n",
        "* Create weights for each point in X by using the **Gaussian kernel** of that point's distance to x\n",
        "    * This weighting approach penalizes points further away from x\n",
        "    * The rate at which the weights fall to zero is determined by the **bandwidth**, which is the standard deviation of the Gaussian\n",
        "* Update x as the weighted average of all other points in X, weighted based on the previous step\n",
        "\n",
        "This will iteratively push points that are close together even closer until they are next to each other."
      ]
    },
    {
      "cell_type": "code",
      "source": [
        "data[0]#the context in data is site"
      ],
      "metadata": {
        "id": "Jnu1YJliXY_A",
        "outputId": "dc83f833-c515-4c7b-f755-b168ef6023c6",
        "colab": {
          "base_uri": "https://localhost:8080/"
        }
      },
      "execution_count": 121,
      "outputs": [
        {
          "output_type": "execute_result",
          "data": {
            "text/plain": [
              "tensor([26.204, 26.349])"
            ]
          },
          "metadata": {},
          "execution_count": 121
        }
      ]
    },
    {
      "cell_type": "code",
      "execution_count": 122,
      "metadata": {
        "id": "nq4mMgUGcqUz",
        "outputId": "3f158e03-ecdc-4cb5-b536-702d66906032",
        "colab": {
          "base_uri": "https://localhost:8080/"
        }
      },
      "outputs": [
        {
          "output_type": "execute_result",
          "data": {
            "text/plain": [
              "tensor([ 9.222, 11.604])"
            ]
          },
          "metadata": {},
          "execution_count": 122
        }
      ],
      "source": [
        "midp = data.mean(0)\n",
        "midp#the center"
      ]
    },
    {
      "cell_type": "code",
      "execution_count": 123,
      "metadata": {
        "id": "rZfHSkoucqUz",
        "outputId": "2e2d8b73-2a7e-4a1d-dfa9-09d0bd860271",
        "colab": {
          "base_uri": "https://localhost:8080/",
          "height": 430
        }
      },
      "outputs": [
        {
          "output_type": "display_data",
          "data": {
            "text/plain": [
              "<Figure size 640x480 with 1 Axes>"
            ],
            "image/png": "[encoded data removed]"
          },
          "metadata": {}
        }
      ],
      "source": [
        "plot_data([midp]*6, data, n_samples)"
      ]
    },
    {
      "cell_type": "markdown",
      "metadata": {
        "id": "l8b5hQA7cqUz"
      },
      "source": [
        "So here's the definition of the gaussian kernel, which you may remember from high school...\n",
        " This person at the science march certainly remembered!\n",
        "\n",
        "<img src=\"http://i.imgur.com/nijQLHw.jpg\" width=400>"
      ]
    },
    {
      "cell_type": "code",
      "execution_count": 124,
      "metadata": {
        "id": "BGe9qf-YcqUz"
      },
      "outputs": [],
      "source": [
        "def gaussian(d, bw): return torch.exp(-0.5*((d/bw))**2) / (bw*math.sqrt(2*math.pi))"
      ]
    },
    {
      "cell_type": "code",
      "execution_count": 125,
      "metadata": {
        "id": "mEYEu1BkcqUz"
      },
      "outputs": [],
      "source": [
        "def plot_func(f):\n",
        "    x = torch.linspace(0,10,100)\n",
        "    plt.plot(x, f(x))"
      ]
    },
    {
      "cell_type": "code",
      "execution_count": 126,
      "metadata": {
        "id": "bcZC-BoRcqUz",
        "outputId": "fd3fd4c7-c0a5-47d0-b11b-9e0a96dafe04",
        "colab": {
          "base_uri": "https://localhost:8080/",
          "height": 430
        }
      },
      "outputs": [
        {
          "output_type": "display_data",
          "data": {
            "text/plain": [
              "<Figure size 640x480 with 1 Axes>"
            ],
            "image/png": "[encoded data removed]"
          },
          "metadata": {}
        }
      ],
      "source": [
        "plot_func(partial(gaussian, bw=2.5))#partial用来指定原函数的一些参数值"
      ]
    },
    {
      "cell_type": "code",
      "execution_count": 127,
      "metadata": {
        "id": "2a6Z5GeicqUz",
        "outputId": "db017174-17be-4957-8480-b0b86d309776",
        "colab": {
          "base_uri": "https://localhost:8080/"
        }
      },
      "outputs": [
        {
          "output_type": "execute_result",
          "data": {
            "text/plain": [
              "functools.partial"
            ]
          },
          "metadata": {},
          "execution_count": 127
        }
      ],
      "source": [
        "partial"
      ]
    },
    {
      "cell_type": "markdown",
      "metadata": {
        "id": "x1x8PY4DcqU0"
      },
      "source": [
        "In our implementation, we choose the bandwidth to be 2.5.\n",
        "\n",
        "One easy way to choose bandwidth is to find which bandwidth covers one third of the data.找到一个能覆盖1/3数据的方差"
      ]
    },
    {
      "cell_type": "code",
      "execution_count": 128,
      "metadata": {
        "id": "5z91Odq7cqU0"
      },
      "outputs": [],
      "source": [
        "def tri(d, i): return (-d+i).clamp_min(0)/i"
      ]
    },
    {
      "cell_type": "code",
      "execution_count": 129,
      "metadata": {
        "id": "VXC-o0ZxcqU0",
        "outputId": "41ce668b-b4da-45ec-ca64-12ce2777bb54",
        "colab": {
          "base_uri": "https://localhost:8080/",
          "height": 430
        }
      },
      "outputs": [
        {
          "output_type": "display_data",
          "data": {
            "text/plain": [
              "<Figure size 640x480 with 1 Axes>"
            ],
            "image/png": "[encoded data removed]"
          },
          "metadata": {}
        }
      ],
      "source": [
        "plot_func(partial(tri, i=8))"
      ]
    },
    {
      "cell_type": "code",
      "execution_count": 130,
      "metadata": {
        "id": "pgUwa86hcqU0"
      },
      "outputs": [],
      "source": [
        "X = data.clone()\n",
        "x = data[0]"
      ]
    },
    {
      "cell_type": "code",
      "execution_count": 43,
      "metadata": {
        "id": "vZtVQoegcqU0",
        "outputId": "617e6c00-6461-4c85-ffe6-df793f38c564",
        "colab": {
          "base_uri": "https://localhost:8080/",
          "height": 0
        }
      },
      "outputs": [
        {
          "output_type": "execute_result",
          "data": {
            "text/plain": [
              "tensor([-14.167, -17.772])"
            ]
          },
          "metadata": {},
          "execution_count": 43
        }
      ],
      "source": [
        "x"
      ]
    },
    {
      "cell_type": "code",
      "execution_count": 45,
      "metadata": {
        "id": "0AbWaocXcqU0",
        "outputId": "810221bb-d8e0-4f41-a029-158b6e1e825a",
        "colab": {
          "base_uri": "https://localhost:8080/",
          "height": 0
        }
      },
      "outputs": [
        {
          "output_type": "execute_result",
          "data": {
            "text/plain": [
              "(torch.Size([2]),\n",
              " torch.Size([1500, 2]),\n",
              " torch.Size([1, 2]),\n",
              " torch.Size([1500, 2]))"
            ]
          },
          "metadata": {},
          "execution_count": 45
        }
      ],
      "source": [
        "x.shape,X.shape,x[None].shape,data.shape"
      ]
    },
    {
      "cell_type": "code",
      "execution_count": 46,
      "metadata": {
        "id": "383l0ax1cqU0",
        "outputId": "9d4701a6-1518-4d98-eba2-4aa383b20cf3",
        "colab": {
          "base_uri": "https://localhost:8080/",
          "height": 0
        }
      },
      "outputs": [
        {
          "output_type": "execute_result",
          "data": {
            "text/plain": [
              "tensor([[ 0.000,  0.000],\n",
              "        [ 5.465, -1.826],\n",
              "        [ 5.980,  3.467],\n",
              "        [ 3.635,  2.243],\n",
              "        [ 2.633,  3.797],\n",
              "        [ 3.951,  6.092],\n",
              "        [ 8.437, -0.147],\n",
              "        [ 2.900,  3.063]])"
            ]
          },
          "metadata": {},
          "execution_count": 46
        }
      ],
      "source": [
        "(x[None]-X)[:8]"
      ]
    },
    {
      "cell_type": "code",
      "execution_count": 47,
      "metadata": {
        "id": "TKPiyZr8cqU1",
        "outputId": "e9e4dba3-b579-496d-c8e5-8678f6a121b6",
        "colab": {
          "base_uri": "https://localhost:8080/",
          "height": 0
        }
      },
      "outputs": [
        {
          "output_type": "execute_result",
          "data": {
            "text/plain": [
              "tensor([[ 0.000,  0.000],\n",
              "        [ 5.465, -1.826],\n",
              "        [ 5.980,  3.467],\n",
              "        [ 3.635,  2.243],\n",
              "        [ 2.633,  3.797],\n",
              "        [ 3.951,  6.092],\n",
              "        [ 8.437, -0.147],\n",
              "        [ 2.900,  3.063]])"
            ]
          },
          "metadata": {},
          "execution_count": 47
        }
      ],
      "source": [
        "(x-X)[:8]#broadcast"
      ]
    },
    {
      "cell_type": "code",
      "source": [
        "dist = ((x-X)**2)\n",
        "dist.shape,dist,dist.sum(1)#按第一维列相加就是把同一行中的数据相加"
      ],
      "metadata": {
        "id": "ic89jZJkbygR",
        "outputId": "6d3f81d9-57a9-4039-b954-1184fbf4fd76",
        "colab": {
          "base_uri": "https://localhost:8080/",
          "height": 0
        }
      },
      "execution_count": 56,
      "outputs": [
        {
          "output_type": "execute_result",
          "data": {
            "text/plain": [
              "(torch.Size([1500, 2]),\n",
              " tensor([[   0.000,    0.000],\n",
              "         [  29.866,    3.335],\n",
              "         [  35.760,   12.018],\n",
              "         ...,\n",
              "         [ 503.225,  809.027],\n",
              "         [ 386.805, 1048.054],\n",
              "         [ 340.997,  982.254]]),\n",
              " tensor([   0.000,   33.201,   47.778,  ..., 1312.253, 1434.859, 1323.252]))"
            ]
          },
          "metadata": {},
          "execution_count": 56
        }
      ]
    },
    {
      "cell_type": "code",
      "execution_count": 50,
      "metadata": {
        "id": "UeQzLhpmcqU1",
        "outputId": "d60c779c-28ba-49a4-d28f-952336cebb34",
        "colab": {
          "base_uri": "https://localhost:8080/",
          "height": 0
        }
      },
      "outputs": [
        {
          "output_type": "execute_result",
          "data": {
            "text/plain": [
              "tensor([0.000, 5.762, 6.912, 4.271, 4.621, 7.261, 8.439, 4.218])"
            ]
          },
          "metadata": {},
          "execution_count": 50
        }
      ],
      "source": [
        "# rewrite using torch.einsum\n",
        "dist = ((x-X)**2).sum(1).sqrt()\n",
        "#dist.shape\n",
        "dist[:8]"
      ]
    },
    {
      "cell_type": "code",
      "source": [
        "dist.shape"
      ],
      "metadata": {
        "id": "cxMkCFN5bTxU",
        "outputId": "a49d6427-1ab5-48cd-8a45-9e3a5a392f64",
        "colab": {
          "base_uri": "https://localhost:8080/",
          "height": 0
        }
      },
      "execution_count": 51,
      "outputs": [
        {
          "output_type": "execute_result",
          "data": {
            "text/plain": [
              "torch.Size([1500])"
            ]
          },
          "metadata": {},
          "execution_count": 51
        }
      ]
    },
    {
      "cell_type": "code",
      "execution_count": 57,
      "metadata": {
        "id": "5MtLzImocqU1",
        "outputId": "549388bb-78b0-45ca-a601-e84799f8ea51",
        "colab": {
          "base_uri": "https://localhost:8080/",
          "height": 0
        }
      },
      "outputs": [
        {
          "output_type": "execute_result",
          "data": {
            "text/plain": [
              "tensor([[    0.160,     0.160],\n",
              "        [    0.000,     0.066],\n",
              "        [    0.000,     0.000],\n",
              "        ...,\n",
              "        [    0.000,     0.000],\n",
              "        [    0.000,     0.000],\n",
              "        [    0.000,     0.000]])"
            ]
          },
          "metadata": {},
          "execution_count": 57
        }
      ],
      "source": [
        "weight = gaussian(dist, 2.5)\n",
        "weight#距离越大，使它获得的权重越小"
      ]
    },
    {
      "cell_type": "code",
      "execution_count": 58,
      "metadata": {
        "id": "TlsRlpmrcqU1",
        "outputId": "47dbce2c-2fa5-4076-81b5-00a22295feeb",
        "colab": {
          "base_uri": "https://localhost:8080/",
          "height": 0
        }
      },
      "outputs": [
        {
          "output_type": "execute_result",
          "data": {
            "text/plain": [
              "(torch.Size([1500, 2]), torch.Size([1500, 2]))"
            ]
          },
          "metadata": {},
          "execution_count": 58
        }
      ],
      "source": [
        "weight.shape,X.shape"
      ]
    },
    {
      "cell_type": "code",
      "execution_count": 60,
      "metadata": {
        "id": "fbgAt1qXcqU1",
        "outputId": "b3cbb9fc-68d3-410b-aa23-127258ef520f",
        "colab": {
          "base_uri": "https://localhost:8080/",
          "height": 0
        }
      },
      "outputs": [
        {
          "output_type": "execute_result",
          "data": {
            "text/plain": [
              "torch.Size([1500, 1, 2])"
            ]
          },
          "metadata": {},
          "execution_count": 60
        }
      ],
      "source": [
        "weight[:,None].shape"
      ]
    },
    {
      "cell_type": "code",
      "execution_count": 61,
      "metadata": {
        "id": "i2dmM3q8cqU1",
        "outputId": "d30d7704-606e-44e3-e1cf-add35c0012d2",
        "colab": {
          "base_uri": "https://localhost:8080/",
          "height": 0
        }
      },
      "outputs": [
        {
          "output_type": "execute_result",
          "data": {
            "text/plain": [
              "tensor([[[    -2.261,     -2.836],\n",
              "         [    -3.133,     -2.545],\n",
              "         [    -3.215,     -3.389],\n",
              "         ...,\n",
              "         [     1.319,      1.703],\n",
              "         [     0.878,      2.330],\n",
              "         [     0.686,      2.165]],\n",
              "\n",
              "        [[    -0.000,     -1.165],\n",
              "         [    -0.000,     -1.045],\n",
              "         [    -0.000,     -1.392],\n",
              "         ...,\n",
              "         [     0.000,      0.699],\n",
              "         [     0.000,      0.957],\n",
              "         [     0.000,      0.889]],\n",
              "\n",
              "        [[    -0.000,     -0.000],\n",
              "         [    -0.000,     -0.000],\n",
              "         [    -0.000,     -0.000],\n",
              "         ...,\n",
              "         [     0.000,      0.000],\n",
              "         [     0.000,      0.000],\n",
              "         [     0.000,      0.000]],\n",
              "\n",
              "        ...,\n",
              "\n",
              "        [[    -0.000,     -0.000],\n",
              "         [    -0.000,     -0.000],\n",
              "         [    -0.000,     -0.000],\n",
              "         ...,\n",
              "         [     0.000,      0.000],\n",
              "         [     0.000,      0.000],\n",
              "         [     0.000,      0.000]],\n",
              "\n",
              "        [[    -0.000,     -0.000],\n",
              "         [    -0.000,     -0.000],\n",
              "         [    -0.000,     -0.000],\n",
              "         ...,\n",
              "         [     0.000,      0.000],\n",
              "         [     0.000,      0.000],\n",
              "         [     0.000,      0.000]],\n",
              "\n",
              "        [[    -0.000,     -0.000],\n",
              "         [    -0.000,     -0.000],\n",
              "         [    -0.000,     -0.000],\n",
              "         ...,\n",
              "         [     0.000,      0.000],\n",
              "         [     0.000,      0.000],\n",
              "         [     0.000,      0.000]]])"
            ]
          },
          "metadata": {},
          "execution_count": 61
        }
      ],
      "source": [
        "weight[:,None]*X"
      ]
    },
    {
      "cell_type": "code",
      "execution_count": 62,
      "metadata": {
        "id": "6e2_1GVucqU1"
      },
      "outputs": [],
      "source": [
        "def one_update(X):\n",
        "    for i, x in enumerate(X):\n",
        "        dist = torch.sqrt(((x-X)**2).sum(1))#计算下x与各个点之间的距离\n",
        "#         weight = gaussian(dist, 2.5)\n",
        "        weight = tri(dist, 8)#按照距离分配权重\n",
        "        X[i] = (weight[:,None]*X).sum(0)/weight.sum()#更新当前的点，换下一个点继续更新为基于权重的加权平均值"
      ]
    },
    {
      "cell_type": "code",
      "execution_count": 66,
      "metadata": {
        "id": "UzyjB1JtcqU1"
      },
      "outputs": [],
      "source": [
        "def meanshift(data):\n",
        "    X = data.clone()\n",
        "    for it in range(5): one_update(X)\n",
        "    return X"
      ]
    },
    {
      "cell_type": "code",
      "execution_count": 67,
      "metadata": {
        "id": "4SmfhFi7cqU5",
        "outputId": "8973f87b-1cf7-4c4b-e8bd-631bf24ad60c",
        "colab": {
          "base_uri": "https://localhost:8080/",
          "height": 0
        }
      },
      "outputs": [
        {
          "output_type": "stream",
          "name": "stdout",
          "text": [
            "CPU times: user 771 ms, sys: 0 ns, total: 771 ms\n",
            "Wall time: 771 ms\n"
          ]
        }
      ],
      "source": [
        "%time X=meanshift(data)"
      ]
    },
    {
      "cell_type": "code",
      "execution_count": 68,
      "metadata": {
        "id": "ShbX8qIjcqU5",
        "outputId": "6db88011-64af-4d2e-f999-d513075f8f2a",
        "colab": {
          "base_uri": "https://localhost:8080/",
          "height": 430
        }
      },
      "outputs": [
        {
          "output_type": "display_data",
          "data": {
            "text/plain": [
              "<Figure size 640x480 with 1 Axes>"
            ],
            "image/png": "[encoded data removed]"
          },
          "metadata": {}
        }
      ],
      "source": [
        "plot_data(centroids+2, X, n_samples)"
      ]
    },
    {
      "cell_type": "markdown",
      "metadata": {
        "id": "8YutBtRgcqU6"
      },
      "source": [
        "## Animation"
      ]
    },
    {
      "cell_type": "code",
      "execution_count": 69,
      "metadata": {
        "id": "cF3lJgiacqU6"
      },
      "outputs": [],
      "source": [
        "from matplotlib.animation import FuncAnimation\n",
        "from IPython.display import HTML"
      ]
    },
    {
      "cell_type": "code",
      "execution_count": 70,
      "metadata": {
        "id": "nxkdwdbicqU6"
      },
      "outputs": [],
      "source": [
        "def do_one(d):\n",
        "    if d: one_update(X)\n",
        "    ax.clear()\n",
        "    plot_data(centroids+2, X, n_samples, ax=ax)"
      ]
    },
    {
      "cell_type": "code",
      "execution_count": 71,
      "metadata": {
        "id": "vrNE2Qn0cqU6",
        "outputId": "163c9eab-a594-4783-8dfc-aa2ac8bab4d5",
        "colab": {
          "base_uri": "https://localhost:8080/",
          "height": 576
        }
      },
      "outputs": [
        {
          "output_type": "execute_result",
          "data": {
            "text/plain": [
              "<IPython.core.display.HTML object>"
            ],
            "text/html": [
              "\n",
              "<link rel=\"stylesheet\"\n",
              "href=\"https://maxcdn.bootstrapcdn.com/font-awesome/4.4.0/css/font-awesome.min.css\">\n",
              "<script language=\"javascript\">\n",
              "  function isInternetExplorer() {\n",
              "    ua = navigator.userAgent;\n",
              "    /* MSIE used to detect old browsers and Trident used to newer ones*/\n",
              "    return ua.indexOf(\"MSIE \") > -1 || ua.indexOf(\"Trident/\") > -1;\n",
              "  }\n",
              "\n",
              "  /* Define the Animation class */\n",
              "  function Animation(frames, img_id, slider_id, interval, loop_select_id){\n",
              "    this.img_id = img_id;\n",
              "    this.slider_id = slider_id;\n",
              "    this.loop_select_id = loop_select_id;\n",
              "    this.interval = interval;\n",
              "    this.current_frame = 0;\n",
              "    this.direction = 0;\n",
              "    this.timer = null;\n",
              "    this.frames = new Array(frames.length);\n",
              "\n",
              "    for (var i=0; i<frames.length; i++)\n",
              "    {\n",
              "     this.frames[i] = new Image();\n",
              "     this.frames[i].src = frames[i];\n",
              "    }\n",
              "    var slider = document.getElementById(this.slider_id);\n",
              "    slider.max = this.frames.length - 1;\n",
              "    if (isInternetExplorer()) {\n",
              "        // switch from oninput to onchange because IE <= 11 does not conform\n",
              "        // with W3C specification. It ignores oninput and onchange behaves\n",
              "        // like oninput. In contrast, Microsoft Edge behaves correctly.\n",
              "        slider.setAttribute('onchange', slider.getAttribute('oninput'));\n",
              "        slider.setAttribute('oninput', null);\n",
              "    }\n",
              "    this.set_frame(this.current_frame);\n",
              "  }\n",
              "\n",
              "  Animation.prototype.get_loop_state = function(){\n",
              "    var button_group = document[this.loop_select_id].state;\n",
              "    for (var i = 0; i < button_group.length; i++) {\n",
              "        var button = button_group[i];\n",
              "        if (button.checked) {\n",
              "            return button.value;\n",
              "        }\n",
              "    }\n",
              "    return undefined;\n",
              "  }\n",
              "\n",
              "  Animation.prototype.set_frame = function(frame){\n",
              "    this.current_frame = frame;\n",
              "    document.getElementById(this.img_id).src =\n",
              "            this.frames[this.current_frame].src;\n",
              "    document.getElementById(this.slider_id).value = this.current_frame;\n",
              "  }\n",
              "\n",
              "  Animation.prototype.next_frame = function()\n",
              "  {\n",
              "    this.set_frame(Math.min(this.frames.length - 1, this.current_frame + 1));\n",
              "  }\n",
              "\n",
              "  Animation.prototype.previous_frame = function()\n",
              "  {\n",
              "    this.set_frame(Math.max(0, this.current_frame - 1));\n",
              "  }\n",
              "\n",
              "  Animation.prototype.first_frame = function()\n",
              "  {\n",
              "    this.set_frame(0);\n",
              "  }\n",
              "\n",
              "  Animation.prototype.last_frame = function()\n",
              "  {\n",
              "    this.set_frame(this.frames.length - 1);\n",
              "  }\n",
              "\n",
              "  Animation.prototype.slower = function()\n",
              "  {\n",
              "    this.interval /= 0.7;\n",
              "    if(this.direction > 0){this.play_animation();}\n",
              "    else if(this.direction < 0){this.reverse_animation();}\n",
              "  }\n",
              "\n",
              "  Animation.prototype.faster = function()\n",
              "  {\n",
              "    this.interval *= 0.7;\n",
              "    if(this.direction > 0){this.play_animation();}\n",
              "    else if(this.direction < 0){this.reverse_animation();}\n",
              "  }\n",
              "\n",
              "  Animation.prototype.anim_step_forward = function()\n",
              "  {\n",
              "    this.current_frame += 1;\n",
              "    if(this.current_frame < this.frames.length){\n",
              "      this.set_frame(this.current_frame);\n",
              "    }else{\n",
              "      var loop_state = this.get_loop_state();\n",
              "      if(loop_state == \"loop\"){\n",
              "        this.first_frame();\n",
              "      }else if(loop_state == \"reflect\"){\n",
              "        this.last_frame();\n",
              "        this.reverse_animation();\n",
              "      }else{\n",
              "        this.pause_animation();\n",
              "        this.last_frame();\n",
              "      }\n",
              "    }\n",
              "  }\n",
              "\n",
              "  Animation.prototype.anim_step_reverse = function()\n",
              "  {\n",
              "    this.current_frame -= 1;\n",
              "    if(this.current_frame >= 0){\n",
              "      this.set_frame(this.current_frame);\n",
              "    }else{\n",
              "      var loop_state = this.get_loop_state();\n",
              "      if(loop_state == \"loop\"){\n",
              "        this.last_frame();\n",
              "      }else if(loop_state == \"reflect\"){\n",
              "        this.first_frame();\n",
              "        this.play_animation();\n",
              "      }else{\n",
              "        this.pause_animation();\n",
              "        this.first_frame();\n",
              "      }\n",
              "    }\n",
              "  }\n",
              "\n",
              "  Animation.prototype.pause_animation = function()\n",
              "  {\n",
              "    this.direction = 0;\n",
              "    if (this.timer){\n",
              "      clearInterval(this.timer);\n",
              "      this.timer = null;\n",
              "    }\n",
              "  }\n",
              "\n",
              "  Animation.prototype.play_animation = function()\n",
              "  {\n",
              "    this.pause_animation();\n",
              "    this.direction = 1;\n",
              "    var t = this;\n",
              "    if (!this.timer) this.timer = setInterval(function() {\n",
              "        t.anim_step_forward();\n",
              "    }, this.interval);\n",
              "  }\n",
              "\n",
              "  Animation.prototype.reverse_animation = function()\n",
              "  {\n",
              "    this.pause_animation();\n",
              "    this.direction = -1;\n",
              "    var t = this;\n",
              "    if (!this.timer) this.timer = setInterval(function() {\n",
              "        t.anim_step_reverse();\n",
              "    }, this.interval);\n",
              "  }\n",
              "</script>\n",
              "\n",
              "<style>\n",
              ".animation {\n",
              "    display: inline-block;\n",
              "    text-align: center;\n",
              "}\n",
              "input[type=range].anim-slider {\n",
              "    width: 374px;\n",
              "    margin-left: auto;\n",
              "    margin-right: auto;\n",
              "}\n",
              ".anim-buttons {\n",
              "    margin: 8px 0px;\n",
              "}\n",
              ".anim-buttons button {\n",
              "    padding: 0;\n",
              "    width: 36px;\n",
              "}\n",
              ".anim-state label {\n",
              "    margin-right: 8px;\n",
              "}\n",
              ".anim-state input {\n",
              "    margin: 0;\n",
              "    vertical-align: middle;\n",
              "}\n",
              "</style>\n",
              "\n",
              "<div class=\"animation\">\n",
              "  <img id=\"_anim_img1cc6306a1db44a60b0be660680464a9c\">\n",
              "  <div class=\"anim-controls\">\n",
              "    <input id=\"_anim_slider1cc6306a1db44a60b0be660680464a9c\" type=\"range\" class=\"anim-slider\"\n",
              "           name=\"points\" min=\"0\" max=\"1\" step=\"1\" value=\"0\"\n",
              "           oninput=\"anim1cc6306a1db44a60b0be660680464a9c.set_frame(parseInt(this.value));\">\n",
              "    <div class=\"anim-buttons\">\n",
              "      <button title=\"Decrease speed\" aria-label=\"Decrease speed\" onclick=\"anim1cc6306a1db44a60b0be660680464a9c.slower()\">\n",
              "          <i class=\"fa fa-minus\"></i></button>\n",
              "      <button title=\"First frame\" aria-label=\"First frame\" onclick=\"anim1cc6306a1db44a60b0be660680464a9c.first_frame()\">\n",
              "        <i class=\"fa fa-fast-backward\"></i></button>\n",
              "      <button title=\"Previous frame\" aria-label=\"Previous frame\" onclick=\"anim1cc6306a1db44a60b0be660680464a9c.previous_frame()\">\n",
              "          <i class=\"fa fa-step-backward\"></i></button>\n",
              "      <button title=\"Play backwards\" aria-label=\"Play backwards\" onclick=\"anim1cc6306a1db44a60b0be660680464a9c.reverse_animation()\">\n",
              "          <i class=\"fa fa-play fa-flip-horizontal\"></i></button>\n",
              "      <button title=\"Pause\" aria-label=\"Pause\" onclick=\"anim1cc6306a1db44a60b0be660680464a9c.pause_animation()\">\n",
              "          <i class=\"fa fa-pause\"></i></button>\n",
              "      <button title=\"Play\" aria-label=\"Play\" onclick=\"anim1cc6306a1db44a60b0be660680464a9c.play_animation()\">\n",
              "          <i class=\"fa fa-play\"></i></button>\n",
              "      <button title=\"Next frame\" aria-label=\"Next frame\" onclick=\"anim1cc6306a1db44a60b0be660680464a9c.next_frame()\">\n",
              "          <i class=\"fa fa-step-forward\"></i></button>\n",
              "      <button title=\"Last frame\" aria-label=\"Last frame\" onclick=\"anim1cc6306a1db44a60b0be660680464a9c.last_frame()\">\n",
              "          <i class=\"fa fa-fast-forward\"></i></button>\n",
              "      <button title=\"Increase speed\" aria-label=\"Increase speed\" onclick=\"anim1cc6306a1db44a60b0be660680464a9c.faster()\">\n",
              "          <i class=\"fa fa-plus\"></i></button>\n",
              "    </div>\n",
              "    <form title=\"Repetition mode\" aria-label=\"Repetition mode\" action=\"#n\" name=\"_anim_loop_select1cc6306a1db44a60b0be660680464a9c\"\n",
              "          class=\"anim-state\">\n",
              "      <input type=\"radio\" name=\"state\" value=\"once\" id=\"_anim_radio1_1cc6306a1db44a60b0be660680464a9c\"\n",
              "             checked>\n",
              "      <label for=\"_anim_radio1_1cc6306a1db44a60b0be660680464a9c\">Once</label>\n",
              "      <input type=\"radio\" name=\"state\" value=\"loop\" id=\"_anim_radio2_1cc6306a1db44a60b0be660680464a9c\"\n",
              "             >\n",
              "      <label for=\"_anim_radio2_1cc6306a1db44a60b0be660680464a9c\">Loop</label>\n",
              "      <input type=\"radio\" name=\"state\" value=\"reflect\" id=\"_anim_radio3_1cc6306a1db44a60b0be660680464a9c\"\n",
              "             >\n",
              "      <label for=\"_anim_radio3_1cc6306a1db44a60b0be660680464a9c\">Reflect</label>\n",
              "    </form>\n",
              "  </div>\n",
              "</div>\n",
              "\n",
              "\n",
              "<script language=\"javascript\">\n",
              "  /* Instantiate the Animation class. */\n",
              "  /* The IDs given should match those used in the template above. */\n",
              "  (function() {\n",
              "    var img_id = \"_anim_img1cc6306a1db44a60b0be660680464a9c\";\n",
              "    var slider_id = \"_anim_slider1cc6306a1db44a60b0be660680464a9c\";\n",
              "    var loop_select_id = \"_anim_loop_select1cc6306a1db44a60b0be660680464a9c\";\n",
              "    var frames = new Array(5);\n",
              "    \n",
              "  frames[0] = \"data:image/png;base64,iVBORw0KGgoAAAANSUhEUgAAAoAAAAHgCAYAAAA10dzkAAAAOXRFWHRTb2Z0d2FyZQBNYXRwbG90\\\n",
              "bGliIHZlcnNpb24zLjguMCwgaHR0cHM6Ly9tYXRwbG90bGliLm9yZy81sbWrAAAACXBIWXMAAA9h\\\n",
              "AAAPYQGoP6dpAABsz0lEQVR4nO3deXxU5d028GuyTRbIhCUkBMMiagSjiJQlEnlREKhYxYo29FVA\\\n",
              "UdEGVMQFi0AoUtwqKqSIiqK1JS6t2D4ihQcEXhTQYhSDkCqySQyLkAyE7HPePw73yTlnzmyZmcxy\\\n",
              "ru/z4QOZOefMmXmoc/G77999WyRJkkBEREREphET6hsgIiIiorbFAEhERERkMgyARERERCbDAEhE\\\n",
              "RERkMgyARERERCbDAEhERERkMgyARERERCbDAEhERERkMgyARERERCbDAEhERERkMgyARERERCbD\\\n",
              "AEhERERkMgyARERERCbDAEhERERkMgyARERERCbDAEhERERkMgyARERERCbDAEhERERkMgyARERE\\\n",
              "RCbDAEhERERkMgyARERERCbDAEhERERkMgyARERERCbDAEhERERkMgyARERERCbDAEhERERkMgyA\\\n",
              "RERERCbDAEhERERkMgyARERERCbDAEhERERkMgyARERERCbDAEhERERkMgyARERERCbDAEhERERk\\\n",
              "MgyARERERCbDAEhERERkMgyARERERCbDAEhERERkMgyARERERCbDAEhERERkMgyARERERCbDAEhE\\\n",
              "RERkMgyARERERCbDAEhERERkMgyARERERCbDAEhERERkMgyARERERCbDAEhERERkMgyARERERCbD\\\n",
              "AEhERERkMgyARERERCbDAEhERERkMgyARERERCbDAEhERERkMgyARERERCbDAEhERERkMnGhvoFI\\\n",
              "5nA4UFFRgfbt28NisYT6doiIiMgLkiTh9OnTyMrKQkyMOWthDIB+qKioQHZ2dqhvg4iIiFrh8OHD\\\n",
              "OO+880J9GyHBAOiH9u3bA5D/AqWmpob4boiIiMgbdrsd2dnZyve4GTEA+kEM+6ampjIAEhERRRgz\\\n",
              "T98y58A3ERERkYkxABIRERGZDAMgERERkckwABIRERGZDAMgERERkckwABIRERGZDAMgERERkckw\\\n",
              "ABIRERGZDAMgERERkckwABIRERGZDAMgERERkckwABIRERGZDAMgUZC8W/4uRr0/Cu+WvxvqWyEi\\\n",
              "ItJgACQKkte+eQ0/1fyE1755LdS3QkREpMEASBQkd116F7qmdMVdl94V6lshIiLSYAAkCiAO+xIR\\\n",
              "USSwSJIkhfomIpXdbofNZkN1dTVSU1NDfTsUBka9Pwo/1fyErildAUD587rx60J8Z0REJPD7mxVA\\\n",
              "ooBSD/u29RAwq49EROQtVgD9wH9BUDhRVx9ZcSQico3f36wAhq1TJSX47poROFVSEupboQjBphMi\\\n",
              "IvIWA2CYOvHKq2iqqMCJV14N9a1QEBkN27Z2KPfWnFuxbvw63Jpza6Bvk4iIogwDYJjqfM/diMvK\\\n",
              "Qud77g71rVAQGa0VyPUDiYgo2BgAw1SHggJcuHEDOhQUhPpWKIj6d+mPGEsM+nfprzymHsoNdGMH\\\n",
              "G0WIiAhgACQKqdJjpXBIDpQeK1UeUw/lBroayOoiEREBDIAURGxk8cxT44ZRhTCYr0dERObAZWD8\\\n",
              "wDZy9767ZgSaKioQl5WFCzduCPXtRCSxtEuMJQazB89WGjzeLX8Xr33zGu669C42fRAR+Yjf36wA\\\n",
              "UhCxkUXmz7y7uy69CzGWGDgkBxtFiIgoYOJCfQMUvToUFLCJBc5hzZfKnThGnCPcdeldTo8RERF5\\\n",
              "ixVACgqzzP/zprqnnnfnqnLn7jq35tyKK8uuxPH/Pa55TL/mX3FxMYqKitjpS0REHjEAUlCYZSFr\\\n",
              "X4diXTVhuLtOUVER5s+fj2nTpqG4uNjwusXFxZg2bRrmz5+Px+c8zuFhIiJyiwGQgkI//8+XimC4\\\n",
              "Vw/VFTZvumrV4c7Vbh13XXoXbAk21DTWaCp3IvwJRiFQhD/hh/d+wNmPznJ4mIiIXGIApKDQL2Tt\\\n",
              "S0UwnKqH+uHUd8vfxcIdCz0GOjVvl1453Xga9ga7UrnThz9BHQL14U/44b0f8O2qb71+n0REZC5c\\\n",
              "BsYPbCP33qmSEpx45VV0vuduj40hvhwbbGIZlq4pXbFu/DqXy7IA/i3NIq4LABZY0H5Te3y28jO3\\\n",
              "5/Tp0wd79uxxe8z4wvGoHl7N5WKIiFT4/c0KILUBXwNdKLfB01f89NU78bM+/AHO8/h8acYQ17XA\\\n",
              "AgkSDjQfcHlsLnIBQAl/4mcjZXVlnA9IREROGADJZ77O0RNDupULngzbeX2CPsR5M8Qr6MOiNw0i\\\n",
              "IiQCwLrx69C3U18AwFW3XoWlS5c6HT8Jk7AES1AAORwXoABLsASTMMnp2KVLl2L+I/O58wcRETlh\\\n",
              "ACSfnCopQeWCJ72eo3eqpASOmhrAYgGam8NiXp87nubruQt1+rDoa4MIAJysO6n8XlhYqAmBucjF\\\n",
              "ZEwGAEzFVKzGakzFVADAZEzWVALvnHMnPsz4EAC8DrBERGQeDIDkkxOvvAo0NwOxsV7t8HHilVfh\\\n",
              "qK5GTGqq064g3lYS1cd5OsffDmJPFT9vGzrczQd010V816V3ITUhFafqTmHoqqE4dOkhXDzlYgBA\\\n",
              "GcqwHMuV69hgU/68HMtRhjIAcuXv8GWHOfRLREQusQnED2acROppPp/+eXfHe7tXsPo4AG7PCZf9\\\n",
              "h/XNI94+p34egDIncP/s/ag5UgMAWI3VmvBXjWqMwzgAcmPIt99+y72CKex8vX4NPl/9PgaNG49+\\\n",
              "114X6tshkzPj97ceK4DkE3WDhr7aZjQ87K6hw9u9gsVxyf37w1FTgxibzeU5wdp/2NfdNdxVCvXP\\\n",
              "GTWeWGABAFhjrTi76awS/gpQoAl/gFwJFHMC9+zZg+LiYp/mLhK1hc9Xvw/7iWP4fPX7ob4VIkIU\\\n",
              "B8BFixZh4MCBaN++Pbp06YJx48ahvLxcc0xdXR0KCwvRqVMntGvXDjfffDOOHj0aojuOPPr1+nwd\\\n",
              "Hva221ccd7a0VB5OTklRztGHUF87iF0NGetDma8dvu4CmPo5/bqC4vknhjyBrildcdl/L8MPK38A\\\n",
              "IM8BFHP+ALnyJ0zFVGUO4LRp03D+Hee7DavcLo7a2qBx45HauQsGjRsf6lshIkRxANy8eTMKCwux\\\n",
              "fft2rF+/Ho2NjRg1ahRqamqUY2bMmIF//etfeO+997B582ZUVFTg17/+dQjvOrLoq23i58w5T2gq\\\n",
              "hEdmPuxyXp4+gBUVFbnc7iy5f38gNhbvWuTjgNYtGq1+TVfn6wOfqw7fhTsWahaJ1i8aPer9UXhs\\\n",
              "y2Muw9Zr37wGh+RAjCVGUy28NedW3Hj0Rry+4HXlsTKUYSVWApDn/I3DOGVO4EqsVOYAAsD+lfsx\\\n",
              "79l5ys+eAi2R8PX6NXi18E58vX5NQK/b79rrcHfx6xz+JQoTppkDePz4cXTp0gWbN2/GsGHDUF1d\\\n",
              "jfT0dPztb3/D+PHyv0j37t2LPn36YNu2bRgyZIjHa5pxDoE3a/qJYxw1NXBUVwOxsUBzs+G8PPWc\\\n",
              "vb8Ou0rZ+WLp0qUoLCx0Ovat3bvx5DG5Sjtv3jw8cPHFPi8arX7NzvfcbXi+pzl0onI3YmcTbt5h\\\n",
              "Qd8Hn8Bv4l7XLBL90pcvobqhWpnHZ4EF7RPaI79bPkqPlWrCpP51XO3wAciVQHXY0/+sduecO7Hi\\\n",
              "Dyuc5h1yjiC58mrhnbCfOIbUzl1wd/Hrnk8gikBm/P7Wi9oKoF51tTxc1rFjRwDAzp070djYiJEj\\\n",
              "RyrHXHzxxejevTu2bdsWknuMBEYVM30V79jiF9BUUQGpvh5xWVlIHTPG5bw8UTV8rWMHpz1vn73z\\\n",
              "Ts11V/fsoYQ/AJg/fz5e3LvX50Wj1ZVLV0PGnubQ3ZpzK8b0HINx2xzoWCUvb3PXpXchxhIDh+TA\\\n",
              "a9+8Bgnyv62ssVbEWGIgQYK9wY61B9Z6rL4dP37c5XMi7FmzrJqfjWzauwmAcwWTcwTJFQ7VEplD\\\n",
              "XKhvoC04HA48+OCDGDp0KHJz5XlSlZWVSEhIQFpamubYjIwMVFZWGl6nvr4e9fX1ys92uz1o9xyu\\\n",
              "1BUzQR0K1UHKYrU6VfxOlZTg2OIXAABdZjyIDgUFeHHvXjxjsOfto2+8AXuXDEx85VX87eef8egb\\\n",
              "bzgdI0KjGBL2RoeCAp+qfUbeLX8Xaw+sRWNejFwBvOdu5VxxLf2fX/ryJUiQNBVA9VCs+rXF+zHa\\\n",
              "CxgAek3uhXbD2+HE/57AT2//ZHjM+becj0ULFgGQAx/DHnmj37XXcZiWyARMMQR833334eOPP8bW\\\n",
              "rVtx3nnnAQD+9re/4Y477tAEOgAYNGgQrr76ajz99NNO1ykqKjL8QjZzCRloGfJN7t8fZ0tLnX4X\\\n",
              "YVEzLAw4Dfu6cmHHjvju5Em3x8ybN8+nEKhmtCyLOhTuPLoTaw+sxZieY/D0MPnvRf6qfFQ3nHsf\\\n",
              "ljikxKfg/ivud9ob+MUvX0RDcwMSYhM0wU8c9275u3j2i2dR31yPvp364mTdSc3zRn/nLp5yMeKu\\\n",
              "ikNqQipS4lOQvStbM1cQAM779Xk4/PfDrfo8iIiiHYeATTAEPG3aNPzP//wPPvnkEyX8AUBmZiYa\\\n",
              "GhpQVVWlOf7o0aPIzMw0vNbjjz+O6upq5dfhw+H/BevvwsjeXEfdpdtUUYGzpaWan0+88qpSJQSA\\\n",
              "GJtNWcolPT3d5WuKrlYR/tzteevuOp4YLdmirsytPbAWDsmBtQfWKs+L4V0AaJKaUN1Q7TSk+9o3\\\n",
              "r8HeYEddcx3sDXZ8vP9jp8aRW3NuRYOjARIk7P55N36q+QkvffmS0rTRd0JfzJvX0syRdXuWsr3b\\\n",
              "A1c8gHXj12HFH1ZodgxJvzEdmTdlssuXiIhcitoAKEkSpk2bhg8++AAbN25Er169NM8PGDAA8fHx\\\n",
              "2LChZYiyvLwchw4dQl5enuE1rVYrUlNTNb/CXWu6ZFt7HfV6fd9dMwLJ/fsrc+3Ec+3y8xGTkqIM\\\n",
              "/xYWFuKZO+5wupave96KhpHWBF6j+XDqUDim5xhYYEFCTIISqB644gGkJqQiMTYRibGJsCXYcNel\\\n",
              "d+Hd8neRvyofQ1cNRf8u/ZGa0PJ3JNYSCwBwSA68+OWLyuNjeo7R3E99c72yNMzCHQvRd0JfXDn5\\\n",
              "SmTdnoXb7roNt+bcqgwfi/sR28aNLxyPy2+7HNZYK7t8iYjIpagdAv7d736Hv/3tb/jwww+Rk5Oj\\\n",
              "PG6z2ZCUlARAHhpes2YNVq5cidTUVEyfPh0A8Nlnn3n1GpFQQvZlZw5frnNk5sOwr12L1DFj0O1P\\\n",
              "z2mOLR88RF6vz2ZDzo7tmmtUzv8DIElOz827KAd/+O6/AORK3xIsUZ6rRrVm8ePpmK40Psy98CLM\\\n",
              "/2/L+o76nUBa+34B7TCwqAiKUCjm8z1wxQOa4KgeGk5NSMWnEz5VrnO28azynC3Bhq0TtmpeS1wT\\\n",
              "AOwNLfNLjTp31fezbvw6PLblMWWYekDGALz45YuwwOI0LE1ERJHx/R1sUVsBXLZsGaqrqzF8+HB0\\\n",
              "7dpV+fXOO+8oxyxevBjXX389br75ZgwbNgyZmZn4xz/+EcK7Dgx1FUzf5draiqD+Ova1a4HmZvl3\\\n",
              "L5145VXAxb83HvzDfMy98CIA3u95O/fCi/DgH7Tz4/RrE/pTAVUPA6srgq998xqqG6phb7BrKnmA\\\n",
              "dmhY7OYhKoxDuw2FBRbEx8RDgqQZnr0151ZsnbAVn074FA9c8QC6pnTFdb2u0wxNv/TlS8oQsX7Y\\\n",
              "Wj1MLYaexXvgMDAREelFbQCUJMnw1+TJk5VjEhMTUVxcjJMnT6Kmpgb/+Mc/XM7/iyTuQo+3W6V5\\\n",
              "GkpNHTMGiI2Vf9fpMuNBxGVlocuMB51eW8z/6zLjQRyZ+TD2XJKLIzMfRoeCAsz/bzn69OkDAChB\\\n",
              "iWanC0CuBJZAvp8+ffpg/n/LnXYEAaAJqt68X1fvVYSs/l36a7qE1Vu1id/FnL38bvlITUiFLcGG\\\n",
              "od2GaubhlR4rhQQJzVIz7A12zfCseugYANaNX4enhz2tGZoW4VKC5DRsPabnGMRYYjCm5xjlviVI\\\n",
              "SoDlzh8UKMFaKJqI2lbUDgG3hXAtIfsz7CkYLZZs1N2rv76+I9jVPZwqKUFlUUv1LrNoHv7288/K\\\n",
              "4scFKNBseyYsx3IlBKrn/umHflv7Xo3O9dQlfGvOrZpjRJWwprEG9gY7bAk2JMcno3+X/ig9Vqr8\\\n",
              "ru72HbpqqFK1Uw8Pq18HMF402hX1sHDpsVKn90DUGlwomqJBuH5/t6WorQCamTf74bqr8J0qKYGj\\\n",
              "pkbp1BUVRfvatZrfjSqM+mOPLX7B8HXEWoDC4lmzlPDny563Yts4byubgroiJs49eMMVhlUyoy5h\\\n",
              "UYEDgIFvD8RPNfJafKJa+FPNT7DAoqnEidCnDn/iPmqbapVri0qffp9gV4s3u9pyrvRYKRySQ3k9\\\n",
              "/Xsgag0uFE0UHRgAI1xrl3lxN0x84pVX5SaOlBR0KChQApLY0UO9s4f+9fXHAvA4B+9vp05hwcGD\\\n",
              "ys++7HkrdgwRVccTr7zq1Wehnt8nAvMz533ttEwLAE3XrT5kvfjli6hrrlOOVYet+6+4H+vGr0N+\\\n",
              "t3zEWGI04VAM/4qfmxxNyjUssOCxLY9h4Y6FhvsEu3ov+h1G1KFPHVg5FEz+4J6+RNGBATDCtbbJ\\\n",
              "wV3FTP+cCEjd/vSc5vcOBQUuXz954C9w4cYNynxA/euIx//RLUuzvZvwJt7EdExXhntLUILpmI43\\\n",
              "8abTsY++8Qbe2r3bbWVSz6gipt/KTU0fsl788kUMfHugpls3MTZRE7ZEpc5dJa5/l/6IscSgb6e+\\\n",
              "6JrSFakJqahuqMaa/WvgkBywwILZg2drqoWuKpRjeo5R5iyOen8UADhVDPUB1BPOHSTO+SOKTgyA\\\n",
              "Ec7XoU/BaJjYVSOFO8n9+wOxsYjr2BHfXTNC2QdYhDD965wqKUH54CE4tvgFdL7nbjRedZXLa4tK\\\n",
              "n2gMcbfnbVVykts9h/WMhlNvzbkVswfPNhwq1YeshuYGTeUvNSEVjwx8BIA8ny9/Vb4SmvShr6ax\\\n",
              "RlnsWYTDw6flRcVFtVB9XfUWc0bhTbwX0TQi5vsZhTxfh4J9DYwUvlob5D5f/T7sJ47h89XvB+nO\\\n",
              "iCgU2ATih3CeRNqaRhBvGin01xXnIDYWaG6Wu3xTUjTLsKjvQawRCMg7ggDAkh9/RHHFEcPXE40e\\\n",
              "z955p+FewEDrt4ETDRZGTRmeqJs2EmMTUddch64pXQFAmQ+obgjRN4vonz9Vdwp1zXWwJdhw/xX3\\\n",
              "G67j5+2exa6Oa+2ex76eQ+Hj6/Vr8Pnq9zFo3HglyPnavKG+Bod9KVqE8/d3W2EA9EM4/wVyFebc\\\n",
              "BUNXz6k7e+1r1mgWcnbX9Wu0KLNYCBoWC2JSU5UwuPTECfz55xOa+xHr/Ik9hN8+cMBpuPjRm2/G\\\n",
              "0++3rjIhwpgY9vWmQ9YoNALQdOqqw5t+wWaxP7A+3IlAKRaPDgajbmaKPq5Cn/jZVZBj0CMzCefv\\\n",
              "77bCIeAoI4Zx1duwqbmbM6gerlU3d6g7e8VCzlJDg2a4WD0vUDBalBmSBMTGInPeXHSZ8SAsiYkA\\\n",
              "gGmdO+N3nTop58698CLc86tfoXLBk8oewhMvuUSzbdzvOnXCXSdPtfqz0g/rqodFXc19E4Gu9Fip\\\n",
              "EqJEIBTDpJ9O+BRbJ2xVmkfEvLz8Vfl48csX8cAVDyjPC9ntswEAZxvPKq/p6h70j3s7T8+b4V/O\\\n",
              "+Yt86iFbdceup+YNDvUSmQsrgH4Il39BqCt3Iqy5Gsb1Zmj4VEkJKhc8qQzpCu3y83Fma8v2ZY7q\\\n",
              "ap/W3TN6bWUIGQAsFqy8pC+6X301CgsLNcPLmXOeUM4pLi7GoU8+wV0nT3m1NqHgy3Cm2NLNaMs2\\\n",
              "oyFdT1VEV0O/4jr93uoHh+TQPC+6gPXX1K85KI4T6w36M1zLKmHka20lz9N5rBBSNAmX7+9QYgD0\\\n",
              "Q7j8BTJatDkQi0AjNhYx7doZBj310K8IhWLnD/3ew2LNvy4zHjQcdj62+AVI9fWwWK2aY9SBUX9d\\\n",
              "o3tFc7PbQOpLuPF2SNbbeYSPbXkMH+//GLGWWCTHJwOQ9/uNscRg9uDZ2Hl0Jz7e/zGssVZc0/0a\\\n",
              "ZWs3Cyxon9Bes+ew0Z7AMZYYtItvB3uD3a/w5s+8SGob7oJYMEMaF4CmaBIu39+hxCHgKKAeavVm\\\n",
              "EWjA/fqB4nqZc55wuYyLcGbrVjiqq+GorkblgieVLmCxAPSxxS8oz4vHjsx8WLNXcc6O7Yjt2BGO\\\n",
              "6mqnoWlHTQ2OLX7BqbtYfa+WpCSguRmWpCS3HcC+dMCK/XgfuOIBANqhUfWfRQfugIwBmvP1Q6li\\\n",
              "GzgHHLA32NHQ3CC/P8mBhTsWYkDGAOyatAtf3PaF0hkstpnTbxun7mAW72n24NnKPfuz2LO4trtO\\\n",
              "Ygotd0O1gR7GVXcOcwFooujCCqAfIvlfEL5uneaq+zfGZoPU0ACp9txOFnFxQHOzMlcQFgssVitg\\\n",
              "sUCqq1PmAOqrdZ6Gh9XdxfoGFWVLudhY9NnteqkYf6irhwCcKon66qJ+mFY0fgztNhSlx0qVbeIE\\\n",
              "o23mxDGiStiazt/WYvdv+ApEBdDb41j1o2gVyd/fgcIKoEl5s36gUSOIqOIl9++vzA+0JCS0nKQO\\\n",
              "fwAgSYjt2BGxHToo4c9ovT6j9QIdNTWwJCUhxmZDlxkPGlY21RXBxHPrBbqqbvrT4KCuHhpVEsWC\\\n",
              "zv279Ncc379LfyzcsRD2BjuS45OVSmF+t3x0TemK63pd53KbOVHR8xT+gMCv1+dq2zkKPXfNHN7u\\\n",
              "0uFtpTAr52JYYmKQlXMxgJaK4L23/19lG0ZXiouLW7U8ExG1jbhQ3wCFRoeCArdNIGLpFTEsK+YW\\\n",
              "Ompq0FRRgbMAYlJSlCqgJTERUn09Ei+5BA2H5UWN2+XnK40ZgPMcPhHUjOYriu3o3M09FM0f9qNH\\\n",
              "geZmNJ08qWlgOfHKq5rrqkOSp2Cjr4CJX4L+fPVuH+J50SSi3s5N3AOOweM8Pf1ruqNuKjG6f2+x\\\n",
              "8hd+gjGvT70kjDsV5XshORyoKN8LQA6O723aivXffge8/TcAQGFhodN5xcXFyt7eABgEicIQK4Dk\\\n",
              "VDET1T4ATnML2+XnA7GxSO7fX6kidpnxIGI7dgQkCU0nTyJnx3bk7NiuWRrGaG6iuyVp4jp21Pyu\\\n",
              "P0ds+3a2tBSZc57QNMCguRmIjXWqbvoyB9DXipqra6vn6Knn7PkzT8+IvmLX2oogd/4IP4Gc1ycq\\\n",
              "eD/uMZ4qod8tRD/vb6e9Xg5/50ybNs2pEqgPf/Pnz2cAJApDDIAm4K7hA3AOYupgpw9tZ0tLgeZm\\\n",
              "nC0t1YQ6V0PKYuu38sFDnF7f3TB03Z49mt/156iHkY3uQ71sjODLsOZdl94FW4INNY01Xg0Zq69t\\\n",
              "1CTS1tW01gbNYAVUar1ANV98vX4NNrz+MuwnjqF821bDUKkPm+oh5aKiIiw/V/VTU4dAffgT9CHQ\\\n",
              "aFs67jlM1LbYBOKHSJlE6qnhw5ulWjwtx+LqWDEcC8CnZWqOzHwY9rVrkdinD5pOnvRrWZvWau2a\\\n",
              "eO7O0z/nacg1GEOyHOY1J9HQAQAZ51+AWrtdCZXq4WCj4eaioiLMnz/f7fXP756NHw4ddnuM2LbR\\\n",
              "qLmEDSfUliLl+zuYWAE0AU8NHx0KChCTkmK4DAsATQOIq63iRJVPvVyLMhxrsSDGZtMsVC1ex1V1\\\n",
              "stufnkOf3WVoOnnS5TCxu/MDIRhVNH1l8aUvX8JPNT/hpS9fcjr23fJ38eT2J/FTzU949otnW9XA\\\n",
              "YtT44mqYl7uAhCdvK2Oejhs0bjwsMfJ/8mvtdqWyp676uWoiSU9Pd/m6ucgFACX8iZ+NiOsYVTW5\\\n",
              "zAxR22IANAFv1gZ0FxLFcwAMw5ho2BD7+sbYbHDU1CidwmK7N6PXcTcP0NN9qc83WmPQHW+CY2uH\\\n",
              "b92dd2vOrZAgwd5gx4LtC1DdIH9mEpwL8a9985ryeF1zncug6I5R2HMVUDn/Lzy5mgOoDnzq4V1X\\\n",
              "x/24pwzW5GQkprT3OXgVFhZi6dKlTo9PwiQswRIUQP5vSwEKsARLMAmTnI5dunQpCgsLXTa1eNvB\\\n",
              "TESBwQBIANyHRPGcq0WhO99ztxz0kpKUxxzV1ThbWoqYlBRItbVKdVHM0zvxyqs4MvNhOGpqlOqg\\\n",
              "r/clXlsdTkVziKtAKXgKnp74Uy0Ti0ALMZYYwwWn77r0LqQmpMKWYENirByijYKiO0Zhz1VA5fy/\\\n",
              "8OQqoKmD4eer34fkcMASE+PyuPJtW1F35gwSkpK8DlnqkJl/US9MuGqI8lwucjEZkwEAUzEVq7Ea\\\n",
              "UzEVADAZkzWVQBH+9PdNRKHDOYB+MNscAk/7CKsXhxaLNgNwml/oy/Zt3r6+fnkYd8d4M5fRE3/2\\\n",
              "zBXbzAFAakIq8rvlK9uuiSqc/rpiKzlrrBWPDHyEc/dIU0kDjOfuieO2lryFpoZGxCXEI79gIn7c\\\n",
              "U4a9n/0/xCUkABLQ1FCPxJT2KHx9lea6Iqyldu4CALCfOIZP9x3EBzvlLuICFCihT205lqMEcnVd\\\n",
              "Hf70981qH4WK2b6/jTAA+iFS/gJ5Cm7enqssDxMba9hlK46N69gRdXv2IHXMGHT703Mur6kOa4Dx\\\n",
              "OoHq48S6hN4GRj1fdz9xx59GCv25+l1DjK4rjgHQqtBJodXa0OPLeeLYpNRUHDvwA3Ly8jH2/kcB\\\n",
              "ODdYPD/hBkgOh+b8OKsVye1taKitRV3NaaXq+Pnq95GVczEOfFWKpia5ev3UP/8XldXyP2JWYzVs\\\n",
              "sCnXqUY1xmEcACA7owvm3DyWYY/CTqR8fwcTh4BNwNfhTqMdQJTK2bmqnf5a6qBYt2cP0NwM+0cf\\\n",
              "Gc6xE8O66nUCje5Rv+afVF+vrEHo7p5d8Wb3E1f0Q77+LO+iP1cM9Z5tPAsALodnbQk2pCakahZ7\\\n",
              "ZtNGZGjtsKcv54ljj/7wPSSHA+XbtirPiWHkpNRUPD/hBrTr2El5Li7BitTOXRAXlyB3CVskJfyJ\\\n",
              "eXkV5XtRV3MazY2N2FxWroS/AhRowh8A2GBT5gQePnoMH2/7nMO9RGGIAdAEfA0++tCnXm9Pveiy\\\n",
              "0TmVRfMRl5GheVwQIe3IzIed1gY0ukf9mn+wWIDmZpzZ2vLFJq5bueBJj93C/gz5BrNB4tacW5ES\\\n",
              "n4LqhmqX178151ZsnbAVn0741O/FnqnttbbDVZyXlXOxx05gcWzG+RfAEhODLj3PR/GdE/DixJux\\\n",
              "ddVfMGjceBw78AMkhwNnTv6MkXf9Dqmdu2D4xCnKfSW2a4f8golOzRji2t81xeCD0t0A5DmA6uHf\\\n",
              "alQrf56KqcocwA9Kd+PLYyd9et9EFHwcAvZDtJWQvZlH5+7cyqJz64SdGyLWBy793D8APg3Hlg8e\\\n",
              "Akd1NWJsNuTs2K48rr6u0dC0+pjWDv8Ge+281lyf6/mZh3oIV72Nm7thVfW6fwCUUKgfHhYdxKKJ\\\n",
              "ZMSd9yrXVQ9Bl/zzf/DU0mWa15iESZiMycqcPzEncCVW4k28qTl21rT7sGjJnwP1kVAbKNtyBF+u\\\n",
              "PYArxvRE7rBuob6dgIq27+/WYAD0Q7T9BfI3JInFm13N/RPPx2VkoOmnn2BJTETGY496HTJdXd+b\\\n",
              "6p6/FUCBoYtCwVVjhrsFk79evwZbV/0FDfW1cDQ1AQASU9rLT1ok9Ox3BSrK9ypz/gT1dYunFKDu\\\n",
              "zBnsOPQT3tv+peHr5CIXZShz+bOaviGkLbDppPXe+v2nOH2yHu07WjHxj0NDfTsBFW3f363BIeAI\\\n",
              "EcwFjwVPQ8We7iF54C8Ql5GB5IG/MDzXvnYt0NyMpqNHAUlCbIcOHsOY+jXV29Cp6ZeKMbpPb9ZC\\\n",
              "9AaHXSkU1GvkqYeTv16/BsVTClB85wSn4eF+116HwtdXoV2avJ+2JSYGsEioqzmNujNnsPfTLbCf\\\n",
              "OIa6s2cQExsHQG4E0QxTSxYAwJm6epf3JsJenz59ND8bOX78uO9v3k9cdqb1rhjTE+07WnHFmJ6h\\\n",
              "vhUKAgbACOHvunXeUIckoxDl6R7cPa/sChIbq9nH1xP1NZP799c0gbgKpL58Vr42UujXymMjBgWb\\\n",
              "focPdRj8fPX7qDtzBnU1pw0Dztfr1+Ds6WrAYkFOXj7yCybKVUCLpeUgSYKjWa4QNjc2aqpk+RNu\\\n",
              "R2rnLlj0zDO4/heXu7zHpUuX4ttvvzVcLFqYMGakZj/gtsIdRnxTtuUI3vr9pyjbcgS5w7ph4h+H\\\n",
              "Rt3wL8kYACOEPx2srWEUolzdgwhiyf37e9xNJHPOE5ruX32IU28rd6qkRPOa+gqgq6Dny2fla0VP\\\n",
              "38HLiiAFm7sK1qBx45HYrh0SU9prGkU+eukZPD/hBmz6ywo01dcDkoSK8r1KVXDklPuQ2rkLLh46\\\n",
              "TNkeDgDadezkMmw++ceFhiFw1rT7lGFdVzuGXNv3Qlx9frbys7fb2wUCdxhxpg55el+uPYDTJ+vx\\\n",
              "5doDbX9j1KYYACNEoIYwvWUUolzdgwhiZ0tLPQ7F6ulDnHpbObFziLim/p5cBT1fPit/d79ozfnu\\\n",
              "qoasKEYXX4KOq2PdVbD6XXsdCleUoPD1Vago36sExfJtWyE5HGhqaFACovp8EYrG3v8ocvLylcfP\\\n",
              "nPwZ9hPHsOmtFXh+wg346KVnNK835rIc/PLyS5Sfb+p/Cc531GmO0YfAqbf9FjcOHoCGurPKe2vt\\\n",
              "sGxbBsdo5i7kcdjXPNgE4gdOIpWdKilx2u0D0DaVAHBqMDky82HY16yBxWpFxqzHlIqg0bWiibtd\\\n",
              "RPzZYYTCj34BZn+PddfQoH7uxz1lKN+2FTl5+TivT67bJgjxupaYGOTk5ePAV6VKU4glJgYPrfqn\\\n",
              "5jgAWLf7O5zfpw+u6NLR5XWLi4tx/PhxFBUVOb03/fvwtlHDl8+TtNQdvQC87u7VdwJHS2cwv79Z\\\n",
              "ATSFYDSQqK/ZoaAAMSkpStVOUFfojKp19rVrAUmC1NioBL0OBQXI2bEdOTu2hzz8Basa565qyP14\\\n",
              "o4sv88+8OdaociaqYj/uaWm+OK9PLtp37KyEP3fVNjGMbE1KAQDUnT2jPCeqg1+vX4OG2lrEWa2A\\\n",
              "xYJRl1yIK7p01Aytfr1+DYrvnIDiKQX4ev0aFBYWKnP+9O9NPSwrlqHxpiLI+XytU7blCLaUlCtV\\\n",
              "P1/m9umrhRwijh6sAPohUv4FEcgt0Fxd09MSMEaMzgnUci2B4Gs1jkvEULAZVcqUypzFAuj+c65e\\\n",
              "9iW/YKLL6pq6Cii2iEts1w6FK+R/NIrlYOKsVsTFxwOSBT0v74+K8r3IyrkYFeV7cfZ0tTzfUHeu\\\n",
              "J+rXVq9B6Or9hpNAVcP8uY4354rlXCwxwLCCHJ9egxXA6MUKoAl0vuduxNhscNTUBKwKqO/IdbVE\\\n",
              "izvd/vQc+uwu0wTGtuh29pav1Tg2hFCguesAFkRVLC4+QXOuetkXQK4equfOiWt/9NIzaKg7i8SU\\\n",
              "9ujS83zAYkGc1Yr8gonKMU2NjQCApoYG1J05g4SkJGXOYfm2rbCfOIamhgbl2k0NjS7fg/7xrJyL\\\n",
              "kdq5i1P4E/cczku4BKoa5s91vDlXzOvzNfwZYWdw9GAANAFXQ7R6vgwV6wNfoLqU27rb2R1f9/t1\\\n",
              "FRjZ2GEu/jYqqM/3FIDUFbLhE6cgLsEKQF7Pb8Sd9yK/YCJSO3cBJIvmOuph1/JtW5VQV2u3A5KE\\\n",
              "5PY2ZZkZ+4ljiItLkLeZ69UblpgYZOVcrATPnLx8uaP4yquU5WXiEuKVe9xa8hbsJ45ha8lbmvsW\\\n",
              "r19Rvtdll264D/kGqmHC1+uou3iNztV3+foT2jjkG704BOyHSCohezO06stQcVsN1Xr7OuE0dKzH\\\n",
              "xg5z8bdRwZdt37x9Lf1QavGdE+TKoMWCi6+8ChXle52aR8be/6jTeeL1Etu1Q0JistN9fb1+jRz0\\\n",
              "JAvyJ9yuea3ElPYofH2V5r6Nhn3JM087dARyB49oGfLVi6Tv72BhAPRDtP0FCscQ5W0oDcY8x0Dh\\\n",
              "3EBz8Xfemi/ni2PFPDxP54jjxXw99Vw99Z7A6kBp1F0cGx+vzPeLs1ox/PYpTnMSXXX8BuIzMisR\\\n",
              "xjJ7p6FyX5XLUOYqtEVrmGuNaPv+bg0GQD/wL5DvfA2Z0VABJAoUV8HJ20qgumEkMbmdUqUDWho9\\\n",
              "YLFg5JT7AEATFsU5opqn3j9YnOPLki7kO0+VPXdLvRQVFeGHbXYM7nW9y/PVS/dEO35/A3GhvgEy\\\n",
              "F9HkUbngSQDwGNY6FBR4Fei8PY4oFAIVitRzAvWNIOL67gwaN16p8iUkJWnv5dy+v4nJ7TTDvS3P\\\n",
              "S4BFOreVnISY2DhlCzlIEjb9ZQX6XXud8ssfDJHGrhjTUxPw9PTz9cSf39/4KubPny8fNAp49Lcz\\\n",
              "nc4tLi7GtGnTlJ/NEALNjk0g1KY633M3EBsLNDeHRacvUVsIVDerq6aIftdep4RAd80n/a69DiPu\\\n",
              "vBepnbtoto4DgJ6X94clJga2jAylO1e9TRwsFvTsdwUSkpLONY0ktiwzA2i6gP0V7t2/bcVdM4fR\\\n",
              "dm6iISSzdxoa6pphTY7D9p/+3hL+APxl3WJs/ma15nX04W/+/PkMgCbAAEhBpe4sFsO0qWPGhE2n\\\n",
              "L1FbCFQ3q7t9bb0NTeIa6q3jAKCifC8khwPHDvygdOeKsJiY0h6QJJRv26os25JfMBGFr6/CxUOH\\\n",
              "yReWJKet41or3Lt/24q+oqcOfUbduSIgHtr9M+rPNuEfW1Zg2crFTtedNm0aiouLAQCzZyzUhD9h\\\n",
              "/vz5+N0dDwXlfVF44BxAP3AOgWeetoMjIu95uxWcN8Om+o5dAC4bSlw1iAjPT7gBksOh2Tou0O8v\\\n",
              "2pRtOYLtq/cBAIaM6+1VM4d6DqB6OFicK46vPd2ID7e9gY93vuV0TbXze1yIHw5+5/aY+ybPwJ/f\\\n",
              "eL6V7zJ88fubcwApiE6VlMBRU4MYm02p9olGDVfHs5GDyDVXcwAB+Dz3Tr3O3+er33fa1k1UBtXX\\\n",
              "dTXPMCcvX1k+xh/u3l+0+XLtAdSfledQbikpBwCnEJg7rJvmMX3o0x8vqoLW5Dh0SO3o8rVzkYsy\\\n",
              "lCnhT/xs5EyF7++NIgOHgCloTrzyKhzV1YhJSVGaNC7cuMFluAunXUCIwlEgh0bF/r6J7do5zQc0\\\n",
              "Gk52Nfz89fo1ynDx2Psf9eueImHo12juXWtcMaYnrMlxgAWQHPBqoWVPCzqLOYBDxvXGXzcuxu8f\\\n",
              "fNLpmEmYhCVYggLI/x0uQAGWYAkmYZLTsbePmoFHZzs3jBgJ1OdCbYdDwH5gCVnmqnIXrCVfiMg7\\\n",
              "X69fg62r/qLsBQy0VPFEyEvt3AUAnNbu0y/o7Iq/C19HkrItR7ClpBySAwFZZFlc09Xafkbr9umX\\\n",
              "evE0jKxu8MhFLpZgifJcNaphg035eTqmK5XA3z/4JHKShnu9ZmAgF59uC/z+ZgWQAsBV5c5TxU+N\\\n",
              "4Y/If/pt6D5f/T7qak6j7swZfL76fU1lT11t01fe+l17HRISk1FXc9pjU0mgq3bq9+DvtnqB9uXa\\\n",
              "A5AcgCUGPm//5qpCJqp6lfuqnJo6Pn3vO5w+WY9P32uZp6du/hDDyPVnm/Dl2gOGr1FYWKhUAstQ\\\n",
              "huVYrjynDn/LsVwJf0uXLkVO0nCcPlmPLSXlXlX1ArUtHrUdBkDyWyD27+XwL5F73oQh/b67g8aN\\\n",
              "R2JKeyS2a+cU9NRLx4hj1cvIeBvs1EPDgQhs6pAabsvBiJAzrCDHZdOGq2FQT3vqGgWopiaH/Huj\\\n",
              "w3Dv3yvG9ERcfAxgATJ7p7l8jYWLZ+P8HhcCAEpQgmpUa56vRjVKIO8Ic36PC1FYWIgrxvSEJcb7\\\n",
              "4WlvPwcKH2wCIb8FYhHmzvfc7bZBhMjsvGqQOLeYs/jdqDFE/bM+YKmv35oFnVvTxKHv/NUvau3N\\\n",
              "AtdtxajxQk0dwNTHrVuxG6dP1SMuPsZlhUwcrw5bcXExaGpyIC4uRrmufg6geE0xfGy0UHRxcbHS\\\n",
              "8FGAAk3lD5ArgQUoQAlK8MPB71BcXIzCwkLl+t5U9cR9bCkpR0JinFKVNPuWc+GMAZDCAnfyIHLP\\\n",
              "m90+8ifc7lNgMgpboiHEl6VYxFzDpqYGJKa0d7qGOuSpX6eifC8aamuVoWaj4BlJ3cCuAtj3O48C\\\n",
              "EtDc7HAZiNTzC0UIbGp0OC35YvSa21fvQ0NdMwA4zb/TzwGciqnKc+o5gFMxFWXn/k8c/38uHefT\\\n",
              "exf3D4DDwRGATSB+4CRSIgo0b9bCC+Z6ed42dajvQVT+AMASEwNrcjLqzpxRrqG+JiBXGi0xMZAc\\\n",
              "DiS2a4eExOSoXvvv3UVf4PjB00jv0R63Pj5QeVzd0CEqaJYY4IIBGTi0+2cALc0dRg0hgmjAsMRA\\\n",
              "GZ4u23IEi4qew98+eUFz7CRMwmRMxnIsRwlKUIACTMVUrMRKvIk3NcfePmqG272D9dzdY7jh93cU\\\n",
              "zwHcsmULfvWrXyErKwsWiwWrV6/WPC9JEubOnYuuXbsiKSkJI0eOxHffuV8Qk4go2LyZ9+bNMa7m\\\n",
              "43map+ft3D/1PWTlXAxY5GFnyeEAJIvmGkYNJzl5+cqOIq52N4kWdaflbfJOHD6tmRenHjLO7J0G\\\n",
              "WIDYuBhlJ4+ExFjN0LA4Vj/Hzmi+3jML/+QU/gDgTbyJ6ZiuzPkrQQmmY7pT+APkbeM++++/0FDX\\\n",
              "bDifb92K3fjz7zZi3YrdADwvU0PhJWoDYE1NDfr166dsd6P3zDPP4KWXXsLLL7+MHTt2ICUlBaNH\\\n",
              "j0ZdXV0b3ykRUQtvApg3x7gKiZ7Co7vt5tTEXsFZORfjwNdfApKEOKtVDnUTbtdcQ31N8eex9z8a\\\n",
              "McHP26YGV8e5aqhQN3RU7qsCJKCpwYHmc0O/mb3TlOtl9k6DJca42SN3WDcMK8jRDLu2y3Jzn+e6\\\n",
              "fUVjiKtFoAHgbGO1Mp9P7/udRyE5zg1xU8SJ2gD4y1/+Ek8++SRuuukmp+ckScILL7yAJ554Ajfe\\\n",
              "eCMuu+wyvPXWW6ioqHCqFBIRtSVvApg3xxiFRPXiz97ME3RXLRR7B1eU71WaTuLiEiIm1PnCUwev\\\n",
              "u+PEsOgFAzIM58U11DVj++p9SgUQAGLjY5yWhqncVwXJAaXZQ30t/dqAb/3+U/zujpmYN2+ey3v9\\\n",
              "/YNPYt5v38AtQ6e7PGbevHlYsHCBy/l8FwzIUIasxX2w+zdymLIJZP/+/aisrMTIkSOVx2w2GwYP\\\n",
              "Hoxt27ahgM0IRBThjLp4xbqAqZ27eBXStq76C+pqTmPrqr84HR/O3bqB5q4Jw9VxIpQ11DWf2/Kt\\\n",
              "ymkenXo7uO93HsWFv8hQAp7+ehXfVeFM1VFk9k5z6kbWB8/TJ+uxeVU5zku6BvdNtmPZysWa1126\\\n",
              "dCkKCwvPBbXf4MKBGfjjC09ojpk3bx6KiooAOG9RJ4yacglGTbnE8D44DBz+TBkAKysrAQAZGRma\\\n",
              "xzMyMpTnjNTX16O+vl752W63B+cGiYiCwF0nsX7XkH7XXgdYzvUIWpx7BSO5W9dXnpZ/MTpONGZY\\\n",
              "k+NcVtBEB299bZNS3VOHRHG9dSt247sv5GHWyn1VhtdRB9TNq8oBCag/24QhXW8GJkMJgSL8ae93\\\n",
              "KLIuSFO6f9Xhzxvq3UyAqlZ1/0ZSA0m0MGUAbK1FixZh/vz5ob4NIopiwezwdUdUB8Wf+117HfIL\\\n",
              "Jipbwql3FwlFx26oPpfWSmyfgNMn65GanqTp/NVLSIxF90s6KZU/oyCknmNnFK7UjSJXjOkJa5K8\\\n",
              "Dh8s545fezMODPgZnTt1UsKf/nXE48ePH/cp/InXPX2yHkZVTl+vweph24naOYDuZGZmAgCOHtVO\\\n",
              "XD169KjynJHHH38c1dXVyq/Dhw8H9T6JyHyCufuFu2vrdw0BnLeEC+XOHOG2K4gnJw6f1vxuRL2I\\\n",
              "s+ieVS+oLObSibl2Fw7M0OwJrJ5vt331Ppw+WY/tq/eh+yWd5ON/IR+f2TsN1w+ahOuHT1DOEa+z\\\n",
              "ffU+5bHCwkIl/Pkyny8Q28BxK7m2Z8oA2KtXL2RmZmLDhg3KY3a7HTt27EBeXp7L86xWK1JTUzW/\\\n",
              "iIgCKdB763p77X7XXofC11ehcEWJpsKmX8IlMaU9GurOtvn+vMH8XIJB3yBhxCj0XDGmJ2CRO4a3\\\n",
              "r94HQJ5r97s/X+Nyvp2eumFE/fOJw6eVcxLbJwAAGuuaDa/jbeML4NvyL572RGb1r+1E7ULQZ86c\\\n",
              "wffffw8A6N+/P55//nlcffXV6NixI7p3746nn34aTz31FN5880306tULc+bMwa5du/Dtt98iMTHR\\\n",
              "q9fgQpJEFMlaM6zq7ULRJCvbckQJcmJRZ/3z+iHf1x7aojSHWJPjMGRcbwDQXAeA5jz1dSq+q8L3\\\n",
              "O4/iggEZGDXlEs0cPbHAdH1tE3Du21+8hvregjUnT8yN9HZx6WDh93cUVwD/85//oH///ujfvz8A\\\n",
              "4KGHHkL//v0xd+5cAMCjjz6K6dOn45577sHAgQNx5swZrF271uvwR0QU6VozrOpPJc7TItTRSHT6\\\n",
              "ulpLT1TaNq8qx2sPbUHZliNywDu3JIw4b/vqfZrruKuYqSuA+iVixDXi4rRf/2KBaSFYFTkO9YaP\\\n",
              "qK0AtgX+C4KIIllbN1ZEa/XQXbXMmwqgfg/diX8c2lIFtAD/Z0KOEgDFz+q5gOrlZtR7B2f2TlMW\\\n",
              "a27f0YozVfXK61w4MANZF6YpXciQ4FdVLtK6ePn9zS5gIiJT0Yc+T8EvkCHR3TI0kcxdB6unJWTE\\\n",
              "cyIkik5gwHlodvvqfWhudCjH5g7rpgTDuIQYZfcQ9f7CIvDJS7RAWU7m0O6fUbmvCs2NDnko2GLc\\\n",
              "YRyIz4DCU9QOARMRkTNfh30jrfu2rZVtOYKGumZYk+NaHaByh3XDkHG9kZAYC6Bl2LihrgkV31Xh\\\n",
              "rd9/qhzb1OhA/dkmfPred3jr95/KAQ7yHsL63UPEFnSAPBw8asol+D+/lbeMA+QFo5ua5POtSXGt\\\n",
              "Dm6B+Ayo7TEAEhGZiK9z+ALZfRuNYVKEtYTEWL8qX+oKmnrv4O++OGrYjdvU6JADXKMD1uQ4dL+k\\\n",
              "E976/afI7J2mDAMb7REs5vYNGdcb7TtaceEv5C3qRGOJ4MsyMIH6DKhtcQ6gHziHgIjIe5G2mLM3\\\n",
              "9E0WrZ0Hp59Dp54baIkBhhXkAGgZKm5udKDpXPVPXdFTzwF0NSfRm3v01K0bqPcdKvz+ZgD0C/8C\\\n",
              "ERGR4O8SJ0YhUB+yMnunoXJflbKkS3OTA7FxMeh+SSdliRcASkOI/j7EPYpQ6SqweQqK4bKcS2vx\\\n",
              "+5tDwERERAHh7xIn7hZfFs99v/Oo8vuQcb2R1C4e9Web8P3Oo2hukucHNjc53O4/LIaX3S3y7GoZ\\\n",
              "GDE0rB5qpsjEAEhERE7MuGZfKKjn2ukDpH5eYPuOVmWHERHg1IFODAk3NTqUbuB1K3Zr5vLlDuuG\\\n",
              "ztntAUDZDcTTfakZbV9HkYkBkIiInERjw0aw+bJ9mtE5+qqbUUUx68I0TWNH7rBuSihM795e7vqV\\\n",
              "oKkUir2FRRg8fsj7fYr178VVldOXphEKDwyARETkJNL23g0HrRkCFudk9k5zClAiEALAlpJyJcgB\\\n",
              "0ARFsfNH3ekGJRx2zpbDoPhdcrSEwrj4GKd9itUBzt2yLq6GhlsTfim02ATiB04iJSKiQHDXVCGe\\\n",
              "E/THqHcb6X5JJ1Tuq3K5M4hoFBELTBvtJALA5wYP7gQSebgTCBGRiUTjUizRQL10i377uMzeaThT\\\n",
              "dRSds9uj7nSDYVVO7Ajy3X+OApK8i4h6mFiEMhEmxZCzqNypj6/4rgpnqo4qu4d4w9OOJxR+GACJ\\\n",
              "iExEPbfPXQBkUGxb+pBWf7YJALB5lTzkCwmwH69VdgtxSXLeQk5NHTT1P4vjxRZylfuqAvLeKDxx\\\n",
              "DiARkYl4O7ePTSChc8WYnrAmxwEWyPv0SlC2dBPzAPXNFkPG9VaOETtyGDVm6OfwGc3p83c5G4oM\\\n",
              "rAASEZlIv2uv86qiN2jceKUCSK3jy7w4/bEiwKmHggEou4OIIVxBXb0zWkbGmx1BxGO+DP1S5GIT\\\n",
              "iB84iZSIiFzxZbcMcaw1OQ4JibFOoVEdzir3VbUqVLq7N/3Wc5LDudkkmvD7mxVAIiKioNDPt9NT\\\n",
              "BzRxbENds2HVTlTzgCqvQ5m7xgz9vYl5f2J5GBEyKXqxAugH/guCiIhay6hC6KpqF+xlVkL1uqHC\\\n",
              "729WAImIiELCqELoqmrnaZkVb4Oaq+PUcwjVP4vlZbav3hdVAZDYBUxEROS1QG555mpXjdbwdicO\\\n",
              "cdz21fs070PMAeRuHubBAEhEROQlf7c8C9aeud4u3SKOA6B5H+o5gOprDBnXG+07WpUuZIoenAPo\\\n",
              "B84hICIyF3/nxHnTGRyIeXeerqF/Plrn+rnC728GQL/wLxAREfnCm6Dly/IxrgTiGtGM399sAiEi\\\n",
              "Imoz3uyZq98XuDWVOU9L0BCxAugH/guCiIiCiZW84OD3N5tAiIiIwpan5o5gNZVQ9OMQMBERUZjy\\\n",
              "NGTsbr9fIndYASQiIopQ7iqErA6SO6wAEhERRSh3FUJWB8kdVgCJiIjaQFtX5LxdHNoIq4fRjwGQ\\\n",
              "iIioDfi7i4iv3G015yngtfW9UttjACQiImoD/lTkAs1TwAune6Xg4DqAfuA6QkREFInMtvWbHr+/\\\n",
              "2QRCRERkOt7sSELRjUPARERERCbDAEhERERkMgyARERERCbDAEhERERkMgyARERERCbDAEhERERk\\\n",
              "MgyARERERCbDAEhERERkMgyARERERCbDAEhERERkMgyARERERCbDAEhERERkMgyARERERCbDAEhE\\\n",
              "RERkMgyARERERCbDAEhERERkMgyARERERCZj+gBYXFyMnj17IjExEYMHD8bnn38e6lsiIiIiCipT\\\n",
              "B8B33nkHDz30EObNm4cvv/wS/fr1w+jRo3Hs2LFQ3xoRERFR0Jg6AD7//PO4++67cccdd6Bv3754\\\n",
              "+eWXkZycjNdffz3Ut0ZEREQUNKYNgA0NDdi5cydGjhypPBYTE4ORI0di27ZtIbwzIiIiouCKC/UN\\\n",
              "hMqJEyfQ3NyMjIwMzeMZGRnYu3ev4Tn19fWor69Xfrbb7UG9RyIiIqJgMG0FsDUWLVoEm82m/MrO\\\n",
              "zg71LRERERH5zLQBsHPnzoiNjcXRo0c1jx89ehSZmZmG5zz++OOorq5Wfh0+fLgtbpWIiIgooEwb\\\n",
              "ABMSEjBgwABs2LBBeczhcGDDhg3Iy8szPMdqtSI1NVXzi4iIiCjSmHYOIAA89NBDmDRpEn7xi19g\\\n",
              "0KBBeOGFF1BTU4M77rgj1LdGREREFDSmDoC/+c1vcPz4ccydOxeVlZW4/PLLsXbtWqfGECIiIqJo\\\n",
              "YpEkSQr1TUQqu90Om82G6upqDgcTERFFCH5/m3gOIBEREZFZMQASERERmQwDIBEREZHJMAASERER\\\n",
              "mQwDIBEREZHJMAASERERmQwDIBEREZHJMAASERERmQwDIBEREZHJMAASERERmQwDIBEREZHJMAAS\\\n",
              "ERERmQwDIBEREZHJMAASERERmQwDIBEREZHJMAASERERmQwDIBEREZHJMAASERERmQwDIBEREZHJ\\\n",
              "MAASERERmQwDIBEREZHJMAASERERmQwDIBEREZHJMAASERERmQwDIBEREZHJMAASERERmQwDIBER\\\n",
              "EZHJMAASERERmQwDIBEREZHJMAASERERmQwDIBEREZHJMAASERERmQwDIBEREZHJMAASERERmQwD\\\n",
              "IBEREZHJMAASERERmQwDIBEREZHJMAASERERmQwDIBEREZHJMAASERERmQwDIBEREZHJMAASERER\\\n",
              "mQwDIBEREZHJMAASERERmQwDIBEREZHJMAASERERmQwDIBEREZHJMAASERERmQwDIBEREZHJMAAS\\\n",
              "ERERmUxUBsCFCxfiyiuvRHJyMtLS0gyPOXToEMaOHYvk5GR06dIFjzzyCJqamtr2RomIiIhCIC7U\\\n",
              "NxAMDQ0NuOWWW5CXl4cVK1Y4Pd/c3IyxY8ciMzMTn332GX766SdMnDgR8fHx+OMf/xiCOyYiIiJq\\\n",
              "OxZJkqRQ30SwrFy5Eg8++CCqqqo0j3/88ce4/vrrUVFRgYyMDADAyy+/jMceewzHjx9HQkKCV9e3\\\n",
              "2+2w2Wyorq5GampqoG+fiIiIgoDf31E6BOzJtm3bcOmllyrhDwBGjx4Nu92O3bt3h/DOiIiIiIIv\\\n",
              "KoeAPamsrNSEPwDKz5WVlS7Pq6+vR319vfKz3W4Pzg0SERERBVHEVABnzZoFi8Xi9tfevXuDeg+L\\\n",
              "Fi2CzWZTfmVnZwf19YiIiIiCIWIqgDNnzsTkyZPdHnP++ed7da3MzEx8/vnnmseOHj2qPOfK448/\\\n",
              "joceekj52W63MwQSERFRxImYAJieno709PSAXCsvLw8LFy7EsWPH0KVLFwDA+vXrkZqair59+7o8\\\n",
              "z2q1wmq1BuQeiIiIiEIlYoaAfXHo0CF89dVXOHToEJqbm/HVV1/hq6++wpkzZwAAo0aNQt++fXH7\\\n",
              "7bfj66+/xr///W888cQTKCwsZMCjsPL29oMY+tRGvL39YKhvhYiIokhULgMzefJkvPnmm06Pf/LJ\\\n",
              "Jxg+fDgA4ODBg7jvvvuwadMmpKSkYNKkSXjqqacQF+d9UZRt5BRsQ5/aiCNVteiWloRPZ10T6tsh\\\n",
              "IooK/P6O0gDYVvgXiILt7e0HsWzTPtw3vDduG9Ij1LdDRBQV+P3NAOgX/gUiIiKKPPz+jtI5gERE\\\n",
              "RETkGgMgERERkckwABIRERGZDAMgERERkckwABIRERGZDAMgERERkckwABIRERGZDAMgERERkckw\\\n",
              "ABIRERGZDAMgERERkckwAJKpvL39IIY+tRFvbz8Y6lshIiIKGQZAMpVlm/bhSFUtlm3aF+pbISIi\\\n",
              "ChkGQDKV+4b3Rre0JNw3vHeob4WIiChkLJIkSaG+iUhlt9ths9lQXV2N1NTUUN8OEREReYHf36wA\\\n",
              "EhEREZkOAyCRl9hAQkRE0YIBkMhL/jaQMEASEVG4YACkqBbI0OVvAwk7kImIKFwwAFKba8tKWCBD\\\n",
              "121DeuDTWdfgtiE9WnU+O5CJiChcMABSm2vLSlg4hS5/AyQREVGgxIX6Bsh87hveG8s27WuTUHbb\\\n",
              "kB4MXERERDpcB9APXEeIhLe3H1RCLQMnEVF44/c3h4CJAsLTsLareY/sDCYiolBgACQKAE9zDV0F\\\n",
              "RF/nQzIwEhFRIDAAEgWApwYPVwHR1yYVLiVDRESBwDmAfuAcgujk73y+YM4H5FxDIiL/8fubFUAi\\\n",
              "J95W2fTDseLn5/5drjk/kMO2XEqGiIgCgQGQolprwperYVn9tdRB8e3tBzFndRmOVNWivqlZc744\\\n",
              "7vEn5qK4uNjtaxcXF6OoqMi3N0lEROQjrgNIUU0d0rytmqnXDlQPueqvpV7PcNmmfRBzKaxxsfh0\\\n",
              "1jXK9e4b3huPPzEXP254C9M2vAUAKCwsdHrd4uJiTJs2TfmZQZCIiIKFAZCimr+LTqtDX6eUBByp\\\n",
              "qkWnlAQAzotMP/fvcgDAw6NzNNf4fu0b+PFc8AOAadOm4fP9J/F956HKfc1d9Cfs/+cS5Zj58+cD\\\n",
              "0IZAzv8jIqJAYROIHziJNPqpQ9e8D8vQLAGxFmDforFenV9UVKSEOb2O196Li6+5BQf/3z9wZI3x\\\n",
              "0PC8efOUEDj0qY04UlWLbmlJmgojEUWpL1YAWxcD+TOAgVNCfTdRhd/frAASOdFX2kS17fP9J/HR\\\n",
              "rgqMvSzL6TgATtU5d+EPAE6ufxkHvvtfVBz43uUx6kqgr9VMT/dHRGFu62Kg+rD8OwMgBRibQIhU\\\n",
              "3t5+EPM+lJs5nvt3uabpY1Cvjsi0JWFQr44AgIUf7cGRqlo8sbpM6fxVn5Oenu7ydXKRCwBK+BM/\\\n",
              "GxHX8bUDWD18zfUDicLcFyuAxbny70L+DMCWLf9OFGAMgEQqyzbtU4Z5AWhCkz5E1TY2a87tlpak\\\n",
              "OaewsBBLly51eo1JmIQlWIICFAAAClCAJViCSZjkdOzSpUsNG0a8oe5m9nXBaSJqY+pqnzBwCjCj\\\n",
              "jNU/CgoGQIp4/qyzpz93QI8OiLUAYy/LwsOjczShSYSoAT06YOhTGxFjabnOsIvS8emsa5zOKSws\\\n",
              "RK8bpivH5SIXkzEZADAVU7EaqzEVUwEAkzFZUwn0J/wB2ooh1w8kCnOs9lEbYwCksORLqPNneFO/\\\n",
              "lt9HuyrQLAE7D55yOlaEqJ0HT+FIVS3U7VPiePXyMOLery+4A52uvRcAUIYyLMdy5TwbbMqfl2M5\\\n",
              "ylAGQA5/tgHXc99fIrNgtY/aGAMghSVfQp0/w5vqc9XDv+p1//RzAcU5v+qXhbSkeKQlxeO+4b1d\\\n",
              "7gSy8+AptLvieiR16Q4AKEEJqlGtuY9qVKMEJQCAPn36oLCwkPP2iIgoaNgFTGHJl45X/Xp8Rlyt\\\n",
              "oac/V3/Msk37UFPfpARB8bzRMiximZa0pHinoeO5i/6E2mOHAMhz/tSVP0CuBBagACUowZ49e3D+\\\n",
              "jffj+oI7lPPdvQciIo+4pAzpcB1AP3AdofDhKRz5uobe29sPKgs7D7soHTsPnkJNfROqahs11/Bm\\\n",
              "qRX1Dh+5yMUStCz4XI1qTRicjunKMHCvG6bjD4/PdNqJhOsAEpHPFufKTSa2bHmo2eT4/c0hYIoS\\\n",
              "RsOl6nmE+mFi/RxD/c/P/bscVbWNqKptxJb/HkdNfRPqm5qV4V796877sAyf7z/pdF/67d3KUIaV\\\n",
              "WAlAnvM3DuOUOYErsVIJfwCw/59LMHfRn5T3ZTTU7U8DDBGFmNHSL8HCJhPSYQXQD/wXRPgwqgC6\\\n",
              "q/rpn9P/3GfOx6htdAAA0pLiUVXbCECeHzj/RrlTd9mmfRjQo4PSOBJrAZolKNfQhz+1XORqwp7+\\\n",
              "Z7VO196L395xD16a0N/pOe4OQhTBWJULGX5/swJIUcJomRN3zSH65/Q/W+NiAcjh7+HROUhLiocF\\\n",
              "csBTL6y88+ApzL8xF93SkjD2sizNNY4fP+7yfkXYi++UrfnZSNPZasOuZE/vkYjCnLdVubasFJJp\\\n",
              "sALoB/4LIjwEujlCPf/v4dE5yjXdzfdzdY677eC6XVeIuEt/iaZvPna5F/BNUx7AD9nXaa7LZhAi\\\n",
              "k2mrSqGJGkX4/c0KIEWB1iyXop47J/58/6pSZRmXqtpGpFjjnDqG9VXGz/ef1JxTVduoBMG3tx/E\\\n",
              "+sRhuGnKA06vP3HmH9B50A1IS4rHU3MewcSZf3A6Zt68efjHay8gxRqHqtpGlzuSEFGUa6v5e0a7\\\n",
              "kVDUYgCkiCWC24AeHXweBjXaJ/ejXRU4UlULAB6bLYzOseheQ6wH+EP2dZg3b57y+NKlS/F956Ga\\\n",
              "kPl956HoeG6xaEAOf0VFRQCcdyBpzfslogjWVotEs1HEVLgOIEUsEcIA+NwAoV9nUDR07Dx4SjO0\\\n",
              "KoZbxRIwyzbtU3b7eO7f5ahvaoY1LhYPj85RrqMPZtW1jbhg3B2YByA9PR2FhYWw6YaTB/TogMoB\\\n",
              "1+PSbjYM75GohD+gZa3Cy+evQ1VtI2rqm/DVvFGt+ciIKJr5O4Q7cErUD/1SC1YAKeRau5SJpwYI\\\n",
              "d9c12if3pQn9Ndu4vb39IOZ9WGZYFbxtSA+kWONQ2+hAtWrYVwTRoU9txLCL0hFrASTIwbCoqAiF\\\n",
              "hYWGc/h2HjyFZglozBmlCX9EFMH8bd7w9XwxhLthgfN5bCQhHQZACrnWzmkzmpPn6rruwuDb2w/i\\\n",
              "8vnrcPn8dZpt3NRbwz08Osewy9gCOeAZzdFTdwir1x8UoVL9ftVh1tUahcMuSke3tCSl2khEYc7f\\\n",
              "OXVG53+xAni6J/BUT+cwJ4ZwLXA+T30thkECAyCFgWAtZaLf59coZIpAJho4gJZKnzh//o25hiHz\\\n",
              "tiE9YEuKByD/91a9pExaUjxq6pvw+f6TqKlvwsKPvlUCpgiVYk7f29sPKmEWgBIQxR7EIpTuPHjK\\\n",
              "beAlojDjzZw6d2HM6Pyti4HaU0DdKedgKeYKXjPH+Tz1tdjsQYjSZWAOHDiABQsWYOPGjaisrERW\\\n",
              "VhZuu+02zJ49GwkJCcpxu3btQmFhIb744gukp6dj+vTpePTRR71+HbaRRw5XS6eIeXVAy5p/Rkut\\\n",
              "eFoaZkCPDtjyX3ndv2EXpTstDi2kJcUjxRrncms3sbBzrAVIiItBbaMDSfEx6Jhi5bIvRNHi/SnA\\\n",
              "7g+AS24CDu/wbYmXL1YAGxfIQw8j5rRuzp6Jlntxhd/fUdoEsnfvXjgcDixfvhwXXHABysrKcPfd\\\n",
              "d6OmpgbPPfccAPn/+aNGjcLIkSPx8ssv45tvvsGdd96JtLQ03HPPPSF+BxRoYq6fKxZo19mb92GZ\\\n",
              "sujzbUN6YNmmfUpQFI+przv0qY3K8//8ukK5ZkJcS5Fd3ywyoEcHANBUPtXNKc/9uxy1jQ5Y42K5\\\n",
              "ywdRKHkKTL4Gqt0fAFKz/Pt1z8qBrv6MfB1P57tq1BD3kD1YDpXu7oXNHoQorQAaefbZZ7Fs2TL8\\\n",
              "8MMPAIBly5Zh9uzZqKysVKqCs2bNwurVq7F3716vrsl/QYSeP4sii6pedW0jJMBpWzix7Zu6Aljf\\\n",
              "1AxADnPDLkpXuoYBaK4VawHaJ8pbyOm3afO0fZu6qqjvSiaiEPC0ELOr511V69QVwPErArPQs7iG\\\n",
              "4O5arADy+xsmmgNYXV2Njh07Kj9v27YNw4YN0wwJjx49GuXl5Th1ynjbLQoP6iYJfxZFFlU9W1K8\\\n",
              "4bZw+rl/KdY4WONiUdvoQFVtI/71dYXy2rcN6YGHR+fAlhSPtKR4zL8xFw+PzjGc2+hqzqN4X2LO\\\n",
              "30e7Khj+iMKBp7l8rp7Xz9cT8/16XAnMOymHP2+u7+09WuQtLGGJVa5VVFSE4mLdTkO6OYDFxcWu\\\n",
              "Vx9gw0jUisohYL3vv/8eS5YsUYZ/AaCyshK9evXSHJeRkaE816FDB6fr1NfXo76+XvnZbrcH6Y7J\\\n",
              "HXXo06/n5wv1ufodP9Q/q4eExZ7AEoDE+Fh0TElQXnvhR3tQ29iM+FiLZohXz9VwtHhfSfHyf8TV\\\n",
              "Q9Dqe+E2cERtzNOQqavn82e0VAD1zRfq41s7JGtUyduwQFmVXr8VZWFhYct9nTuvuLgY06ZNU45x\\\n",
              "CoKu7pkiXkRVAGfNmgWLxeL2l3749siRIxgzZgxuueUW3H333X69/qJFi2Cz2ZRf2dnZfl2PWkdd\\\n",
              "QfO0FIyafnkVd+fqq4zq5WAWjJOXdpk9to/m/LpGeXi4sVnS7BJi1HlstCSNeF/Wc/MGYy1wCrbc\\\n",
              "Bo4oggycAjx2AJh1QP6zqPRlD/atquaqCqfv5h04BbC2A2pPoeiJxzXhb9q0aSh+9P+2HDejDMWf\\\n",
              "12nC3/z5850DoLvqJKuDES2i5gAeP34cP//8s9tjzj//fGVYt6KiAsOHD8eQIUOwcuVKxMS05N2J\\\n",
              "EyfCbrdj9erVymOffPIJrrnmGpw8edLrCmB2drap5xBEEk9z74yOTTu3zEt9kwOABGtcLLp3TMbu\\\n",
              "imqMvSwLL03or5xz/6pSfLSrApdk2fBzTYMyh69TSgK+OVKNxPgYzB7b17D7V81dlU/9HABWA4ki\\\n",
              "kS9z/r5YAax5RG4aMZpjqK8AfrFCDn/rjhtebunSpSgsLHSq/Kmpt6IM2PsIM5wDGGFDwOnp6UhP\\\n",
              "T/fq2CNHjuDqq6/GgAED8MYbb2jCHwDk5eVh9uzZaGxsRHy8/CW/fv165OTkGIY/ALBarbBarf69\\\n",
              "CQoZX4aLxbFiCzgx7Fvb6EDVkWoAwEe7KjCoV0flmi9N6K8JhELvxz9SznU1bG0U+kSVz2h42qhT\\\n",
              "mcPDRBFCDMGKSqC7zt2ti+Xwp5rXpwl+uuBV9NFhl+EPOFcJLC7Gnj17XB4jKoceQ6BqKJkiT0QN\\\n",
              "AXvryJEjGD58OLp3747nnnsOx48fR2VlJSorK5Vjfvvb3yIhIQFTpkzB7t278c477+DFF1/EQw89\\\n",
              "FMI7p2DyZbhYHCsaORLj5f+pWABc1s2GWAsw9rIspWFDrBFoZOxlWbAASIqPcTlsrR/a9XRd9bC0\\\n",
              "uhrI4WGiCCAWbBZrAO7+wPXCzGII9rpntfP8qg8D657QDsF+sQLp3yx3+bK5yAUAJfyJn414VWwR\\\n",
              "70MdWjksHDGiMgCuX78e33//PTZs2IDzzjsPXbt2VX4JNpsN69atw/79+zFgwADMnDkTc+fO5RqA\\\n",
              "ZOjavpnolpaEBeNy8c/p+di3aCwG9eqI6nNr/7nz0oT+2P/UWFzbNxPzPizD/atKAWjnAuq3gvN0\\\n",
              "XaNO5WDtqEJEQSLC3SU3tcyz0wcoo5B1rskDjbVyEFzziFIVLLz0LJb+OtPppSZhEpZgCQpQAAAo\\\n",
              "QAGWYAkmYZLTsWKYuFW4y0jEiKg5gOGGcwgiizdDpPpjjOYNimPE8LB6vUB3ej/+kVK127dorGa9\\\n",
              "wbGXZSlr/olKnrfXJaIga6t189zN91MfIzp9e49oWVQaFiAmDnA0Abk3o/joFcocv1zkYgmWKJeo\\\n",
              "RjVssCk/T8d0lEF+Lb/Cn7i/CFhjkN/fUVoBJDLizRDpwo/24EhVLRZ+JA+RGFXVxHUAaKpwrrp7\\\n",
              "hbGXZSlhT1xbbBWn7hhWV/cAuL0mEbUBb6tavgx/Gh27cUFLmHPVKbx1sbyuYEI7eT1Ba6p8PCTA\\\n",
              "0Sj/vvsDFA5KVCqBZSjDcrQMDavD33IsD1z4A4wrlhSWWAH0A/8FEb6Mqn2u9vNVP1elGnpVLzXj\\\n",
              "6dpAy77CaUnx+GreKJ/u09WuH750LhNRkHhb1fKlK1Z/7BcrgI9mApCAxA7yci76a6l3FunYE6iQ\\\n",
              "p5MgsYOcAZvq5WFhSMqQct9fFWLPUXn1itVYrQl/1ajGOIwDAPTp0wfffvut/59BhOD3NyuAFKWM\\\n",
              "qn23DemBFGscqmobsWzTPqe1/tThLyk+VmnCUFfg9OHPqOpX3+RwW7UT59y/qlTTQWzUoMJ5fURh\\\n",
              "wF1VS13JM1ozz1VVUH/s1sUAJLnbd8Qc7fPiGhsXyDuLWNsBP+1qudaIOfJ6g7N/Asb+STmv+PM6\\\n",
              "JfwVoEAT/gC5EijmBO7Zs8d5xxA1zu2LOgyAFFY8DaN6y1VwUj+u31Ek7dw2bjf0y4I1LkZZA1Ad\\\n",
              "JPXBUvw878MyDLsoXVnI2d1QszjHaKFobxarDtRnREQBoN8pQx8UXQUnsTD0hgXA0z3lIV91t6/6\\\n",
              "WuIaElpC4SU3yWExd7x8PREyDRZ5zkUupmKq8tLVqFb+PBVTlW5gsUSMoUBsV0dhhQGQwoq7eXq+\\\n",
              "BB9XS76oHxdhcECPDli2aR8eHp2Dh0fn4KNdFaiqbUSKNc5pP199sNTP47tveG+nc97efhCXz1+H\\\n",
              "y+evUzp+05LikXAuZBrNL3Q3T5HLvRCFkdbuEwy0zOerPSUvCaMOj+9PAYrSgCe7toTDjj0BewVw\\\n",
              "8DN5H2Gxn/DGc8vCbFwAAE6LPJehDCuxEoA8528cxilzAldipTIHEFCFQG+6kY1wGZiIwTmAfuAc\\\n",
              "gsBz16kbrPlw6usC8LkDV70os9G9iesD8l7CKdY4pYNYf3xrOpWJKIy4myunf+6LFcC/nwCaaoHc\\\n",
              "m+UwJ8zveK4hBC3zAMVjllg5/Inrnf0ZaDwLJHZAcftHXO7wkYtcTdjT/6y29NeZKLz0rO+7fETI\\\n",
              "7iD8/mYFkMKMu8Wa/ZkP5656qL6u0fp63tzz/Btznap+6jX+xPAyAE0Hsf69eLNYtS8LWhNRG3M3\\\n",
              "V87oueZ6AJJcAVS75CYAFiAuuaV6KIZ9L7lJez0J8uMXjMDx4653ARFhr0+XeM3PRo53HCg3lzSc\\\n",
              "8a2ax6HiiMEKoB/4L4jI0ZbdtO4qgqzeEUUZo6qetxVAUS0D5Ll8430cNhXXazgjDyOfq7oVFRUp\\\n",
              "27npLf1lIgqHpqE47QnPewFHSDWvNfj9zQoghaFgNDm0ZTet0TZtgph7uGzTPtywZCt6P/6RsjMI\\\n",
              "EQVRsOam6at67ubKqZ/7YgVQ83PLc7s/8H39QHG9a+ZoOoaLbO9j3i2XO5269IaOKByUAMRaUVhY\\\n",
              "iKWP/NbpGCX8AazmRTlWAP3Af0EERySsfXf/qlJ8tKsCYy/LwksT+muec1Xl0+8gIoidQfzF6iKR\\\n",
              "G8GqZrmq+HlaN09d/RNas36g8P4UOURaYs4tCA0UbarD/M0NAIClj/wWhZ0+lYeLR8xR7kndMKIJ\\\n",
              "f1GO39+sAFIYCna1LhAVxo92VSidv3qu5ujpdxC5rJtNszOIv/fL7mAiNwJVzfK2O9bTunn5M+Q5\\\n",
              "dkkd5OFfb+8te7A83y97sPZxsSWco+Ufl0XDkzBvhE0Of12/bllDUHWvhYWFWLp0qanCH8niQn0D\\\n",
              "RHq3DekR1AqWOij58jrqCtvYy7KUCqC3xNCvrxU6b+9XfX0i0hFr6/lLv+6fkS9WAPVn5HDnKtSp\\\n",
              "7+eLFc5NIOJxfRXx8A456O3bIAdRcf1Yq9xNnHU5cOqAUukrKlK9xoYFLU0dqvmKhdmDgYYdwBfZ\\\n",
              "UbHLB3mHQ8B+YAk5MrV2qZVQDU1zaJcojHga2v1iBbDmETmkeTvcbLQtnEFzhxLilG3fzgLxyfKf\\\n",
              "vXk98TqWWHnBaRFmLbG+3W8U4Pc3h4DJhLxZRsVoODVU27Lp75c7gRCFkKcFkbcublmrz1X1Tz+M\\\n",
              "bLQtnH7nD/F43SkgoZ38HCCHQFevZ/Q6IuyJEGvLlpeVYbOH6TAAEhkwCnvBXn+Pc/2IooAIVWJL\\\n",
              "N0EdxozmBzackat76j2FR8xpqcgtzm3ZESR/BhBvbTlXVPQ8zUMcOEU+TlxDhNkeVwbns6CwxgBI\\\n",
              "dI46gIVisWVvg12oKpFEptHaJWPcDQ9vOLdd24YFxhW/2lNydc9oT2ER5NTbxV0zp6WJ5JKb5GPU\\\n",
              "9/vFCjlUJurmIfqyX7E/nwWFPQZAonP8raz5OzTrbbDjTiBEQeapg7c151lUv4sQBgBP95TXA4xP\\\n",
              "dg5rQEtDSXyy/Lu6+3jWAeCxA3IwFHsBq6uMBl2/hoHO037FrfksKOwxABKd429lzd8AyWBHFCZa\\\n",
              "u2SMu/PEYs3XzGl5TIS0prNAcic50BkN49adkhs9RIVQHeLUHccSWsKauJfswdrAZxTo1IHUl3BI\\\n",
              "EY1dwH5gF1H4Ep2zA3p0wM6Dp9qkg7a13cVEFKWMhoTVjx38DCj7OxCXBIx+0nVX8dbFcpA7vEP+\\\n",
              "vex9+bn4ZDk4Vh9uCYAWyCFTXEvdYZw/Q64SisWgAe219V3HUYzf36wAUpQS1biPdlW0WcOENxW8\\\n",
              "5/5djiNVtXju3+VBvx8i8kIw57gZVds2LmgZrj28A4AEpHTybv29hjNyYBQaa1sWlK6taukQVl9L\\\n",
              "XcHTDwuL+9v9gbbrWF81pKjEAEhRSQznjr0siw0TRORaMOa4iVCp7toVJNXvKZ3lP5+udB22RGAs\\\n",
              "+7sc3pQLWOTKISAHOkgtS8G8PwUoSgMWdpWfz58hN5+c/bllcWr10LFYBkZ0HYs5hWseYQiMYhwC\\\n",
              "9gNLyOQrDgEThRlPCzu35lpnf5bX50vqIDdpuHo9sWA0AMQly5VA/XDxRw/Jf46Jl4OeGL5VL+J8\\\n",
              "yU1yaBPnzu/Ycl1btvy72HfYaBFooyVrfF3MOpCfYxvg9zcDoF/4F4iIiABoQxMsACR5aHbWAdfn\\\n",
              "vD+lZT6fOEcduMT8PcA5TLoLaa8MBypKgdh4YMzT8mMbFshDxIB8XyPmuA953gQ69TEiUEbI/EF+\\\n",
              "f3MImIiIyH/qHUByb24ZUjUihoh7XAmMfV4+NvdmOeTVn5GDoRhCFmv9XTNHPu/pnsBTPeXrqBd1\\\n",
              "Vl/7p13yn9tltuw5POuAfB2gZSkao/MFTzueiPes7zpmt3DEiAv1DRAREUU8UQXzZghUHZzUIeup\\\n",
              "nnKVruzvUOb6qSuIi3PPzQOE87mAtiqo3hpOVOp6j2gZKg4E/XsO9NBvhA0rRxpWAIl84GqxZ+7P\\\n",
              "S2Rynipm6m5jV9UysVh0bJwc4LIHa5/PnyFX8YwWjAa0VUgxr0+EwurDwPcbtMerdycJxx0/uAh1\\\n",
              "UDEAEvnA1WLP3J+XiNxShxlXYVEsFh3fTg5yh3e0PCeqYdfMcV4wWt11nNgBSFTNaROhEACa67WB\\\n",
              "Sr07SWvCVrADGoeVg4oBkMgHrnYL4f68RBEoEFUvb6+hDjPquXzq80QwHDHHOfjow5b6dUUl7/sN\\\n",
              "cqdw7amW4/JnyBVBAIi1aq+r3p2kNWEr2AHNm3mI1GqcA0jkg9uG9DBcvsXV40QUxvRVuUBfQz2H\\\n",
              "TX+OmMu35hH5d/W5RvPp1PPt9K+rruTpjwPkiqBYPsbd6zBomQqXgfED28iJiCJYIJoM3F1DvQ0b\\\n",
              "4LwlW20VnJZ+ac3rAt7dQ6CXZwnmtYOM398MgH7hXyAioijmb0D0FNL01w9G12swO2kjuEuX398M\\\n",
              "gH7hXyAioijma4XL30DkzeuJ18gerN39w93rGz0eweEtEPj9zSYQIiIiY742OfjbFevN64nX2P2B\\\n",
              "8369rl7f6HEusWJ6DIBERERGfO1C9bcr1pvXE69xyU1yd6/UrO34NXp9o8e5xIrpcQjYDywhExGR\\\n",
              "obYYYm2rYdwoHC7m9zcrgERERIHXFkOsgVonz9NahhwujkoMgERERIEWyiFWXxe49hTwxBZ09WfC\\\n",
              "a6s48gsDIBERUaCFchcLXyt2nsLqwClAQjug7hSrgFGEAZCIiCia+Fp99KX5hE0jUYNNIH7gJFIi\\\n",
              "ImqVYO9CQm7x+5sVQCIiorahnpsXiMaKjQvka2xcELh7JNNgACQiIgo0o0YMdegLxJCqpPudyAcM\\\n",
              "gERERIFmVOFTh75ANImMmCNfb8Qc/+8X8L17mCIa5wD6gXMIiIjIUCTOz/N17+MIxu9vIC7UN0BE\\\n",
              "RBR1Bk6JnOAn5M9oCa0U9RgAiYiIKDJDK7Ua5wASERERmQwDIBEREZHJMAASERERmQwDIBEREZHJ\\\n",
              "RG0AvOGGG9C9e3ckJiaia9euuP3221FRUaE5ZteuXbjqqquQmJiI7OxsPPPMMyG6WyIiIqK2E7UB\\\n",
              "8Oqrr8a7776L8vJy/P3vf8e+ffswfvx45Xm73Y5Ro0ahR48e2LlzJ5599lkUFRXhlVdeCeFdExER\\\n",
              "EQWfaRaC/uc//4lx48ahvr4e8fHxWLZsGWbPno3KykokJCQAAGbNmoXVq1dj7969Xl2TC0kSERFF\\\n",
              "Hn5/R3EFUO3kyZP461//iiuvvBLx8fEAgG3btmHYsGFK+AOA0aNHo7y8HKdOnQrVrRIREREFXVQH\\\n",
              "wMceewwpKSno1KkTDh06hA8//FB5rrKyEhkZGZrjxc+VlZWG16uvr4fdbtf8IiIiiircE9gUIioA\\\n",
              "zpo1CxaLxe0v9fDtI488gtLSUqxbtw6xsbGYOHEi/BnxXrRoEWw2m/IrOzs7EG+LiIgofGxdLO8J\\\n",
              "vHVxqO+Egiii5gAeP34cP//8s9tjzj//fM2wrvDjjz8iOzsbn332GfLy8jBx4kTY7XasXr1aOeaT\\\n",
              "Tz7BNddcg5MnT6JDhw5O16ivr0d9fb3ys91uR3Z2tqnnEBARUZT5YkXLnsBRujUc5wBG2F7A6enp\\\n",
              "SE9Pb9W5DocDAJQAl5eXh9mzZ6OxsVGZF7h+/Xrk5OQYhj8AsFqtsFqtrXp9IiKiiMA9gU0hooaA\\\n",
              "vbVjxw4sXboUX331FQ4ePIiNGzdiwoQJ6N27N/Ly8gAAv/3tb5GQkIApU6Zg9+7deOedd/Diiy/i\\\n",
              "oYceCvHdExEREQVXVAbA5ORk/OMf/8CIESOQk5ODKVOm4LLLLsPmzZuVCp7NZsO6deuwf/9+DBgw\\\n",
              "ADNnzsTcuXNxzz33hPjuiYiIiIIrouYAhhvOISAiIoo8/P6O0gogEREREbnGAEhERERkMgyARERE\\\n",
              "RCbDAEhERERkMgyARERERCbDAEhERERkMgyARERERCbDAEhERERkMgyARERERCbDAEhERERkMnGh\\\n",
              "voFIJnbRs9vtIb4TIiIi8pb43jbzbrgMgH44ffo0ACA7OzvEd0JERES+On36NGw2W6hvIyQskpnj\\\n",
              "r58cDgcqKirQvn17WCyWUN+O1+x2O7Kzs3H48GHTboLtDj8fz/gZucfPxzN+Ru7x8/HMn89IkiSc\\\n",
              "Pn0aWVlZiIkx52w4VgD9EBMTg/POOy/Ut9Fqqamp/A+LG/x8PONn5B4/H8/4GbnHz8ez1n5GZq38\\\n",
              "CeaMvUREREQmxgBIREREZDIMgCZktVoxb948WK3WUN9KWOLn4xk/I/f4+XjGz8g9fj6e8TPyD5tA\\\n",
              "iIiIiEyGFUAiIiIik2EAJCIiIjIZBkAiIiIik2EAJCIiIjIZBkCTueGGG9C9e3ckJiaia9euuP32\\\n",
              "21FRUaE5ZteuXbjqqquQmJiI7OxsPPPMMyG627Z14MABTJkyBb169UJSUhJ69+6NefPmoaGhQXOc\\\n",
              "WT8fYeHChbjyyiuRnJyMtLQ0w2MOHTqEsWPHIjk5GV26dMEjjzyCpqamtr3RECouLkbPnj2RmJiI\\\n",
              "wYMH4/PPPw/1LYXEli1b8Ktf/QpZWVmwWCxYvXq15nlJkjB37lx07doVSUlJGDlyJL777rvQ3GwI\\\n",
              "LFq0CAMHDkT79u3RpUsXjBs3DuXl5Zpj6urqUFhYiE6dOqFdu3a4+eabcfTo0RDdcdtbtmwZLrvs\\\n",
              "MmWx57y8PHz88cfK82b/fPzBAGgyV199Nd59912Ul5fj73//O/bt24fx48crz9vtdowaNQo9evTA\\\n",
              "zp078eyzz6KoqAivvPJKCO+6bezduxcOhwPLly/H7t27sXjxYrz88sv4/e9/rxxj5s9HaGhowC23\\\n",
              "3IL77rvP8Pnm5maMHTsWDQ0N+Oyzz/Dmm29i5cqVmDt3bhvfaWi88847eOihhzBv3jx8+eWX6Nev\\\n",
              "H0aPHo1jx46F+tbaXE1NDfr164fi4mLD55955hm89NJLePnll7Fjxw6kpKRg9OjRqKura+M7DY3N\\\n",
              "mzejsLAQ27dvx/r169HY2IhRo0ahpqZGOWbGjBn417/+hffeew+bN29GRUUFfv3rX4fwrtvWeeed\\\n",
              "h6eeego7d+7Ef/7zH1xzzTW48cYbsXv3bgD8fPwikal9+OGHksVikRoaGiRJkqQ///nPUocOHaT6\\\n",
              "+nrlmMcee0zKyckJ1S2G1DPPPCP16tVL+ZmfT4s33nhDstlsTo+vWbNGiomJkSorK5XHli1bJqWm\\\n",
              "pmo+t2g1aNAgqbCwUPm5ublZysrKkhYtWhTCuwo9ANIHH3yg/OxwOKTMzEzp2WefVR6rqqqSrFar\\\n",
              "tGrVqhDcYegdO3ZMAiBt3rxZkiT584iPj5fee+895Zg9e/ZIAKRt27aF6jZDrkOHDtJrr73Gz8dP\\\n",
              "rACa2MmTJ/HXv/4VV155JeLj4wEA27Ztw7Bhw5CQkKAcN3r0aJSXl+PUqVOhutWQqa6uRseOHZWf\\\n",
              "+fl4tm3bNlx66aXIyMhQHhs9ejTsdrvyr/Zo1dDQgJ07d2LkyJHKYzExMRg5ciS2bdsWwjsLP/v3\\\n",
              "70dlZaXms7LZbBg8eLBpP6vq6moAUP6bs3PnTjQ2Nmo+o4svvhjdu3c35WfU3NyMkpIS1NTUIC8v\\\n",
              "j5+PnxgATeixxx5DSkoKOnXqhEOHDuHDDz9UnqusrNR8cQNQfq6srGzT+wy177//HkuWLMHUqVOV\\\n",
              "x/j5eGbmz+jEiRNobm42fP/R/t59JT4PflYyh8OBBx98EEOHDkVubi4A+TNKSEhwmmtrts/om2++\\\n",
              "Qbt27WC1WnHvvffigw8+QN++ffn5+IkBMArMmjULFovF7a+9e/cqxz/yyCMoLS3FunXrEBsbi4kT\\\n",
              "J0KK4g1hfP18AODIkSMYM2YMbrnlFtx9990huvO205rPiIgCp7CwEGVlZSgpKQn1rYSdnJwcfPXV\\\n",
              "V9ixYwfuu+8+TJo0Cd9++22obyvixYX6Bsh/M2fOxOTJk90ec/755yt/7ty5Mzp37oyLLroIffr0\\\n",
              "QXZ2NrZv3468vDxkZmY6dVCJnzMzMwN+723B18+noqICV199Na688kqn5o5o/HwA3z8jdzIzM526\\\n",
              "XqPhM/JG586dERsba/h3JNrfu6/E53H06FF07dpVefzo0aO4/PLLQ3RXoTFt2jT8z//8D7Zs2YLz\\\n",
              "zjtPeTwzMxMNDQ2oqqrSVLnM9vcpISEBF1xwAQBgwIAB+OKLL/Diiy/iN7/5DT8fPzAARoH09HSk\\\n",
              "p6e36lyHwwEAqK+vBwDk5eVh9uzZaGxsVOYFrl+/Hjk5OejQoUNgbriN+fL5HDlyBFdffTUGDBiA\\\n",
              "N954AzEx2iJ5NH4+gH9/h/Ty8vKwcOFCHDt2DF26dAEgf0apqano27dvQF4jXCUkJGDAgAHYsGED\\\n",
              "xo0bB0D+39iGDRswbdq00N5cmOnVqxcyMzOxYcMGJfDZ7XalymMGkiRh+vTp+OCDD7Bp0yb06tVL\\\n",
              "8/yAAQMQHx+PDRs24OabbwYAlJeX49ChQ8jLywvFLYcFh8OB+vp6fj7+CnUXCrWd7du3S0uWLJFK\\\n",
              "S0ulAwcOSBs2bJCuvPJKqXfv3lJdXZ0kSXLXWUZGhnT77bdLZWVlUklJiZScnCwtX748xHcffD/+\\\n",
              "+KN0wQUXSCNGjJB+/PFH6aefflJ+CWb+fISDBw9KpaWl0vz586V27dpJpaWlUmlpqXT69GlJkiSp\\\n",
              "qalJys3NlUaNGiV99dVX0tq1a6X09HTp8ccfD/Gdt42SkhLJarVKK1eulL799lvpnnvukdLS0jRd\\\n",
              "0WZx+vRp5e8HAOn555+XSktLpYMHD0qSJElPPfWUlJaWJn344YfSrl27pBtvvFHq1auXVFtbG+I7\\\n",
              "bxv33XefZLPZpE2bNmn+e3P27FnlmHvvvVfq3r27tHHjRuk///mPlJeXJ+Xl5YXwrtvWrFmzpM2b\\\n",
              "N0v79++Xdu3aJc2aNUuyWCzSunXrJEni5+MPBkAT2bVrl3T11VdLHTt2lKxWq9SzZ0/p3nvvlX78\\\n",
              "8UfNcV9//bWUn58vWa1WqVu3btJTTz0VojtuW2+88YYEwPCXmlk/H2HSpEmGn9Enn3yiHHPgwAHp\\\n",
              "l7/8pZSUlCR17txZmjlzptTY2Bi6m25jS5Yskbp37y4lJCRIgwYNkrZv3x7qWwqJTz75xPDvyqRJ\\\n",
              "kyRJkpeCmTNnjpSRkSFZrVZpxIgRUnl5eWhvug25+u/NG2+8oRxTW1sr/e53v5M6dOggJScnSzfd\\\n",
              "dJPmH6XR7s4775R69OghJSQkSOnp6dKIESOU8CdJ/Hz8YZGkKJ79T0RERERO2AVMREREZDIMgERE\\\n",
              "REQmwwBIREREZDIMgEREREQmwwBIREREZDIMgEREREQmwwBIREREZDIMgEREREQmwwBIREREZDIM\\\n",
              "gEREREQmwwBIREREZDIMgEREREQmwwBIREREZDIMgEREREQmwwBIREREZDIMgEREREQmwwBIRERE\\\n",
              "ZDIMgEREREQmwwBIREREZDIMgEREREQmwwBIREREZDIMgEREREQmwwBIREREZDIMgEREREQmwwBI\\\n",
              "REREZDIMgEREREQmwwBIREREZDIMgEREREQmwwBIREREZDIMgEREREQmwwBIREREZDL/HwQPsGHG\\\n",
              "bwGkAAAAAElFTkSuQmCC\\\n",
              "\"\n",
              "  frames[1] = \"data:image/png;base64,iVBORw0KGgoAAAANSUhEUgAAAoAAAAHgCAYAAAA10dzkAAAAOXRFWHRTb2Z0d2FyZQBNYXRwbG90\\\n",
              "bGliIHZlcnNpb24zLjguMCwgaHR0cHM6Ly9tYXRwbG90bGliLm9yZy81sbWrAAAACXBIWXMAAA9h\\\n",
              "AAAPYQGoP6dpAAA450lEQVR4nO3de3TU9YH38c/kHi4ZQHIhEhSxi8G4ilQlSj2iFKy2u2m9bPo8\\\n",
              "q2AVKQ24qGu9VROOWhT3qa3JVPBSYrerqbrH+LSlriwKPipoCygNgRxxVZCQEApMMJLr/J4/pvNj\\\n",
              "ZjKTTC6TSeb7fnlykt81X39n9PfJ9+qwLMsSAAAAjJEQ6wIAAABgaBEAAQAADEMABAAAMAwBEAAA\\\n",
              "wDAEQAAAAMMQAAEAAAxDAAQAADAMARAAAMAwBEAAAADDEAABAAAMQwAEAAAwDAEQAADAMARAAAAA\\\n",
              "wxAAAQAADEMABAAAMAwBEAAAwDAEQAAAAMMQAAEAAAxDAAQAADAMARAAAMAwBEAAAADDEAABAAAM\\\n",
              "QwAEAAAwDAEQAADAMARAAAAAwxAAAQAADEMABAAAMAwBEAAAwDAEQAAAAMMQAAEAAAxDAAQAADAM\\\n",
              "ARAAAMAwBEAAAADDEAABAAAMQwAEAAAwDAEQAADAMARAAAAAwxAAAQAADEMABAAAMAwBEAAAwDAE\\\n",
              "QAAAAMMQAAEAAAxDAAQAADAMARAAAMAwBEAAAADDEAABAAAMQwAEAAAwDAEQAADAMARAAAAAwxAA\\\n",
              "AQAADEMABAAAMAwBEAAAwDAEQAAAAMMQAAEAAAxDAAQAADAMARAAAMAwSbEuwEjm8XhUX1+vsWPH\\\n",
              "yuFwxLo4AAAgApZl6fjx48rNzVVCgpl1YQTAAaivr1deXl6siwEAAPph//79mjx5cqyLERMEwAEY\\\n",
              "O3asJO8HKCMjI8alAQAAkWhublZeXp79HjcRAXAAfM2+GRkZBEAAAEYYk7tvmdnwDQAAYDACIAAA\\\n",
              "gGEIgAAAAIYhAAIAABiGAAgAAGAYAiAAAIBhCIAAAACGIQACAAAYhgAIAABgGAIgAACAYQiAAAAA\\\n",
              "hiEAAgAAGIYAOEwdrarSx5dfoaNVVbEuCgAAiDMEwGHq8NPPqLO+XoeffibWRQEAAHGGADhMTbx1\\\n",
              "sZJyczXx1sWxLgoAAIgzDsuyrFgXYqRqbm6W0+mU2+1WRkZGrIsDAAAiwPubGkAAAADjEAABAAAM\\\n",
              "QwAEAAAwDAEQAADAMARAAAAAwxAAAQAADEMABAAAMAwBEAAAwDAEQCDOlJWVyeVy9XiOy+VSWVnZ\\\n",
              "0BQIADDsJMW6AAAGT1lZmVauXGlvl5SUdDvH5XJp2bJlAdcAAMxCDSAQJ4LD37Jly7rVBAaHv5Ur\\\n",
              "VxIAAcBABEAgDgSHPx//EBgc/nwIgQBgHodlWVasCzFSsZg0hoNw4c9ffn6+du/e3eM5paWlBEEA\\\n",
              "RuD9TQ0gMOJlZmaGPVagAkmyw59vu6/3AQDEFwIgMMKVlJSooqKi2/6FWqhylatYxZKkYhWrXOVa\\\n",
              "qIXdzq2oqAg5YAQAEJ9oAh4AqpAxnPj38StQgcpVbh9zyy2nnPb2ci1XjWokEf4AmIf3NzWAQNzw\\\n",
              "rwmsUY3Waq19zD/8rdVawh8AGI4awAHgLwgMRzNmzLD7/FWrOiD8ueVWkYokeQeG1NbWxqKIABBT\\\n",
              "vL+pAQTiisvlssNfsYoDwp/krQn09QncvXt3ryuGAADiU9wGwFWrVumCCy7Q2LFjlZWVpaKiItXV\\\n",
              "1QWc09raqpKSEp1yyikaM2aMrrnmGjU2NsaoxMDABPcBXKIl9jG33PbPS7TEHg0carJoAED8i9sA\\\n",
              "uHnzZpWUlGjr1q3asGGDOjo6NH/+fLW0tNjn3H777frd736nl19+WZs3b1Z9fb2+973vxbDUgPRS\\\n",
              "3Uua/8p8vVT3UsTXBE/yXKMaVapSkrfPX5GK7D6Blaq0+wBKhEAAMJExfQCbmpqUlZWlzZs369JL\\\n",
              "L5Xb7VZmZqZeeOEFXXvttZKkPXv2KD8/X1u2bNHs2bN7vSd9CIZOWVmZMjMzexyw4HK51NTUNOIn\\\n",
              "M57/ynwdbDmoSaMn6Y1r3+j1/HArfEjemkD/sBe87Y8BIQBMwfs7jmsAg7nd3iawCRMmSJK2bdum\\\n",
              "jo4OzZs3zz7nrLPO0pQpU7Rly5aYlBGh+Va66KmmyheC4mFZs1vOuUWTRk/SLefcErA/XM1gU1NT\\\n",
              "2Hv5wl5+fn7Adig93QcAEF+MCIAej0crVqzQJZdcooICb9+nhoYGpaSkaNy4cQHnZmdnq6GhIeR9\\\n",
              "2tra1NzcHPCF6Ape5ixUCAyuARvJIfClupf07F+e1S3n3KLrp18fcOzZvzyrgy0H9exfng04/72C\\\n",
              "93RtybVh71lRUaHa2tqQk0X7sAwcAJjFiABYUlKimpoaVVVVDeg+q1atktPptL/y8vIGqYQIJdwa\\\n",
              "t/4hMFzz50gNgaFCnk+omsFfbP+FDrYcVP0l9SotLe12jX+zbrgVQwh/AGCeuA+Ay5Yt0+9//3u9\\\n",
              "9dZbmjx5sr0/JydH7e3tOnbsWMD5jY2NysnJCXmve++9V2632/7av39/NItutHDhz2fZsmWaMWNG\\\n",
              "2L5v0sgMgb6QNzNrpua/Ml93v3235rw4R5e8eIkkaWbWTD289WFd8JsL9FLdS3LIIUlyyKGysrKA\\\n",
              "EBiqT19wCCT8AYCZkmJdgGixLEvLly/Xq6++qk2bNmnq1KkBx2fNmqXk5GRt3LhR11xzjSSprq5O\\\n",
              "+/btU2FhYch7pqamKjU1Neplh5SZmRn2mG8gg2++u54GNvR0n1jpqZn3+unXa1vjNq3/dL0k6eCn\\\n",
              "B+1jv9j+C33Z8aUsWWrtatWT25/UbeffZt9Lkh3mehow49sfDwNmAAD9E7ejgH/0ox/phRde0Guv\\\n",
              "vabp06fb+51Op9LT0yVJS5cu1fr161VZWamMjAwtX75ckvTee+9F9DsYRRRdoZp3F2qhFmmR1mqt\\\n",
              "qlSlYhVriZaoUpV6Xs8HnDscR7W+VPeSHnn/EXksT8AoX/9Q6Dvem4yUDL37/XejXWQAiDu8v+M4\\\n",
              "ADocjpD7161bp0WLFknyTgR955136sUXX1RbW5sWLFigX/7yl2GbgIPxAYq+4MmNy1VuH3PLHbDS\\\n",
              "xXItH/Zr3PqmeElwJOj+i+63awDnvDhH7na3HHIoZ3SODrYc7OVO0lVTr9Jjlz4W7SIDQNzh/R3H\\\n",
              "AXAo8AEaGv4h0FfjF8xXIyjFNvz11Lz7Ut1LenL7k2rralNKYormnDpH7x54V5YstXe1q7WrtU+/\\\n",
              "KzhEAgAiw/ubADggfICGzowZM+w+f9WqDqj5c8utIhVJ8s53V1tbG4siSjpZw5eRkqHRyaM1M2um\\\n",
              "dhzaoVvOuUVPbn9S7nZ37zfpowdmP0AIBIA+4P1twChgjHwul8sOf8UqDgh/kuSUU8UqliTt3r17\\\n",
              "yJY1CzUx88ysmXLIoeb2Zh1sOaj1n67XwZaDenjrwzreflzf3O6Ry9Wpb27vvY9fOM6UwH//X2z/\\\n",
              "RZ+XjgMAmI0AiGEtuA+gf/OvWydr05ZoiQrkneR7qNa2DTVn345DO2Spe6W6JUseeVS0xaPMZqlo\\\n",
              "S/8DYFtXmz39i+SdAibc3IEAAIRCAMSwcLSqSh9ffoWO+k3WHTwKuEY1qlSlJG+fvyIVaa3WSpIq\\\n",
              "VRkwFUw0QmBwGWdmzdT8HZYe+dlh/ffP79L8V+ZrZtZMZaSEb06oLkxQU4b3e3/59xV0pjh12/m3\\\n",
              "BUwQHW7JOAAAfOgDOAD0IRg8H19+hTrr65WUm6uvvbkx7AofUvd5/3qaB/CB007T7Y8+qvHFxX0q\\\n",
              "z9GqKh1++hlNvHWxfa2vjF0OqWHJt7V68kf6yer9ymyWjoxL1A+XOuyBGdsat+mPn/7Rrg1MUII8\\\n",
              "6nutX1pimtq62gJqFTNSMgIGkPzL+f9i9wEMN80MAOAk3t/UACJGjlZVqe6i2aq7aLaOVlVp4q2L\\\n",
              "lZSbq1EzZ+rjy6/QvrfeCnutL+zl5+cHbIfy1y+/1OGnn+m1LMG1j4effkad9fXa5/q5XZv2+T+c\\\n",
              "ry6HlGhJ6VV/1C3n3KK3LhuvLyek67VC75zqHsujZ//yrB679DHtXLjTrg0ckzJGD8x+QBkpGUpy\\\n",
              "JMkhh84+5WxNGj0pbLnSEtN01wV3KTXx5OTjV029Su9+/109duljGpU8Ss3tzQFNv8/+5Vl5LI8S\\\n",
              "HAkBS8YBAOCPAIiYOPz0M/K43fK43Tr0xM8lSZ6WFjWvX6/O+nr9YP8XWnb66WGvr6ioUG1tbci1\\\n",
              "bX1Kck/VbdPOtEPlgTv/NeT3Q0/8XJ319QFBsWnaKepySNuzv7L7162e/JF+Nd/bhHui+Fu6fvr1\\\n",
              "Kl39nlYsT9cfz+uS5O2P19LRYje//sv5/6JJoyfZtXTvfv9d7bhxh3Yu3Kmqb1fpjWvf0NmnnC1J\\\n",
              "SnIELsyTmpiq66dfr5TEFHvfjkM77J9DrQ3s28f0MACAntAEPABUIXcXquk01PFRM2eq+Q9/OHnA\\\n",
              "4ZBCfBRdx4/LVX8gYF/wPH+hmot/dMopWjYxU0pOljo7Q97b9zsd6elKHD8+oMzvzi7QhGNdOuxM\\\n",
              "0EN3nWqHrFBz/PlP4jw2Zaya25vt5teX6l7SL7b/Qg45dNv5t/UYynzzBPqminHIoZ/M/okk6cnt\\\n",
              "T9rNveHKAQCIDO9vAuCA8AEKdLSqSg0PPSx1ddl9+YL59/XztLTI4+55XjxHWprKv9ivX/71r5Kk\\\n",
              "1TfdpP81foKaX39dSdnZ6jx4UEpK0gtHj+rhA19I8gt/Pd7YISUmSp2dcqSl6awPd+hoVZX2uX6u\\\n",
              "6sIE5Y3N0/Q/7NKJ4m9p3orHe7yV/+TPUmA4880LKHkHbIxKHtVrcOutH5/vnvTxA4D+4f1NEzAG\\\n",
              "0eGnn5G6uqTERE28dbG937+P3aiZM73BSzoZ/v62HYrV2qplEzP1o8ws/SQrW99+b4u35rCrS531\\\n",
              "9d6avY4O/a8xY/STrOzIwp+khIwMJYweLUlypKba5U9pcmvupqOqyj+qS7bW6Mi3Luh1RO3106+3\\\n",
              "g1hwzdwt59yijJQMOVOcsmR1m64l1Ijd66dfr/svur9b865PqKZfAAD6ghrAAeAviEBHq6rs/nxZ\\\n",
              "t6+wm1P3nDdTVmurHGlpcqSm9lrrN2AOh9LOPlutu3Z5t/0+4mkFBeo8csQOqP7N1f41gPk3rwio\\\n",
              "wYukti3cOr8+oZaJozYPAIYe728C4IDwAeoueDqXo1VVaihbGf1fnJiojCuv1Fc7dmjirYvtpmj/\\\n",
              "4/m7wo8WDqentX1DndvXKVj6cn8AwODg/S0l9X4KELmJty62a9Uk9ToFy4AlJSlh9OiAGsejVVVy\\\n",
              "JCfL8niUNGmSOhsblXHllf26/fXTr484mPnO8+8POJj3BwBgsFADOAD8BdE736jfSAZ8hJKUm2sH\\\n",
              "uC/fecd7j4QEyeNRWkGBpr7ycrdrgmshAQDwx/ubQSCIsvHFxframxuVdfuKfl0/auZMJWVna9QF\\\n",
              "X1fW7SuUlJurhLFjJUmdR46EvMY3qbT/QJTBxFJrAICRjgCIqPKNAJakBKezz9c3v/66PUmzf5js\\\n",
              "KeD5zuvr8m+RevYvz3YbzQsAwEhCH0BERXDTr290cILTKc9XX0kdHd0vSkxUzgPeiY9954+ZM8ce\\\n",
              "2OEzvrg4auEuErecc0uf+vkB6LuysjJlZmYGTPoezOVyqampSWVlZUNXMCBOEAARFb61dBOczoBJ\\\n",
              "n5Nyc5V1+wo1PvqYrNbWkxc4HFJXlxoeeliOlBRZJ04owenUqf/n32L3LxEGAzeA6CorK9PKlSdn\\\n",
              "DwgVAoNXACIEAn1DEzCiwtcPL+v2Fd2abccXF+usD3co4+qrvcEvKUmOtDQ7BAYEwzD8J5cGED+C\\\n",
              "w9+yZcvkcrkCzgkOfytXriQAAn3EKOABYBRRd72tBRzMN2LXJ8HpDGj2DXcPRvoC8eeHN/xvrf3N\\\n",
              "CyGP+dYAD7X2t09paSlBEBHh/U0AHBA+QN1FEsz8Q6KkgImiIw10fQ2aAIa34Jq/UPLz87V79+4e\\\n",
              "zyEEIhK8v2kCxiA6WlUlT0uLEpzOHqdg8fUP9I3stUcHOxwRT90S7ZG+AIZWZmb4NbwLVCBJdvjz\\\n",
              "bff1PgBOIgBi0Bx++hl53G4ljB7dYzDz9Q8cNXOmPr78Co2ZM0dJubnKKX2QQAcYqqSkRBUVFd32\\\n",
              "L9RClatcxfL+v6FYxSpXuRZqYbdzfc3EAHpHAMSgiXQCZl/t3Vc7dqizvt7u73f46WcY1AEYLDgE\\\n",
              "FqhAi7RIkrRES1Stai3REknSIi0KqAkk/AF9QwDEoOlrs6x/YPRvFgZgLv8QWKMardVa+5hTJyeT\\\n",
              "X6u1qlGNJMIf0B8MAhkAOpEOHgZ1APHvow3r9UH1K7qw6Fqd+82rejx3xowZdp+/alUHhD+33CpS\\\n",
              "kSTvwJDa2tqolRnxifc3NYAYJhjUAcS/D6pfUfPhQ/qg+pUez3O5XHb4K1ZxQPiTvDWBvj6Bu3fv\\\n",
              "7jZPIIDeEQABAEPiwqJrlTExSxcWXRv2HP95/gpUYPf5k7w1fz5LtMTuAxhqsmgAPSMAAgCi6qMN\\\n",
              "6/VMyQ8kSYtdvwrb/Bs8yXONalSpSknePn9FKrL7BFaq0u4DKBECgb5iLWAAQFT5N/2e+82rQvYF\\\n",
              "DLfCx/N6Xtu0zQ57VapSzd/+Cea7ngEhQO+oAQQARJWv6Td3+ll6puQHeqfq1936AjY1NYW93hf2\\\n",
              "8vPzA7ZD6ek+AE4iAAIAosK/6ffComtVt+UdNR8+pNYvv5Qk5U4/yz63rKxMpaWlYe9VUVGh2tra\\\n",
              "kJNF+7AMHBA5moABAIPuow3rtfFXa2R5PHrnxX9X24kWWR5PwDl73n1be977fzrr4m/o6tt+rO9e\\\n",
              "cqG2ff08/f7PHwac5z/Pn+97cHMx4Q/oG2oAAQAD5qvt+2jDeknefn++wNfacrxb+LNZlva89//s\\\n",
              "ay4741R9++vn2YdDTfIcvGII4Q/oOyaCHgAmkgQAL9cPvq/WluNKSEqS5fEo6/Qz1Pg/eyO+ft4t\\\n",
              "P5Ike3DIq+9+oMzMzB4HdLhcLjU1NRH+0Ge8vwmAA8IHCAC8XDcX2337JEkOh9TH10va6LGa8/0b\\\n",
              "el0lBBgo3t80AQMABsGc4huVMTFL2WecKUdCghISE/t8j9aW472uEgJgcDAIBAAwYOd+8yq75u6j\\\n",
              "Dev138891a/7+I8M9teXdYQB9I4aQADAoPqg+pU+N//61Nft6TagxHfPSNYRBhAZAiAAYFBdWHSt\\\n",
              "0kaPVUJS3xqZklJTdWHRtSHDXiTrCAOIHE3AAIBBde43r9IH1a+oteW4klJT1dnWFtF1ScnJdvOu\\\n",
              "r7nX/540/QKDhxpAAMCgy51+lhwJCdLfWoIdCQn2ABHf92Dtra36P8Xf0aZ/f46+fkCUUQMIABh0\\\n",
              "9XV7ZHk8SkpJ1qgMZ0Cg+2jDev33s78MON+RkCBPV5dkWepsa9N/P/eU3qn6teYU30gQBKKAGkAA\\\n",
              "wKDz9dmbU3yjFrt+FRDi/Pv2jZ2YqYyJWbriBz/UWRd/wzt/oCRZllq//JJBH3GorKxMLperx3Nc\\\n",
              "LhcTfEcZNYAAgEHXU58930CP4Gbec795la6+7cf6aMN6vfPiv0sOi0EfcaasrEwrV660t0Ot9OJy\\\n",
              "uQLWeiYIRgcrgQwAM4kDQOT85/KTxLx+hgkOf1L3tZ6Dw58UnbWeeX9TAwgAGCLB07v4fiYAxr9Q\\\n",
              "4U+SHfZKSkpChj9J9nXUBA4u+gACAIaE/1x+vlHC4Vb+QPwIF/58li1bphkzZoQMfz4rV64kAA4y\\\n",
              "AiAAYMj5RgnX1+2JdVEQZZmZmWGPFahAkrR79+6A7b7eB31HAAQADAn/JmBW9jBHSUmJKioquu1f\\\n",
              "qIUqV7mKVSxJKlaxylWuhVrY7dzgvoIYOAaBDACdSAEgcv6DQOj3Zx7/Pn4FKlC5yu1jbrnllNPe\\\n",
              "Xq7lqlGNpOiEP97fBMAB4QMEAEDk/ENgsYq1REu6nbNWa1WlKknRq/nj/U0AHBA+QAAA9M2MGTPs\\\n",
              "Pn/Vqg6o+XPLrSIVSZLy8/NVW1sblTLw/qYPIAAAGCIul8sOf8UqDgh/kuSU0+4TuHv37l5XDEH/\\\n",
              "EQABAEDUBfcB9G/+dctt/7xES+zRwMuWLSMERgkBEAAARFXwJM81qlGlKiV5+/wVqUhrtVaSVKlK\\\n",
              "ewCIRAiMFvoADgB9CAAA6Fm4FT4kb02gf9gL3vY3mANCeH9TAwgAAKKoqakp7DFf2MvPzw/Y7ut9\\\n",
              "0HdxGwDffvttfec731Fubq4cDoeqq6sDjluWpQcffFCTJk1Senq65s2bp48//jg2hQUAYJioefuA\\\n",
              "fn3fu6p5+8Cg3KOsrEylpaVhz62oqFBtbW3IyaJ9SktLWQpukMVtAGxpadG5554btt/A6tWr9eST\\\n",
              "T2rNmjV6//33NXr0aC1YsECtra1DXFIAAIaP7a9/puNH2rT99c8G7R7hQqB/s264FUMIf9FhRB9A\\\n",
              "h8OhV199VUVFRZK8tX+5ubm688479a//+q+SJLfbrezsbFVWVqq4uDii+9KHAAAQD2rePqDtr3+m\\\n",
              "8688XZLsnwsuPbVP99ha/Ym6OjySpMTkBE05+xTt2/VXSdLsoml65c1ntHLlSknh+/T59xmMVvjj\\\n",
              "/S0lxboAsfDpp5+qoaFB8+bNs/c5nU5ddNFF2rJlS9gA2NbWpra2Nnu7ubk56mUFACDa/GvsfCEw\\\n",
              "nDee26W92xp15qxszb/5bL3x3C59/OdGKag6qbPDo4//1BjwO8p+WiZJyszMDDugw7e/qamJmr8o\\\n",
              "MjIANjQ0SJKys7MD9mdnZ9vHQlm1apX9lwsAAPHi/CtPt8Offxj01QD61xDu3dYoyyPt3dao3K+N\\\n",
              "Cwh54TgcUs60cfr1fe/q2isX91qzGI3l3xAobvsARsO9994rt9ttf+3fvz/WRQIAYMAKLj1VN/70\\\n",
              "EhVceqrOv/J0jZ2QatcE1rx9QJtfrNPxI23aWv2JRo9LlSRZHmnzC3UR3d+ypI//1BjQL3AwBpug\\\n",
              "/4ysAczJyZEkNTY2atKkSfb+xsZGnXfeeWGvS01NVWpqarSLBwBAzBRcempADd321z+zm3fbvupU\\\n",
              "21edA7p/zrRx9n2DaxoxdIysAZw6dapycnK0ceNGe19zc7Pef/99FRYWxrBkAAAML+dfebpSR/Wv\\\n",
              "vigh0aExEwIrTho+OWbf17+mEUMrbmsAv/zyS+3du9fe/vTTT/Xhhx9qwoQJmjJlilasWKGHH35Y\\\n",
              "X/va1zR16lQ98MADys3NtUcKAwCAkzWCz97xttq+6lTqqKSIawE9XZY6Wru8Gw4pNT3JDnzBNY0Y\\\n",
              "WnEbAP/85z9r7ty59vYdd9whSVq4cKEqKyv14x//WC0tLbr11lt17NgxzZkzR6+//rrS0tJiVWQA\\\n",
              "AIat9tZO+3tCgkMeT+SzyPlq+gh8w4cR8wBGC/MIAQBM4T/9S+7Xxtl9+HrztQu808X4jySOdRDk\\\n",
              "/W1oH0AAANA3828+W5cWT7f78N3400sius53/mCsMILBQwAEAAAR8YW4rdWf6Nf3vauk5JMxIikl\\\n",
              "QUnJCUpIdJzcl5xg9/lj0MfwQgAEAAABws3R5wtxknT8SJs6/7bsmyNBWvLkZUofmyxPlyXH39JF\\\n",
              "+thkSdKv73tXkuy5BhF7BEAAABAgXHOtb8Lo2UXTNHZCqjJPGytHgnTmLO/KWmljUyRJo8elKnVU\\\n",
              "kk4c77Ankabpd3iJ21HAAACgf/yXhgsl3BQuh/cflyS1HGvTmHGpOv636WIcCaLpd5ghAAIAgAD9\\\n",
              "naPvzFnZASOFt1Z/IkmaXTSNpt9hhmlgBoBh5AAAjDy8v+kDCAAAYBwCIAAAgGEIgAAAAIYhAAIA\\\n",
              "ABiGAAgAAGAYAiAAAIBhCIAAAACGIQACAAAYhgAIAABgGAIgAACAYQiAAAAAhiEAAgAAGIYACAAA\\\n",
              "YBgCIAAAgGEIgAAAAIYhAAIAABiGAAgAAGAYAiAAAIBhCIAAAACGIQACAAAYhgAIAABgGAIgAACA\\\n",
              "YQiAAAAAhiEAAgAAGIYACAAAYBgCIAAAgGEIgAAAAIYhAAIAABiGAAgAAGAYAiAAAIBhCIAAAACG\\\n",
              "IQACAAAYhgAIAABgGAIgAACAYQiAAAAAhiEAAgAAGIYACAAAYBgCIAAAgGEIgAAAAIYhAAIAABiG\\\n",
              "AAgAAGAYAiAAAIBhCIAAAACGIQACAAAYhgAIAABgGAIgAACAYQiAAAAAhiEAAgAAGIYACAAAYBgC\\\n",
              "IAAAgGGMD4Aul0unn3660tLSdNFFF+mDDz6IdZEAAACiyugA+Nvf/lZ33HGHSktLtX37dp177rla\\\n",
              "sGCBDh06FOuiAQAARI3RAfBnP/uZFi9erJtuukkzZszQmjVrNGrUKP3qV7+KddEAAACixtgA2N7e\\\n",
              "rm3btmnevHn2voSEBM2bN09btmyJYckAAACiKynWBYiVw4cPq6urS9nZ2QH7s7OztWfPnpDXtLW1\\\n",
              "qa2tzd5ubm6OahkBAACiwdgawP5YtWqVnE6n/ZWXlxfrIgEAAPSZsQFw4sSJSkxMVGNjY8D+xsZG\\\n",
              "5eTkhLzm3nvvldvttr/2798/FEUFAAAYVMYGwJSUFM2aNUsbN26093k8Hm3cuFGFhYUhr0lNTVVG\\\n",
              "RkbAFwAAwEhjbB9ASbrjjju0cOFCff3rX9eFF16on//852ppadFNN90U66IBAABEjdEB8J/+6Z/U\\\n",
              "1NSkBx98UA0NDTrvvPP0+uuvdxsYAgAAEE8clmVZsS7ESNXc3Cyn0ym3201zMAAAIwTvb4P7AAIA\\\n",
              "AJiKAAgAAGAYAiAAAIBhCIAAAACGIQACAAAYhgAIAABgGAIgAACAYQiAAAAAhiEAAgAAGIYACAAA\\\n",
              "YBgCIAAAgGEIgAAAAIYhAAIAABiGAAgAAGAYAiAAAIBhCIAAAACGIQACAAAYhgAIAABgGAIgAACA\\\n",
              "YQiAAAAAhiEAAgAAGIYACAAAYBgCIAAAgGEIgAAAAIYhAAIAABiGAAgAAGAYAiAAAIBhCIAAAACG\\\n",
              "IQACAAAYhgAIAABgGAIgAACAYQiAAAAAhiEAAgAAGIYACAAAYBgCIAAAgGEIgAAAAIYhAAIAABiG\\\n",
              "AAgAAGAYAiAAAIBhCIAAAACGIQACAAAYhgAIAABgGAIgAACAYQiAAAAAhiEAAgAAGIYACAAAYBgC\\\n",
              "IAAAgGEIgAAAAIYhAAIAABiGAAgAAGAYAiAAAIBhCIAAAACGIQACAAAYhgAIAABgGAIgAACAYQiA\\\n",
              "AAAAhiEAAgAAGIYACAAAYJi4DICPPPKILr74Yo0aNUrjxo0Lec6+fft09dVXa9SoUcrKytJdd92l\\\n",
              "zs7OoS0oAABADCTFugDR0N7eruuuu06FhYV67rnnuh3v6urS1VdfrZycHL333ns6ePCgbrzxRiUn\\\n",
              "J+unP/1pDEoMAAAwdByWZVmxLkS0VFZWasWKFTp27FjA/j/+8Y/69re/rfr6emVnZ0uS1qxZo7vv\\\n",
              "vltNTU1KSUmJ6P7Nzc1yOp1yu93KyMgY7OIDAIAo4P0dp03AvdmyZYvOOeccO/xJ0oIFC9Tc3Kxd\\\n",
              "u3aFva6trU3Nzc0BXwAAACONkQGwoaEhIPxJsrcbGhrCXrdq1So5nU77Ky8vL6rlBAAAiIYREwDv\\\n",
              "ueceORyOHr/27NkT1TLce++9crvd9tf+/fuj+vsAAACiYcQMArnzzju1aNGiHs8544wzIrpXTk6O\\\n",
              "Pvjgg4B9jY2N9rFwUlNTlZqaGtHvAAAAGK5GTADMzMxUZmbmoNyrsLBQjzzyiA4dOqSsrCxJ0oYN\\\n",
              "G5SRkaEZM2YMyu8AAAAYrkZMAOyLffv26ciRI9q3b5+6urr04YcfSpLOPPNMjRkzRvPnz9eMGTN0\\\n",
              "ww03aPXq1WpoaNBPfvITlZSUUMMHAADiXlxOA7No0SI9//zz3fa/9dZbuuyyyyRJn3/+uZYuXapN\\\n",
              "mzZp9OjRWrhwoR599FElJUWeiRlGDgDAyMP7O04D4FDhAwQAwMjD+3sEjQIGAADA4CAAAgAAGIYA\\\n",
              "CAAAYBgCIAAAgGEIgAAAAIYhAAIAABiGAAgAAGAYAiAAAIBhCIAAAACGIQACAAAYhgAIAABgGAIg\\\n",
              "AACAYQiAAAAAhiEAAgAAGIYACAAAYBgCIAAAgGEIgAAAAIYhAAIAABiGAAgAAGAYAiAAAIBhCIAA\\\n",
              "AACGIQACAAAYhgAIAABgGAIgAACAYQiAAAAAhiEAAgAAGIYACAAAYBgCIAAAgGEIgMAw85utn+uS\\\n",
              "R9/Ub7Z+HuuiAADiFAEQGGae2vSJDhw7oac2fRLrogAA4hQBEBhmll42TaeOS9fSy6bFuigAgDjl\\\n",
              "sCzLinUhRqrm5mY5nU653W5lZGTEujgAACACvL+pAQQAADAOARAYZsrKyuRyuXo8x+VyqaysbGgK\\\n",
              "BACIO0mxLgCAk8rKyrRy5Up7u6SkpNs5LpdLy5YtC7gGAIC+oAYQGCaCw9+yZcu61QQGh7+VK1cS\\\n",
              "AAEAfUYABIaB4PDn4x8Cg8OfDyEQANBXjAIeAEYRYTCEC3/+8vPztXv37h7PKS0tJQgCQAR4f1MD\\\n",
              "CMRcZmZm2GMFKpAkO/z5tvt6HwAA/BEAYbxYL71WUlKiioqKbvsXaqHKVa5iFUuSilWscpVroRZ2\\\n",
              "O7eioiLkgBEAAEIhAMJ4w2HpteAQWKACLdIiSdISLVG1qrVESyRJi7QooCaQ8AcA6CsCIIw3WEuv\\\n",
              "DbQm0T8E1qhGa7XWPuaU0/55rdaqRjWSCH8AgP5hEMgA0IkU/i559E0dOHZCp45L17v3XN7v+8yY\\\n",
              "McPu81et6oDw55ZbRSqS5B0YUltbO6AyA4CJeH9TAwgMmsGoSXS5XHb4K1ZxQPiTvDWBvj6Bu3fv\\\n",
              "7nXFEAAAQqEGcAD4CwKDyX+evwIVqFzl9jG33AFhcLmW0wwMAP3E+5saQGBYCJ7kuUY1qlSlJG+f\\\n",
              "vyIV2X0CK1Vphz8p9IohAAD0hBrAAeAvCAT7zdbP9dSmT7T0smn659mnRXROuBU+JG9NoH/YC972\\\n",
              "R00gAESG9zc1gMCgimRKmeBzmpqawp7rC3v5+fkB26H0dB8AAPwRAIFBFMlAkOBzzrzyJk2+4saw\\\n",
              "51dUVKi2tjbkZNE+LAMHAOiLpFgXAIgn/zz7tICm30iahJ/a9IkSv369Jkv6YuOvA475N+v6vgc3\\\n",
              "FxP+AAB9RR/AAaAPAXrjmxtwXHqy2jq71NrhUVKCQx0eS+nJiZowOkWzThuvbZ8f1dLLpmnv6+u0\\\n",
              "cuVKSeH79Pn3GST8AUDf8f6mBhCIWCS1ecHntrR1SJKOneiwj3V4vH9znejo0oFjJyTp5MTRs8sk\\\n",
              "SZmZmWEHdPj2NzU1Ef4AAP1CAAQi5D94I1Qzr68mb9Zp4/WHnfXqiqBufVx6ckB/wd9s/Vwb0i7V\\\n",
              "0lk9TybNaF8AwEAwCASIULgBHr5g+Ied9fb3SMKfJLW0deqpTZ/Y6wdHMooYAICBIgACEfrn2afp\\\n",
              "3Xsu79b86wuGV/99rsalJyslKTHie3Z4LB04dkL/9l91AfcayHJyAAD0hiZgoB+C+wP6QuElj76p\\\n",
              "YydO9Pl+bZ0eSd1HEQMAEA3UAAL9ENxU+5utn+u8lW/oSEub0pMjrwE8icH4AIChE5cB8LPPPtPN\\\n",
              "N9+sqVOnKj09XdOmTVNpaana29sDztu5c6e+8Y1vKC0tTXl5eVq9enWMSoyRJrip9qlNn+jYiQ6d\\\n",
              "6PCovbOrz/fr7LI07d4/6LYXdwx2UQEA6CYuA+CePXvk8Xi0du1a7dq1S0888YTWrFmj++67zz6n\\\n",
              "ublZ8+fP12mnnaZt27bp8ccfV1lZmZ5++ukYlhwjRXB/wKWXTdO49GSNS0/W2bnOiO/jkHckcKfH\\\n",
              "Upcl/WFnfZRKDADAScZMBP3444/rqaee0v/8z/9Ikp566indf//9amhoUEpKiiTpnnvuUXV1tfbs\\\n",
              "2RPRPZlIEsF+s/VzPVBdE3GDboJDykhL1ujURB041qq/P9Wp/7t8TlTLCACm4/0dpzWAobjdbk2Y\\\n",
              "MMHe3rJliy699FI7/EnSggULVFdXp6NHj8aiiIgDT236pE+9+TyWd5LoBnerJOmvLe29XAEAwMAZ\\\n",
              "EQD37t2r8vJyLVmyxN7X0NCg7OzsgPN82w0NDSHv09bWpubm5oAvwJ+vKTg9+eR/WunJCTp1XLq9\\\n",
              "z/+Y5G0Cvvrvc5n+BUDcKisrk8vl6vEcl8vF6kZDaERNA3PPPffoscce6/Gc3bt366yzzrK3Dxw4\\\n",
              "oCuvvFLXXXedFi9ePKDfv2rVKnudViAU/2lcglcI+eaMHHvN35f+tF87D7j196c6df0FeREvMQcA\\\n",
              "I01ZWVnAu7O3Nc591yC6RlQfwKamJv31r3/t8ZwzzjjDbtatr6/XZZddptmzZ6uyslIJCSdrXm68\\\n",
              "8UY1Nzerurra3vfWW2/p8ssv15EjRzR+/Phu925ra1NbW5u93dzcrLy8PKP7ECBQqPWCL3n0TR04\\\n",
              "dkKnjks/ueavn96OA8BIFRz+JKmioiIgBAaHP0kqLS2NagikD+AIqwHMzMxUZmZmROceOHBAc+fO\\\n",
              "1axZs7Ru3bqA8CdJhYWFuv/++9XR0aHk5GRJ0oYNGzR9+vSQ4U+SUlNTlZqaOrB/CcQ13/yA//Zf\\\n",
              "dXYQXHrZNPtnqXtIDD4OAPEgVPiTZIe9kpKSkOFPkn0dNYHRM6JqACN14MABXXbZZTrttNP0/PPP\\\n",
              "KzHx5MS8OTk5kryDQqZPn6758+fr7rvvVk1NjX7wgx/oiSee0K233hrR7+EvCPgEN/e2tHXq2ImO\\\n",
              "gFo93zmhjgFAPAkX/vzl5+dr9+7dPZ4TrZpA3t8jrAYwUhs2bNDevXu1d+9eTZ48OeCYL+86nU69\\\n",
              "8cYbKikp0axZszRx4kQ9+OCDEYc/wJ+v5k+S3r3n8oBaPp9/+686HTvRYQ8KocYPQLzqqbWuQAWq\\\n",
              "UY0d/nzbfb0PBiYuawCHCn9BwCdU379g5618Q8dOdGhcerI+LJ0/xCUEgKEVqnl3oRZqkRZprdaq\\\n",
              "SlUqVrGWaIkqVann9XzAucF9BQcT728C4IDwAUJfRBISASCe+IfAAhWoXOX2MbfccurkyknLtdyu\\\n",
              "CYxm+JN4f0sEwAHhAwQAQM/8Q6Cvxi+Yr0ZQin74k3h/SwTAAeEDBACIe396TnrnCSnvImn/+9Kc\\\n",
              "26ULbu7TLWbMmGH3+atWdUDNn1tuFalIkndgSG1t7aAVPRze34asBAIAAPrpnSck935p16ve7+88\\\n",
              "0afLXS6XHf6KVRwQ/iTJKaeKVSzJu5hDbyuGYHAQAAEAQHhzbpecedLZ3/V+n3N7xJcG9wH0b/51\\\n",
              "y23/vERLVKACSd55AgmB0ReX08AAAIBBcsHNfW7ylbqPAq5RjSpVGXYUsP9UMP6TRSM66AM4APQh\\\n",
              "AADEFV9/v976+YU6z2+f64PWkCt8SN3n/etpHsBoDQjh/U0TMAAA8PH19+utn9/Gh7znbXwo5LVN\\\n",
              "TU1hL/WFvfz8/IDtUHq6DwaGAAgAALx8/f166+fX1Rb4PejasrIylZaWhr28oqJCtbW1qqioCHtO\\\n",
              "tJaBgxd9AAEAgFdP/f3+9Jz0x7slT8fJfR1fSWXjpIQkKXWMNO0Ku/bQF96C1wT2b9b1fQ9uLib8\\\n",
              "RR8BEAAAhObr1zd6olS/I8xJljcUnjgq1fynd3vjQ9IFN3cLgaH69AWHQMLf0CAAAgCA7v70nPSH\\\n",
              "OyVZ3r59vXJIyeneWkHHyb2+MJeZmRl2QIdvf1NTE+FviDAKeAAYRQQAiFuPne6t1YuUM09yf+EN\\\n",
              "gdOv6veqIUOB9zeDQAAAgM+fnpOeKPB+72v1kHu/JEvqbPOGv36sGoKhQwAEAABe/tPAXPGAlDZe\\\n",
              "Ae25kTj7u5GPJkbMEAABAICXL7jlXeQNgV1t6lNVYO5M6bSLI5tMGjFFH8ABoA8BACAuPVEQ4cCP\\\n",
              "ENLGS61HJTmktHHemsRhFgR5f1MDCAAA/Pv+Sd4awP5ySHIkSrK8QZB+gMMSARAAANMFLwG3//2T\\\n",
              "x5JHeb8idfkD0lWPS+njvbWB9AMclpgHEAAA0825/WS/Pd/2xoe8tXmXP/C3gPhV7/cpuPZkc+8w\\\n",
              "a/ZFIAIgAAA4ybf6R3DfPf+AuPEhqfWY7AEi6eOluz8b4oJiIBgEMgB0IgUAxAXfoA9nnnfb9/Pt\\\n",
              "NeGv+dNz0psPeTNgNAZ6+IJoFEYT8/6mDyAAAPCft68vc/iljIneKN/gfokYVNQADgB/QQAAjOVf\\\n",
              "a9hTTWF/UQMYVdQAAgCAvuuppjB4Wpn+uOBmb7BkMElUUAM4APwFAQBACNGuHRwg3t/UAAIAgMHG\\\n",
              "WsDDHtPAAACAwXXBzTTdDnPUAAIAgOgZjP6AGHQEQAAAED1M5zIsEQABAED00B9wWKIPIAAAiB76\\\n",
              "Aw5L1AACAAAYhgAIAABgGAIgAACAYQiAAAAAhiEAAgAAGIYACAAAYBgCIAAAgGEIgAAAAIYhAAIA\\\n",
              "ABiGAAgAAGAYAiAAAIBhCIAAAACGIQACAAAYJinWBRjJLMuSJDU3N8e4JAAAIFK+97bvPW4iAuAA\\\n",
              "HD9+XJKUl5cX45IAAIC+On78uJxOZ6yLERMOy+T4O0Aej0f19fUaO3asHA5HrIvTZ83NzcrLy9P+\\\n",
              "/fuVkZER6+KMGDy3/uPZ9Q/Prf94dv0Xz8/OsiwdP35cubm5SkgwszccNYADkJCQoMmTJ8e6GAOW\\\n",
              "kZERd/9xDwWeW//x7PqH59Z/PLv+i9dnZ2rNn4+ZsRcAAMBgBEAAAADDEAANlpqaqtLSUqWmpsa6\\\n",
              "KCMKz63/eHb9w3PrP55d//Hs4huDQAAAAAxDDSAAAIBhCIAAAACGIQACAAAYhgAIAABgGAKgof7h\\\n",
              "H/5BU6ZMUVpamiZNmqQbbrhB9fX1Aefs3LlT3/jGN5SWlqa8vDytXr06RqUdHj777DPdfPPNmjp1\\\n",
              "qtLT0zVt2jSVlpaqvb094DyeW2iPPPKILr74Yo0aNUrjxo0Lec6+fft09dVXa9SoUcrKytJdd92l\\\n",
              "zs7OoS3oMORyuXT66acrLS1NF110kT744INYF2nYefvtt/Wd73xHubm5cjgcqq6uDjhuWZYefPBB\\\n",
              "TZo0Senp6Zo3b54+/vjj2BR2GFm1apUuuOACjR07VllZWSoqKlJdXV3AOa2trSopKdEpp5yiMWPG\\\n",
              "6JprrlFjY2OMSozBQgA01Ny5c/XSSy+prq5O//mf/6lPPvlE1157rX28ublZ8+fP12mnnaZt27bp\\\n",
              "8ccfV1lZmZ5++ukYljq29uzZI4/Ho7Vr12rXrl164okntGbNGt133332OTy38Nrb23Xddddp6dKl\\\n",
              "IY93dXXp6quvVnt7u9577z09//zzqqys1IMPPjjEJR1efvvb3+qOO+5QaWmptm/frnPPPVcLFizQ\\\n",
              "oUOHYl20YaWlpUXnnnuuXC5XyOOrV6/Wk08+qTVr1uj999/X6NGjtWDBArW2tg5xSYeXzZs3q6Sk\\\n",
              "RFu3btWGDRvU0dGh+fPnq6WlxT7n9ttv1+9+9zu9/PLL2rx5s+rr6/W9730vhqXGoLAAy7Jee+01\\\n",
              "y+FwWO3t7ZZlWdYvf/lLa/z48VZbW5t9zt13321Nnz49VkUcllavXm1NnTrV3ua59W7dunWW0+ns\\\n",
              "tn/9+vVWQkKC1dDQYO976qmnrIyMjIDnaZoLL7zQKikpsbe7urqs3Nxca9WqVTEs1fAmyXr11Vft\\\n",
              "bY/HY+Xk5FiPP/64ve/YsWNWamqq9eKLL8aghMPXoUOHLEnW5s2bLcvyPqfk5GTr5Zdfts/ZvXu3\\\n",
              "JcnasmVLrIqJQUANIHTkyBH9x3/8hy6++GIlJydLkrZs2aJLL71UKSkp9nkLFixQXV2djh49Gqui\\\n",
              "Djtut1sTJkywt3lu/bdlyxadc845ys7OtvctWLBAzc3N2rVrVwxLFjvt7e3atm2b5s2bZ+9LSEjQ\\\n",
              "vHnztGXLlhiWbGT59NNP1dDQEPAcnU6nLrroIp5jELfbLUn2/9e2bdumjo6OgGd31llnacqUKTy7\\\n",
              "EY4AaLC7775bo0eP1imnnKJ9+/bptddes481NDQEvIgl2dsNDQ1DWs7hau/evSovL9eSJUvsfTy3\\\n",
              "/uPZdXf48GF1dXWFfC6mPpP+8D0rnmPPPB6PVqxYoUsuuUQFBQWSvM8uJSWlW79dnt3IRwCMI/fc\\\n",
              "c48cDkePX3v27LHPv+uuu7Rjxw698cYbSkxM1I033ijLwIVh+vrcJOnAgQO68sordd1112nx4sUx\\\n",
              "Knns9efZARieSkpKVFNTo6qqqlgXBUMgKdYFwOC58847tWjRoh7POeOMM+yfJ06cqIkTJ+rv/u7v\\\n",
              "lJ+fr7y8PG3dulWFhYXKycnpNsrLt52TkzPoZY+lvj63+vp6zZ07VxdffHG3wR0mPTep78+uJzk5\\\n",
              "Od1Gt8bzs4vExIkTlZiYGPIzZeoz6Q/fs2psbNSkSZPs/Y2NjTrvvPNiVKrhZdmyZfr973+vt99+\\\n",
              "W5MnT7b35+TkqL29XceOHQuoBeQzOPIRAONIZmamMjMz+3Wtx+ORJLW1tUmSCgsLdf/996ujo8Pu\\\n",
              "F7hhwwZNnz5d48ePH5wCDxN9eW4HDhzQ3LlzNWvWLK1bt04JCYGV6CY9N2lgn7lghYWFeuSRR3To\\\n",
              "0CFlZWVJ8j67jIwMzZgxY1B+x0iTkpKiWbNmaePGjSoqKpLk/W9148aNWrZsWWwLN4JMnTpVOTk5\\\n",
              "2rhxox34mpub9f7774cdlW4Ky7K0fPlyvfrqq9q0aZOmTp0acHzWrFlKTk7Wxo0bdc0110iS6urq\\\n",
              "tG/fPhUWFsaiyBgssR6FgqG3detWq7y83NqxY4f12WefWRs3brQuvvhia9q0aVZra6tlWd6RX9nZ\\\n",
              "2dYNN9xg1dTUWFVVVdaoUaOstWvXxrj0sfPFF19YZ555pnXFFVdYX3zxhXXw4EH7y4fnFt7nn39u\\\n",
              "7dixw1q5cqU1ZswYa8eOHdaOHTus48ePW5ZlWZ2dnVZBQYE1f/5868MPP7Ref/11KzMz07r33ntj\\\n",
              "XPLYqqqqslJTU63KykqrtrbWuvXWW61x48YFjJaGZR0/ftz+TEmyfvazn1k7duywPv/8c8uyLOvR\\\n",
              "Rx+1xo0bZ7322mvWzp07rX/8x3+0pk6dap04cSLGJY+tpUuXWk6n09q0aVPA/9O++uor+5wf/vCH\\\n",
              "1pQpU6w333zT+vOf/2wVFhZahYWFMSw1BgMB0EA7d+605s6da02YMMFKTU21Tj/9dOuHP/yh9cUX\\\n",
              "XwSc99FHH1lz5syxUlNTrVNPPdV69NFHY1Ti4WHdunWWpJBf/nhuoS1cuDDks3vrrbfscz777DPr\\\n",
              "W9/6lpWenm5NnDjRuvPOO62Ojo7YFXqYKC8vt6ZMmWKlpKRYF154obV169ZYF2nYeeutt0J+vhYu\\\n",
              "XGhZlncqmAceeMDKzs62UlNTrSuuuMKqq6uLbaGHgXD/T1u3bp19zokTJ6wf/ehH1vjx461Ro0ZZ\\\n",
              "3/3udwP+8MXI5LAsA3v9AwAAGIxRwAAAAIYhAAIAABiGAAgAAGAYAiAAAIBhCIAAAACGIQACAAAY\\\n",
              "hgAIAABgGAIgAACAYQiAAAAAhiEAAgAAGIYACAAAYBgCIAAAgGEIgAAAAIYhAAIAABiGAAgAAGAY\\\n",
              "AiAAAIBhCIAAAACGIQACAAAYhgAIAABgGAIgAACAYQiAAAAAhiEAAgAAGIYACAAAYBgCIAAAgGEI\\\n",
              "gAAAAIYhAAIAABiGAAgAAGAYAiAAAIBhCIAAAACGIQACAAAYhgAIAABgmP8P/6zd9Rceij4AAAAA\\\n",
              "SUVORK5CYII=\\\n",
              "\"\n",
              "  frames[2] = \"data:image/png;base64,iVBORw0KGgoAAAANSUhEUgAAAoAAAAHgCAYAAAA10dzkAAAAOXRFWHRTb2Z0d2FyZQBNYXRwbG90\\\n",
              "bGliIHZlcnNpb24zLjguMCwgaHR0cHM6Ly9tYXRwbG90bGliLm9yZy81sbWrAAAACXBIWXMAAA9h\\\n",
              "AAAPYQGoP6dpAAApZ0lEQVR4nO3df3DU9YH/8VcCZANIFpAlkRIUfxwkjV+ccoihrSOaIzr0R66e\\\n",
              "beY7o6H2i5EmzHlyFvzFbubOw2Kv7ZhsJd70CJ1rxfrtGOfU+i2TqtzUoFPE2piQkTsRJCbEIrsc\\\n",
              "JwmQ9/eP3H5ud7MbEjbJZ7Pv56OTKZ/9fLJ5+5no58l7Pz+yjDFGAAAAsEa22wMAAADAxCIAAQAA\\\n",
              "LEMAAgAAWIYABAAAsAwBCAAAYBkCEAAAwDIEIAAAgGUIQAAAAMsQgAAAAJYhAAEAACxDAAIAAFiG\\\n",
              "AAQAALAMAQgAAGAZAhAAAMAyBCAAAIBlCEAAAADLEIAAAACWIQABAAAsQwACAABYhgAEAACwDAEI\\\n",
              "AABgGQIQAADAMgQgAACAZQhAAAAAyxCAAAAAliEAAQAALEMAAgAAWIYABAAAsAwBCAAAYBkCEAAA\\\n",
              "wDIEIAAAgGUIQAAAAMsQgAAAAJYhAAEAACxDAAIAAFiGAAQAALAMAQgAAGAZAhAAAMAyBCAAAIBl\\\n",
              "CEAAAADLEIAAAACWIQABAAAsQwACAABYhgAEAACwDAEIAABgGQIQAADAMgQgAACAZQhAAAAAyxCA\\\n",
              "AAAAliEAAQAALEMAAgAAWIYABAAAsAwBCAAAYBkCEAAAwDIEIAAAgGUIQAAAAMtMdXsAk9nAwIC6\\\n",
              "uro0a9YsZWVluT0cAAAwAsYYnTp1SgsWLFB2tp1zYQRgCrq6ulRYWOj2MAAAwEU4evSoFi5c6PYw\\\n",
              "XEEApmDWrFmSBn+B8vLyXB4NAAAYiXA4rMLCQuc4biMCMAWRj33z8vIIQAAAJhmbT9+y84NvAAAA\\\n",
              "ixGAAAAAliEAAQAALEMAAgAAWIYABAAAsAwBCAAAYBkCEAAAwDIEIAAAgGUIQAAAAMsQgAAAAJYh\\\n",
              "AAEAACxDAAIAAFiGAExTn+7erfdvvkWf7t7t9lAAAECGIQDT1CdP/5POdXXpk6f/ye2hAACADEMA\\\n",
              "pql596zX1AULNO+e9W4PBQAAZJgsY4xxexCTVTgcltfrVSgUUl5entvDAQAAI8DxmxlAAAAA6xCA\\\n",
              "AAAAliEAAQAALEMAAgAAWIYABAAAsAwBCAAAYBkCEAAAwDIEIAAAgGUIQAAAAMsQgECGCgQCCgaD\\\n",
              "w24TDAYVCAQmZkAAgLQx1e0BABh7gUBAdXV1znJNTc2QbYLBoGpra2O+BwBgB2YAgQwTH3+1tbVD\\\n",
              "ZgLj46+uro4ABACLEIBABomPv4joCIyPvwgiEADskWWMMW4PYrIKh8Pyer0KhULKy8tzeziwXLL4\\\n",
              "i1ZUVKSOjo5ht/H7/YQggIzG8ZsZQCBj+Hy+pOtKVCJJTvxFlkf7PgCAzEAAAhmipqZGDQ0NQ16v\\\n",
              "UpXqVa9KVUqSKlWpetWrSlVDtm1oaEh4wQgAILPwEXAKmEJGOoo+x69EJapXvbMupJC88jrLG7VR\\\n",
              "bWqTRPwBsAfHb2YAgYwTPRPYpjY1qtFZFx1/jWok/gDAUswApoC/QSCdFRcXO+f8Nas5Jv5CCqlC\\\n",
              "FZIGLwxpb293Y4gA4AqO38wAAhkpGAw68Vepypj4kwZnAiPnBHZ0dFzwiSEAgMxCAAIZJv4cwGpV\\\n",
              "O+tCCjl/rla1czVwoptFAwAyV8YG4LZt27RixQrNmjVL8+fPV0VFhTo7O2O2OXPmjGpqanTppZfq\\\n",
              "kksu0e23366enh6XRgykLv4mz21qU5OaJA2e81ehCuecwCY1OecASkQgANgkY88BvPXWW1VZWakV\\\n",
              "K1bo3Llzeuihh9TW1qb29nbNnDlTkrRhwwa99NJLampqktfrVW1trbKzs/W73/1uRD+DcwgmViAQ\\\n",
              "kM/nG/ZihWAwqN7eXitvZJzsCR/S4ExgdOzFL0fjghAAmY7jtzTV7QGMl1deeSVmuampSfPnz9f+\\\n",
              "/ft14403KhQK6ac//al+8Ytf6Oabb5Yk7dy5U0VFRdq3b59uuOEGN4aNJOKfcpEoUOIDyLYI7O3t\\\n",
              "TbouEnuRJ4Eki78LvQ8AIDNk7EfA8UKhwXOf5s6dK0nav3+/zp49q7KyMmebpUuXatGiRWptbU34\\\n",
              "Hn19fQqHwzFfGH/x8Zfoo8r4+LPxubaBQEB+vz/p+oaGBrW3tye8WXQEj4EDAEsYC5w/f96sXbvW\\\n",
              "fPGLX3Re+/nPf25ycnKGbLtixQrzve99L+H7+P1+I2nIVygUGrex2y7ZPpdkGhoajDHGNDQ0JN3G\\\n",
              "7/e7+w/ggkT7LLKvIhLtMxv3FQA7hUIh64/fVgTgvffeay6//HJz9OhR57WLCcAzZ86YUCjkfB09\\\n",
              "etT6X6DxNFz8Rb6KioouuI2NYRO97+LjLyI6Am3cRwDsRQAak7HnAEbU1tbqxRdf1N69e7Vw4ULn\\\n",
              "9YKCAvX39+vkyZOaPXu283pPT48KCgoSvpfH45HH4xnvIeO/+Xy+pOsiFzFE7nU33EUNw71Ppop8\\\n",
              "jDvcRTOR1229aAYAbJaxVwEbY7Rx40Y9//zzeu2113TNNdfErA+FQvL5fHrmmWd0++23S5I6Ozu1\\\n",
              "dOlStba2jugiEK4iGn+JrmytUpXWaZ0a1ajd2q1KVapa1WpSk3ZpV8y2XNEKAIjH8TuDA/C73/2u\\\n",
              "fvGLX+iFF17QkiVLnNe9Xq+mT58uafA2MC+//LKampqUl5enjRs3SpLeeOONEf0MfoEmRvyNjetV\\\n",
              "76wLKRTzlIuN2sjzbQEAw+L4ncEBmJWVlfD1nTt3at26dZIGbwS9adMmPfPMM+rr61N5ebl+8pOf\\\n",
              "JP0IOB6/QBMnOgIjM37xIjOCEvEHAEiO43cGB+BE4BdoYhUXFzvn/DWrOWbmL6SQKlQhafBed+3t\\\n",
              "7W4MEQAwCXD8tug+gJjcgsGgE3+VqoyJP0nyyqtKVUqSOjo6Jt0jzTbv3axrd13rfK34lxVuDwkA\\\n",
              "kMEy/ipgTH7x5wBGf/wbfQ5gtarV9t//i2yfbh8DV75Yqff+9N4Ftztz/swEjAYAYCsCEGkt/irg\\\n",
              "NrWpSU1JrwKOvhWMmxH4y85f6u/2/d1Ff3/ulNwxHA0AALE4BzAFnEMwvhLdAiYi/r5/w90HcLwv\\\n",
              "CFnzf9fo49MfO8t/8faAKloH1FyarT1fGP1ZFp+/9PPa/ZXdYzlEAEAUjt/MACKN9fb2Jl0Xib2i\\\n",
              "oiJ1dHQkjb8Lvc9oHNv0tzr565f0xtIsPf2Nmdr2yU3y/erfVPKFU/o4KvQqWgfkCw/+/3AB+OgN\\\n",
              "j+qbS745JmMDAGA0CECkrcjTKerq6hKuj8zsDTdT6Pf7R/2Ui2Ob/lahX7+sE3lZmhMa0BtFWWq5\\\n",
              "+3/pkZf/oClGKu0wevL8GU3f/WvlnDyvilbFhF5zabYzAzg1a6oO3HVgVD8fAIDxRgAirSWLwOiP\\\n",
              "dSP/Hx+BF4q/Y5v+VuGXXkq4LkvS3JNGWfrv4PvTe2otylJph1FrUZZyp+Tqs8qb1P+rf9P/u/6c\\\n",
              "8nI8+usv/PXgjF7V4HvcOOp/WgAAJgYBiLQXH4GJzumLj8Do+Bsu9JIxkk7Mztac0IBai7L0+Us/\\\n",
              "r+f+9wl5r/0/Wr/km1of2fA+adlF/DMBAOAmLgJJASeRTqxAICCfz5f0go7OlTfoXw4f1onz51Q7\\\n",
              "z3fxP2jaNBU8/JDmVFZe/HsAANIWx28CMCX8Arnj/Ztv0bmurjF7v6kLFuia37aM2fsBANIbx28+\\\n",
              "AkYau5iPbodD6AEAMIgARNr5dPdu9Tz+fZkzF/c0jKzcXC19hytvAQBIhgBE2vnk6X8acfwVHewY\\\n",
              "59EAAJB5CECknXn3rI+ZAcxbu1af+8cfuDwqAAAyBxeBpICTSAEAmHw4fkujf1ApAAAAJjUCEAAw\\\n",
              "KQQCAQWDwWG3CQaDo378I2AjzgEEAKS9QCAQ80jIRDeEj38uOCEIJMcMIAAgrcXHX21t7ZCZwPj4\\\n",
              "q6urIwCBYRCAAIC0FR9/EdERGB9/EUQgkBxXAaeAq4gAYPwki79oRUVF6ugY/n6gfr+fEEQMjt/M\\\n",
              "AAIA0pTP50u6rkQlkuTEX2R5tO8D2IoABACkpZqaGjU0NAx5vUpVqle9KlUpSapUpepVrypVDdm2\\\n",
              "oaEh4QUjgO34CDgFTCEDwPiLPsevRCWqV72zLqSQvPI6yxu1UW1qk0T8ITmO38wAAgDSXPRMYJva\\\n",
              "1KhGZ110/DWqkfgDRogZwBTwNwgAmDjFxcXOOX/Nao6Jv5BCqlCFpMELQ9rb290YIiYJjt/MAAIA\\\n",
              "JoFgMOjEX6UqY+JPGpwJjJwT2NHRccEnhgC2IwABAGkt/hzAalU760IKOX+uVrVzNXCim0UD+B8E\\\n",
              "IAAgbcXf5LlNbWpSk6TBc/4qVOGcE9ikJuccQIkIBIbDOYAp4BwCABg/yZ7wIQ3OBEbHXvxyNC4I\\\n",
              "QTyO38wAAgDSVG9vb9J1kdgrKiqKWR7t+wC2IgABAGkpEAjI7/cnXd/Q0KD29vaEN4uO4DFwQGIE\\\n",
              "IAAgbSWLwOiPdZM9MYT4A5IjAAEAaS0+AhOd0xcfgcQfMLypbg8AAIALicScz+dLekFH5PXe3l7i\\\n",
              "D7gArgJOAVcRAQAw+XD85iNgAAAA6/ARMADAVf/4ra84f9707IsujgSwBzOAAAAAliEAAQAALMNH\\\n",
              "wAAAV/GxLzDxmAEEAACwDAEIAABgGQIQAADAMgQgAACAZQhAAADgukAgoGAwOOw2wWCQx/yNEa4C\\\n",
              "BgAArgoEAqqrq3OWEz3vORgMqra2NuZ7cPGYAQQAAK6Jj7/a2tohM4Hx8VdXV0cApogABAAAroiP\\\n",
              "v4joCIyPvwgiMDVZxhjj9iAmq3A4LK/Xq1AopLy8PLeHAwDApJEs/qIVFRWpo6Nj2G38fv+oQ5Dj\\\n",
              "NzOAAADABT6fL+m6EpVIkhN/keXRvg+SIwABAMCEq6mpUUNDw5DXq1SletWrUpWSpEpVql71qlLV\\\n",
              "kG0bGhoSXjCCC+Mj4BQwhQwAQGqiz/ErUYnqVe+sCykkr7zO8kZtVJvaJKUWfxy/mQEEAAAuip4J\\\n",
              "bFObGtXorIuOv0Y1jkn8YRAzgCngbxAAAIyN4uJi55y/ZjXHxF9IIVWoQtLghSHt7e0p/SyO38wA\\\n",
              "AgAAlwWDQSf+KlUZE3/S4Exg5JzAjo6OCz4xBBdGAAIAANfEnwNYrWpnXUgh58/VqnauBk50s2iM\\\n",
              "DgEIAABcEX+T5za1qUlNkgbP+atQhXNOYJOanHMAJSIwVZwDmALOIQAA4OIke8KHNDgTGB178cvR\\\n",
              "LuaCEI7fzAACAAAX9Pb2Jl0Xib2ioqKY5dG+D5LL2ADcu3evvvrVr2rBggXKyspSc3NzzHpjjLZu\\\n",
              "3arLLrtM06dPV1lZmd5//313BgsAgGUCgYD8fn/S9Q0NDWpvb094s+iIi3kMHAZlbACePn1ay5Yt\\\n",
              "S3p+wPbt2/Xkk09qx44devPNNzVz5kyVl5frzJkzEzxSAADslCwCoz/WTfbEEOIvNVPdHsB4ue22\\\n",
              "23TbbbclXGeM0Y9//GM98sgj+vrXvy5J+tnPfqb8/Hw1NzersrJyIocKAIC1IhFXV1cnKfE5fZHl\\\n",
              "yDmDxF/qMjYAh/PBBx+ou7tbZWVlzmter1crV65Ua2srAQgAwASKxJzP50t6QUfk9d7eXuJvDFgZ\\\n",
              "gN3d3ZKk/Pz8mNfz8/OddYn09fWpr6/PWQ6Hw+MzQAAALDOSqOPxb2MnY88BHA/btm2T1+t1vgoL\\\n",
              "C90eEgAAwKhZGYAFBQWSpJ6enpjXe3p6nHWJPPjggwqFQs7X0aNHx3WcAAAA48HKj4AXL16sgoIC\\\n",
              "tbS06LrrrpM0+HHum2++qQ0bNiT9Po/HI4/HM0GjBABg8gve+1vnzzU7bnZxJIiWsQH4n//5nzp0\\\n",
              "6JCz/MEHH+idd97R3LlztWjRIt133336+7//e11zzTVavHixHn30US1YsEAVFRXuDRoAAGACZGwA\\\n",
              "/v73v9fq1aud5fvvv1+SVFVVpaamJn3ve9/T6dOndc899+jkyZP60pe+pFdeeUW5ubluDRkAAGBC\\\n",
              "8CzgFPAsQQAAJh+O35ZeBAIAAGAzAhAAAMAyBCAAAIBlCEAAAADLEIAAAACWIQABAAAsQwACAABY\\\n",
              "hgAEAACwDAEIAABgGQIQAADAMgQgAACAZQhAAAAAyxCAAAAAliEAAQAALEMAAgAAWIYABAAAsAwB\\\n",
              "CAAAYBkCEAAAwDIEIAAAgGUIQAAAAMsQgAAAAJYhAAEAACxDAAIAAFiGAAQAALAMAQgAAGAZAhAA\\\n",
              "AMAyBCAAAIBlCEAAAADLEIAAAACWIQABAAAsQwACAABYhgAEAACwDAEIAABgGQIQAADAMgQgAACA\\\n",
              "ZQhAAAAAyxCAAAAAliEAAQAALEMAAgAAWIYABAAAsAwBCAAAYBkCEAAAwDIEIAAAgGUIQAAAAMsQ\\\n",
              "gAAAAJYhAAEAACxDAAIAAFiGAAQAALAMAQgAAGAZAhAAAMAyBCAAAIBlCEAAAADLEIAAAACWIQAB\\\n",
              "AAAsQwACAABYhgAEAACwDAEIAABgGQIQAADAMgQgAACAZQhAAAAAyxCAAAAAlrE+AIPBoK644grl\\\n",
              "5uZq5cqVeuutt9weEgAAwLiyOgCfffZZ3X///fL7/Xr77be1bNkylZeX6/jx424PDQAAYNxYHYA/\\\n",
              "/OEPtX79en37299WcXGxduzYoRkzZuif//mf3R4aAADAuLE2APv7+7V//36VlZU5r2VnZ6usrEyt\\\n",
              "ra0Jv6evr0/hcDjmCwAAYLKxNgA/+eQTnT9/Xvn5+TGv5+fnq7u7O+H3bNu2TV6v1/kqLCyciKEC\\\n",
              "AACMKWsD8GI8+OCDCoVCztfRo0fdHhIAAMCoTXV7AG6ZN2+epkyZop6enpjXe3p6VFBQkPB7PB6P\\\n",
              "PB7PRAwPAABg3Fg7A5iTk6Ply5erpaXFeW1gYEAtLS0qLS11cWQAAADjy9oZQEm6//77VVVVpT//\\\n",
              "8z/X9ddfrx//+Mc6ffq0vv3tb7s9NAAAgHFjdQB+61vfUm9vr7Zu3aru7m5dd911euWVV4ZcGAIA\\\n",
              "AJBJsowxxu1BTFbhcFher1ehUEh5eXluDwcAAIwAx2+LzwEEAACwFQEIAABgGQIQAADAMgQgAACA\\\n",
              "ZQhAAAAAyxCAAAAAliEAAQAALEMAAgAAWIYABAAAsAwBCAAAYBkCEAAAwDIEIAAAgGUIQAAAAMsQ\\\n",
              "gAAAAJYhAAEAACxDAAIAAFiGAAQAALAMAQgAAGAZAhAAAMAyBCAAAIBlCEAAAADLEIAAAACWIQAB\\\n",
              "AAAsQwACAABYhgAEAACwDAEIAABgGQIQAADAMgQgAACAZQhAAAAAyxCAAAAAliEAAQAALEMAAgAA\\\n",
              "WIYABAAAsAwBCAAAYBkCEAAAwDIEIAAAgGUIQAAAAMsQgAAAAJYhAAEAACxDAAIAAFiGAAQAALAM\\\n",
              "AQgAAGAZAhAAAMAyBCAAAIBlCEAAAADLEIAAAACWIQABAAAsQwACAABYhgAEAACwDAEIAABgGQIQ\\\n",
              "AADAMgQgAACAZQhAAAAAyxCAAAAAliEAAQAALEMAAgAAWIYABAAAsAwBCAAAYBkCEAAAwDIEIAAA\\\n",
              "gGUIQAAAAMtkZAA+9thjWrVqlWbMmKHZs2cn3ObIkSNau3atZsyYofnz5+uBBx7QuXPnJnagAAAA\\\n",
              "Lpjq9gDGQ39/v+644w6Vlpbqpz/96ZD158+f19q1a1VQUKA33nhDH3/8se666y5NmzZN//AP/+DC\\\n",
              "iAEAACZOljHGuD2I8dLU1KT77rtPJ0+ejHn917/+tb7yla+oq6tL+fn5kqQdO3Zo8+bN6u3tVU5O\\\n",
              "zojePxwOy+v1KhQKKS8vb6yHDwAAxgHH7wz9CPhCWltbde211zrxJ0nl5eUKh8N67733kn5fX1+f\\\n",
              "wuFwzBcAAMBkY2UAdnd3x8SfJGe5u7s76fdt27ZNXq/X+SosLBzXcQIAAIyHSROAW7ZsUVZW1rBf\\\n",
              "Bw8eHNcxPPjggwqFQs7X0aNHx/XnAQAAjIdJcxHIpk2btG7dumG3ufLKK0f0XgUFBXrrrbdiXuvp\\\n",
              "6XHWJePxeOTxeEb0MwAAANLVpAlAn88nn883Ju9VWlqqxx57TMePH9f8+fMlSXv27FFeXp6Ki4vH\\\n",
              "5GcAAACkq0kTgKNx5MgRnThxQkeOHNH58+f1zjvvSJKuvvpqXXLJJVqzZo2Ki4t15513avv27eru\\\n",
              "7tYjjzyimpoaZvgAAEDGy8jbwKxbt067du0a8vqrr76qm266SZL04YcfasOGDXrttdc0c+ZMVVVV\\\n",
              "6fHHH9fUqSNvYi4jBwBg8uH4naEBOFH4BQIAYPLh+D2JrgIGAADA2CAAAQAALEMAAgAAWIYABAAA\\\n",
              "sAwBCAAAYBkCEAAAwDIEIAAAgGUIQAAAAMsQgAAAAJYhAAEAACxDAAIAAFiGAAQAALAMAQgAAGAZ\\\n",
              "AhAAAMAyBCAAAIBlCEAAAADLEIAAAACWIQABAAAsQwACAABYhgAEAACwDAEIAABgGQIQAADAMgQg\\\n",
              "AACAZQhAAAAAyxCAAAAAliEAAQAALEMAAgAAWIYABAAAsAwBCAAAYBkCEAAAwDIEIAAAgGUIQAAA\\\n",
              "AMsQgAAAAJYhAAEAACxDAAIAAFiGAATSVCAQUDAYHHabYDCoQCAwMQMCAGSMqW4PAMBQgUBAdXV1\\\n",
              "znJNTc2QbYLBoGpra2O+BwCAkWAGEEgz8fFXW1s7ZCYwPv7q6uoIQADAiBGAQBqJj7+I6AiMj78I\\\n",
              "IhAAMFJZxhjj9iAmq3A4LK/Xq1AopLy8PLeHg0kuWfxFKyoqUkdHx7Db+P1+QhAAhsHxmxlAIG34\\\n",
              "fL6k60pUIklO/EWWR/s+AABIBCCQNmpqatTQ0DDk9SpVqV71qlSlJKlSlapXvapUNWTbhoaGhBeM\\\n",
              "AAAQjY+AU8AUMsZD9Dl+JSpRveqddSGF5JXXWd6ojWpTmyTiDwBGiuM3M4BA2omeCWxTmxrV6KyL\\\n",
              "jr9GNRJ/AICLwgxgCvgbBMZTcXGxc85fs5pj4i+kkCpUIWnwwpD29nY3hggAkxLHb2YAgbQUDAad\\\n",
              "+KtUZUz8SYMzgZFzAjs6Oi74xBAAAKIRgECaiT8HsFrVzrqQQs6fq1XtXA2c6GbRAAAkQwACaST+\\\n",
              "Js9talOTmiQNnvNXoQrnnMAmNTnnAEpEIABg5DgHMAWcQ4CxlOwJH9LgTGB07MUvR+OCEAAYHsdv\\\n",
              "ZgCBtNHb25t0XST2ioqKYpZH+z4AAEgEIJA2AoGA/H5/0vUNDQ1qb29PeLPoCB4DBwAYCQIQSCPJ\\\n",
              "IjD6Y91kTwwh/gAAI0UAAmkmPgITndMXH4HEHwBgNKa6PQAAQ0VizufzJb2gI/J6b28v8QcAGBWu\\\n",
              "Ak4BVxEBADD5cPzmI2AAAADrEIAAAACW4RxAYAJdseUl58+HH1/r4kgAADZjBhAAAMAyBCAAAIBl\\\n",
              "MjIADx8+rO985ztavHixpk+frquuukp+v1/9/f0x27377rv68pe/rNzcXBUWFmr79u0ujRi2OPz4\\\n",
              "WucLAAC3ZOQ5gAcPHtTAwIAaGxt19dVXq62tTevXr9fp06f1gx/8QNLgJeBr1qxRWVmZduzYoT/+\\\n",
              "8Y+6++67NXv2bN1zzz0u/xMAAACMH2vuA/jEE0/oqaee0n/8x39Ikp566ik9/PDD6u7uVk5OjiRp\\\n",
              "y5Ytam5u1sGDB0f0ntxHCACAyYfjd4Z+BJxIKBTS3LlzneXW1lbdeOONTvxJUnl5uTo7O/Xpp5+6\\\n",
              "MUQAAIAJYUUAHjp0SPX19aqurnZe6+7uVn5+fsx2keXu7u6E79PX16dwOBzzBQAALl4gEFAwGBx2\\\n",
              "m2AwyCMvx9ikOgdwy5Yt+v73vz/sNh0dHVq6dKmzfOzYMd1666264447tH79+pR+/rZt21RXV5fS\\\n",
              "ewAAgEGBQCDmuJro2efBYFC1tbUx34PUTapzAHt7e/WnP/1p2G2uvPJK52Pdrq4u3XTTTbrhhhvU\\\n",
              "1NSk7Oz/mfC86667FA6H1dzc7Lz26quv6uabb9aJEyc0Z86cIe/d19envr4+ZzkcDquwsNDqcwgA\\\n",
              "ALgY8fEnSQ0NDTERGB9/kuT3+1OOQM4BnGQzgD6fTz6fb0TbHjt2TKtXr9by5cu1c+fOmPiTpNLS\\\n",
              "Uj388MM6e/aspk2bJknas2ePlixZkjD+JMnj8cjj8aT2DwEAgOUSxZ8kJ/ZqamoSxp8k5/uYCUzN\\\n",
              "pJoBHKljx47ppptu0uWXX65du3ZpypQpzrqCggJJgxeFLFmyRGvWrNHmzZvV1tamu+++Wz/60Y9G\\\n",
              "fBsY/gYBAMDoJIu/aEVFRero6Bh2m1RmAjl+T7IZwJHas2ePDh06pEOHDmnhwoUx6yK96/V69Zvf\\\n",
              "/EY1NTVavny55s2bp61bt3IPQAAAxtFwn+SVqERtanPiL7I82vfBhWXkDOBE4W8QAACMXqKPd6tU\\\n",
              "pXVap0Y1ard2q1KVqla1mtSkXdoVs238uYKjxfGbAEwJv0AAAFyc6AgsUYnqVe+sCykkr7zO8kZt\\\n",
              "dGYCU40/ieO3ZMl9AAEAQHqpqalRQ0ODJKlNbWpUo7MuOv4a1Tim8YdBzACmgL9BAACQmuLiYuec\\\n",
              "v2Y1x8RfSCFVqELS4IUh7e3tY/IzOX4zAwgAAFwSDAad+KtUZUz8SYMzgZWqlDT4oIcLPTEEI0cA\\\n",
              "AgCACRd/DmC1/udxrSGFnD9Xq1olKpE0eJ9AInBsEIAAAGBCxV8F3KY2NalJ0uA5fxWqcM4JbFJT\\\n",
              "zK1giMCxwTmAKeAcAgAARifZEz6koff9G+4+gKlcEMLxmxlAAAAwgXp7e5Oui8ReUVFRzPJo3wcX\\\n",
              "RgACAIAJEwgE5Pf7k65vaGhQe3u7c4uYRFJ5DBwGEYAAAGBCJYvA6I91o+8TGI34GxsEIAAAmHDx\\\n",
              "EZjonL74CCT+xs5UtwcAAADsFIk5n8+X9IKOyOu9vb3E3xjiKuAUcBURAACTD8dvPgIGAACwDh8B\\\n",
              "AwCAsRGIepRb7hxpy2HXhoLhMQMIAADG3plP3R4BhkEAAgCAsZc7x+0RYBh8BAwAAMZGIOT2CDBC\\\n",
              "zAACAABYhgAEAACwDAEIAABgGQIQAADAMgQgAACAZQhAAAAAyxCAAAAAliEAAQAALEMAAgAAWIYA\\\n",
              "BAAAsAwBCAAAYBkCEAAAwDIEIAAAgGWmuj2AycwYI0kKh8MujwQAAIxU5LgdOY7biABMwalTpyRJ\\\n",
              "hYWFLo8EAACM1qlTp+T1et0ehiuyjM35m6KBgQF1dXVp1qxZysrKcns4oxYOh1VYWKijR48qLy/P\\\n",
              "7eFMOuy/1LD/Lh77LjXsv9Rkwv4zxujUqVNasGCBsrPtPBuOGcAUZGdna+HChW4PI2V5eXmT9l/i\\\n",
              "dMD+Sw377+Kx71LD/kvNZN9/ts78RdiZvQAAABYjAAEAACxDAFrM4/HI7/fL4/G4PZRJif2XGvbf\\\n",
              "xWPfpYb9lxr2X2bgIhAAAADLMAMIAABgGQIQAADAMgQgAACAZQhAAAAAyxCAlvra176mRYsWKTc3\\\n",
              "V5dddpnuvPNOdXV1xWzz7rvv6stf/rJyc3NVWFio7du3uzTa9HL48GF95zvf0eLFizV9+nRdddVV\\\n",
              "8vv96u/vj9mO/ZfcY489plWrVmnGjBmaPXt2wm2OHDmitWvXasaMGZo/f74eeOABnTt3bmIHmqaC\\\n",
              "waCuuOIK5ebmauXKlXrrrbfcHlJa2rt3r7761a9qwYIFysrKUnNzc8x6Y4y2bt2qyy67TNOnT1dZ\\\n",
              "WZnef/99dwabZrZt26YVK1Zo1qxZmj9/vioqKtTZ2RmzzZkzZ1RTU6NLL71Ul1xyiW6//Xb19PS4\\\n",
              "NGKMFgFoqdWrV+uXv/ylOjs79atf/Ur//u//rr/6q79y1ofDYa1Zs0aXX3659u/fryeeeEKBQEBP\\\n",
              "P/20i6NODwcPHtTAwIAaGxv13nvv6Uc/+pF27Nihhx56yNmG/Te8/v5+3XHHHdqwYUPC9efPn9fa\\\n",
              "tWvV39+vN954Q7t27VJTU5O2bt06wSNNP88++6zuv/9++f1+vf3221q2bJnKy8t1/Phxt4eWdk6f\\\n",
              "Pq1ly5YpGAwmXL99+3Y9+eST2rFjh958803NnDlT5eXlOnPmzASPNP28/vrrqqmp0b59+7Rnzx6d\\\n",
              "PXtWa9as0enTp51t/uZv/kb/+q//queee06vv/66urq69I1vfMPFUWNUDGCMeeGFF0xWVpbp7+83\\\n",
              "xhjzk5/8xMyZM8f09fU522zevNksWbLErSGmte3bt5vFixc7y+y/kdm5c6fxer1DXn/55ZdNdna2\\\n",
              "6e7udl576qmnTF5eXsw+tdH1119vampqnOXz58+bBQsWmG3btrk4qvQnyTz//PPO8sDAgCkoKDBP\\\n",
              "PPGE89rJkyeNx+MxzzzzjAsjTG/Hjx83kszrr79ujBncV9OmTTPPPfecs01HR4eRZFpbW90aJkaB\\\n",
              "GUDoxIkT+vnPf65Vq1Zp2rRpkqTW1lbdeOONysnJcbYrLy9XZ2enPv30U7eGmrZCoZDmzp3rLLP/\\\n",
              "UtPa2qprr71W+fn5zmvl5eUKh8N67733XByZu/r7+7V//36VlZU5r2VnZ6usrEytra0ujmzy+eCD\\\n",
              "D9Td3R2zL71er1auXMm+TCAUCkmS89+5/fv36+zZszH7b+nSpVq0aBH7b5IgAC22efNmzZw5U5de\\\n",
              "eqmOHDmiF154wVnX3d0dc/CV5Cx3d3dP6DjT3aFDh1RfX6/q6mrnNfZfath/iX3yySc6f/58wn1j\\\n",
              "8365GJH9xb68sIGBAd1333364he/qJKSEkmD+y8nJ2fIObzsv8mDAMwgW7ZsUVZW1rBfBw8edLZ/\\\n",
              "4IEHdODAAf3mN7/RlClTdNddd8lY/GCY0e4/STp27JhuvfVW3XHHHVq/fr1LI08PF7P/AKS/mpoa\\\n",
              "tbW1affu3W4PBWNoqtsDwNjZtGmT1q1bN+w2V155pfPnefPmad68efqzP/szFRUVqbCwUPv27VNp\\\n",
              "aakKCgqGXM0VWS4oKBjzsaeD0e6/rq4urV69WqtWrRpycQf7L7Ho/TecgoKCIVe2Zvr+G4l58+Zp\\\n",
              "ypQpCX+3bN4vFyOyv3p6enTZZZc5r/f09Oi6665zaVTpp7a2Vi+++KL27t2rhQsXOq8XFBSov79f\\\n",
              "J0+ejJkF5Hdx8iAAM4jP55PP57uo7x0YGJAk9fX1SZJKS0v18MMP6+zZs855gXv27NGSJUs0Z86c\\\n",
              "sRlwmhnN/jt27JhWr16t5cuXa+fOncrOjp1MZ/+lprS0VI899piOHz+u+fPnSxrcf3l5eSouLh6T\\\n",
              "nzEZ5eTkaPny5WppaVFFRYWkwX93W1paVFtb6+7gJpnFixeroKBALS0tTvCFw2G9+eabSa9Ot4kx\\\n",
              "Rhs3btTzzz+v1157TYsXL45Zv3z5ck2bNk0tLS26/fbbJUmdnZ06cuSISktL3RgyRsvtq1Aw8fbt\\\n",
              "22fq6+vNgQMHzOHDh01LS4tZtWqVueqqq8yZM2eMMYNXeOXn55s777zTtLW1md27d5sZM2aYxsZG\\\n",
              "l0fvvo8++shcffXV5pZbbjEfffSR+fjjj52vCPbf8D788ENz4MABU1dXZy655BJz4MABc+DAAXPq\\\n",
              "1CljjDHnzp0zJSUlZs2aNeadd94xr7zyivH5fObBBx90eeTu2717t/F4PKapqcm0t7ebe+65x8ye\\\n",
              "PTvmimkMOnXqlPO7Jcn88Ic/NAcOHDAffvihMcaYxx9/3MyePdu88MIL5t133zVf//rXzeLFi81n\\\n",
              "n33m8sjdt2HDBuP1es1rr70W89+4//qv/3K2uffee82iRYvMb3/7W/P73//elJaWmtLSUhdHjdEg\\\n",
              "AC307rvvmtWrV5u5c+caj8djrrjiCnPvvfeajz76KGa7P/zhD+ZLX/qS8Xg85nOf+5x5/PHHXRpx\\\n",
              "etm5c6eRlPArGvsvuaqqqoT779VXX3W2OXz4sLntttvM9OnTzbx588ymTZvM2bNn3Rt0GqmvrzeL\\\n",
              "Fi0yOTk55vrrrzf79u1ze0hp6dVXX034e1ZVVWWMGbwVzKOPPmry8/ONx+Mxt9xyi+ns7HR30Gki\\\n",
              "2X/jdu7c6Wzz2Wefme9+97tmzpw5ZsaMGeYv//IvY/4ijPSWZYzFZ/0DAABYiKuAAQAALEMAAgAA\\\n",
              "WIYABAAAsAwBCAAAYBkCEAAAwDIEIAAAgGUIQAAAAMsQgAAAAJYhAAEAACxDAAIAAFiGAAQAALAM\\\n",
              "AQgAAGAZAhAAAMAyBCAAAIBlCEAAAADLEIAAAACWIQABAAAsQwACAABYhgAEAACwDAEIAABgGQIQ\\\n",
              "AADAMgQgAACAZQhAAAAAyxCAAAAAliEAAQAALEMAAgAAWIYABAAAsAwBCAAAYBkCEAAAwDIEIAAA\\\n",
              "gGUIQAAAAMv8f27G2tePm5GVAAAAAElFTkSuQmCC\\\n",
              "\"\n",
              "  frames[3] = \"data:image/png;base64,iVBORw0KGgoAAAANSUhEUgAAAoAAAAHgCAYAAAA10dzkAAAAOXRFWHRTb2Z0d2FyZQBNYXRwbG90\\\n",
              "bGliIHZlcnNpb24zLjguMCwgaHR0cHM6Ly9tYXRwbG90bGliLm9yZy81sbWrAAAACXBIWXMAAA9h\\\n",
              "AAAPYQGoP6dpAAAoIklEQVR4nO3dfXBedYH3/08LNFAgASRtYClaHxbSXx2cYRGLDyPaoTqsa3dZ\\\n",
              "ZnPP/LSoAxXTzrgwCvhA0plly+Le6thEqTtuw86ouM6OZdZ1GZkuyIwWvEVcNiZ0ZFcEqS1xlSss\\\n",
              "Ky205/4jd65N0qS0pO2V5Pt6zWTMdc7Jla9noufd73Ue5lVVVQUAgGLMb/QAAAA4tgQgAEBhBCAA\\\n",
              "QGEEIABAYQQgAEBhBCAAQGEEIABAYQQgAEBhBCAAQGEEIABAYQQgAEBhBCAAQGEEIABAYQQgAEBh\\\n",
              "BCAAQGEEIABAYQQgAEBhBCAAQGEEIABAYQQgAEBhBCAAQGEEIABAYQQgAEBhBCAAQGEEIABAYQQg\\\n",
              "AEBhBCAAQGEEIABAYQQgAEBhBCAAQGEEIABAYQQgAEBhBCAAQGEEIABAYQQgAEBhBCAAQGEEIABA\\\n",
              "YQQgAEBhBCAAQGEEIABAYQQgAEBhBCAAQGEEIABAYQQgAEBhBCAAQGEEIABAYQQgAEBhBCAAQGEE\\\n",
              "IABAYQQgAEBhBCAAQGEEIABAYQQgAEBhBCAAQGEEIABAYQQgAEBhjm/0AGaz/fv3Z+fOnTn11FMz\\\n",
              "b968Rg8HADgEVVXl2Wefzdlnn53588ucCxOA07Bz584sWbKk0cMAAF6GJ598Muecc06jh9EQAnAa\\\n",
              "Tj311CQjf0DNzc0NHg0AcCiGh4ezZMmS+nG8RAJwGkY/9m1ubhaAADDLlHz6VpkffAMAFEwAAgAU\\\n",
              "RgACABRGAAIAFEYAAgAURgACABRGAAIAFEYAAgAURgACABRGAAIAFEYAAgAURgACABRGAM5Qv73z\\\n",
              "zvzsHe/Mb++8s9FDAQDmGAE4Q/36y3+TF3fuzK+//DeNHgoAMMcIwBnqzGuuzvFnn50zr7m60UMB\\\n",
              "AOaYeVVVVY0exGw1PDyclpaW1Gq1NDc3N3o4AMAhcPw2AwgAUBwBCABQGAEIAFAYAQgAUBgBCABQ\\\n",
              "GAEIAFAYAQgAUBgBCABQGAEIAFAYAQhzVHd3d3p7ew+6TW9vb7q7u4/NgACYMY5v9ACAI6+7uzsb\\\n",
              "Nmyov+7s7Dxgm97e3qxbt27czwBQBjOAMMdMjL9169YdMBM4Mf42bNggAAEKIgBhDpkYf6PGRuDE\\\n",
              "+BslAgHKMa+qqqrRg5ithoeH09LSklqtlubm5kYPh8JNFX9jtbe3Z3Bw8KDbdHV1CUFgTnP8NgMI\\\n",
              "c0Zra+uU65ZneZLU42/09eG+DwBzgwCEOaKzszM9PT0HLF+TNdmUTelIR5KkIx3ZlE1ZkzUHbNvT\\\n",
              "0zPpBSMAzC0+Ap4GU8jMRGPP8Vue5dmUTfV1tdTSkpb66/VZn/70JxF/QDkcv80AwpwzdiawP/3Z\\\n",
              "nM31dWPjb3M2iz+AQpkBnAb/gmAmW7ZsWf2cv63ZOi7+aqlldVYnGbkwZGBgoBFDBGgIx28zgDAn\\\n",
              "9fb21uOvIx3j4i8ZmQkcPSdwcHDwJZ8YAsDcIgBhjpl4DuDarK2vq6VW/35t1tavBp7sZtEAzF1z\\\n",
              "NgA3btyYiy66KKeeemoWLVqU1atXZ8eOHeO2ef7559PZ2ZlXvOIVOeWUU3LFFVdk9+7dDRoxTN/E\\\n",
              "mzz3pz996Usycs7f6qyunxPYl776OYCJCAQoyZw9B/Bd73pXOjo6ctFFF+XFF1/MJz7xifT392dg\\\n",
              "YCAnn3xykuTaa6/NP/3TP6Wvry8tLS1Zt25d5s+fn+9///uH9DucQ3BsdXd3p7W19aAXK/T29mZo\\\n",
              "aKjIGxlP9YSPZGQmcGzsTXw9lgtCgLnO8Ts5vtEDOFruvvvuca/7+vqyaNGiPPTQQ3nb296WWq2W\\\n",
              "r3zlK/na176Wd7zjHUmSLVu2pL29PQ888EDe9KY3NWLYTGHiUy4mC5SJAVRaBA4NDU25bjT2Rp8E\\\n",
              "MlX8vdT7ADA3zNmPgCeq1UbOfTrjjDOSJA899FBeeOGFrFy5sr7N+eefn3PPPTfbt2+f9D327NmT\\\n",
              "4eHhcV8cfRPjb7KPKifGX4nPte3u7k5XV9eU63t6ejIwMDDpzaJHeQwcQCGqAuzbt6+6/PLLqze/\\\n",
              "+c31ZV/96lerBQsWHLDtRRddVH384x+f9H26urqqJAd81Wq1ozb20k21z5NUPT09VVVVVU9Pz5Tb\\\n",
              "dHV1Nfa/QANMts9G99WoyfZZifsKKFOtViv++F1EAH74wx+uXvnKV1ZPPvlkfdnLCcDnn3++qtVq\\\n",
              "9a8nn3yy+D+go+lg8Tf61d7e/pLblBg2Y/fdxPgbNTYCS9xHQLkEYFXN2XMAR61bty7f/va3c//9\\\n",
              "9+ecc86pL29ra8vevXvzzDPP5LTTTqsv3717d9ra2iZ9r6ampjQ1NR3tIfP/tLa2Trlu9CKG0Xvd\\\n",
              "HeyihoO9z1w1+jHuwS6aGV1e6kUzACWbs1cBV1WV9evX51vf+lbuu+++vO51rxu3vlarpbW1NV//\\\n",
              "+tdzxRVXJEl27NiR888/P9u3bz+ki0BcRXT0TXZl65qsyVW5KpuzOXfmznSkI2uzNn3pyx25Y9y2\\\n",
              "rmgFYCLH7zkcgB/5yEfyta99LXfddVfOO++8+vKWlpacdNJJSUZuA/Od73wnfX19aW5uzvr165Mk\\\n",
              "P/jBDw7pd/gDOjYm3th4UzbV19VSG/eUi/VZ7/m2AByU4/ccDsB58+ZNunzLli256qqrkozcCPr6\\\n",
              "66/P17/+9ezZsyerVq3KF7/4xSk/Ap7IH9CxMzYCR2f8JhqdEUzEHwBTc/yewwF4LPgDOraWLVtW\\\n",
              "P+dva7aOm/mrpZbVWZ1k5F53AwMDjRgiALOA43dB9wFkduvt7a3HX0c6xsVfkrSkJR3pSJIMDg56\\\n",
              "pBkAHIQAZMabeA7g2I9/a6nVv1+btVme5Uk81xYADkYAMqNNvAq4P/3pS1+SkXP+Vmd1NmdzkqQv\\\n",
              "feNuBSMCAWByzgGcBucQHF2T3QJm1MT7/h3sPoBH+4KQ19/x+kmXn3jcifk/////OWq/F4CXx/E7\\\n",
              "mfM3gmb2GhoamnLdaOy1t7dncHBwyvh7qfc5HFOF3lSe3/f8Efm9AHCk+QiYGau7uztdXV1Tru/p\\\n",
              "6cnAwEB6enqm3Karq+uwn3Lx0/PbMzDm62/+ZNlhx18yMgMIADORGUBmtNF427Bhw7jlYz/WHf3P\\\n",
              "iR8Xv1T8DS77/5L9+8ctq5LM+39fo1YMVvnCe196rM0LmvP9//X9l94QABpMADLjTYzAyc7pmxiB\\\n",
              "k8XfjovflP21Wg5mbPiNnhy7vX38TcWd2wfAbCcAmRVGY661tXXKCzpGlw8NDU068/dS8Zf8T/Ql\\\n",
              "IzHY/uhgliW5+vCGCwAzmquAp8FVRLPLwWYA2x8dPMajAaBRHL/NAFKQ8x58oNFDAIAZwVXAAACF\\\n",
              "EYAAAIURgAAAhRGAAACFEYAAAIURgADMCt3d3ent7T3oNr29vYf9+EcokdvAADDjdXd3j3sk5GQ3\\\n",
              "hO/t7R33SEghCFMzAwjAjDYx/tatW3fATODE+NuwYYMAhIMQgADMWBPjb9TYCJwYf6NEIEzNo+Cm\\\n",
              "waNkAI6eqeJvrPb29gwOHvxRjl1dXUKQcRy/zQACMEO1trZOuW55lidJPf5GXx/u+0CpBCAAM1Jn\\\n",
              "Z2d6enoOWL4ma7Ipm9KRjiRJRzqyKZuyJmsO2Lanp2fSC0agdD4CngZTyABH39hz/JZneTZlU31d\\\n",
              "LbW0pKX+en3Wpz/9ScQfU3P8NgMIwAw3diawP/3ZnM31dWPjb3M2iz84RGYAp8G/IACOnWXLltXP\\\n",
              "+duarePir5ZaVmd1kpELQwYGBhoxRGYJx28zgADMAr29vfX460jHuPhLRmYCR88JHBwcfMknhkDp\\\n",
              "BCAAM9rEcwDXZm19XS21+vdrs7Z+NfBkN4sG/ocABGDGmniT5/70py99SUbO+Vud1fVzAvvSVz8H\\\n",
              "MBGBcDDOAZwG5xAAHD1TPeEjGZkJHBt7E1+P5YIQJnL8NgMIwAw1NDQ05brR2Gtvbx/3+nDfB0ol\\\n",
              "AAGYkbq7u9PV1TXl+p6engwMDEx6s+hRHgMHkxOAAMxYU0Xg2I91p3piiPiDqQlAAGa0iRE42Tl9\\\n",
              "EyNQ/MHBHd/oAQDASxmNudbW1ikv6BhdPjQ0JP7gJbgKeBpcRQQAs4/jt4+AAQCK4yNgABrqf//Z\\\n",
              "H9a/v/4b327gSKAcZgABAAojAAEACuMjYAAayse+cOyZAQQAKIwABAAojAAEACiMAAQAKIwABAAa\\\n",
              "rru7O729vQfdpre312P+jhBXAQMADdXd3Z0NGzbUX0/2vOfe3t6sW7du3M/w8pkBBAAaZmL8rVu3\\\n",
              "7oCZwInxt2HDBgE4TQIQAGiIifE3amwEToy/USJweuZVVVU1ehCz1fDwcFpaWlKr1dLc3Nzo4QDA\\\n",
              "rDFV/I3V3t6ewcHBg27T1dV12CHo+G0GEABogNbW1inXLc/yJKnH3+jrw30fpiYAAYBjrrOzMz09\\\n",
              "PQcsX5M12ZRN6UhHkqQjHdmUTVmTNQds29PTM+kFI7w0HwFPgylkAJiesef4Lc/ybMqm+rpaamlJ\\\n",
              "S/31+qxPf/qTTC/+HL/NAAIADTR2JrA//dmczfV1Y+NvczYfkfhjhBnAafAvCAA4MpYtW1Y/529r\\\n",
              "to6Lv1pqWZ3VSUYuDBkYGJjW73L8NgMIADRYb29vPf460jEu/pKRmcDRcwIHBwdf8okhvDQBCAA0\\\n",
              "zMRzANdmbX1dLbX692uztn418GQ3i+bwCEAAoCEm3uS5P/3pS1+SkXP+Vmd1/ZzAvvTVzwFMROB0\\\n",
              "OQdwGpxDAAAvz1RP+EhGZgLHxt7E12O9nAtCHL/NAAIADTA0NDTlutHYa29vH/f6cN+Hqc3ZALz/\\\n",
              "/vvznve8J2effXbmzZuXrVu3jltfVVVuvvnmnHXWWTnppJOycuXK/OxnP2vMYAGgMN3d3enq6ppy\\\n",
              "fU9PTwYGBia9WfSol/MYOEbM2QB87rnncsEFF0x5fsBtt92WL3zhC7n99tvz4IMP5uSTT86qVavy\\\n",
              "/PPPH+ORAkCZporAsR/rTvXEEPE3Pcc3egBHy7vf/e68+93vnnRdVVX5/Oc/n0996lN573vfmyT5\\\n",
              "u7/7uyxevDhbt25NR0fHsRwqABRrNOI2bNiQZPJz+kZfj54zKP6mb84G4MH8/Oc/z65du7Jy5cr6\\\n",
              "spaWllx88cXZvn27AASAY2g05lpbW6e8oGN0+dDQkPg7AooMwF27diVJFi9ePG754sWL6+sms2fP\\\n",
              "nuzZs6f+enh4+OgMEAAKcyhR5/FvR86cPQfwaNi4cWNaWlrqX0uWLGn0kAAADluRAdjW1pYk2b17\\\n",
              "97jlu3fvrq+bzE033ZRarVb/evLJJ4/qOAEAjoYiPwJeunRp2trasm3btrzhDW9IMvJx7oMPPphr\\\n",
              "r712yp9rampKU1PTMRolAMx+vR/+l/r3nbe/o4EjYaw5G4D/9V//lccee6z++uc//3l+8pOf5Iwz\\\n",
              "zsi5556bj370o/mLv/iLvO51r8vSpUvz6U9/OmeffXZWr17duEEDABwDczYAf/SjH+XSSy+tv77u\\\n",
              "uuuSJGvWrElfX18+/vGP57nnnss111yTZ555Jm95y1ty991358QTT2zUkAEAjgnPAp4GzxIEgNnH\\\n",
              "8bvQi0AAAEomAAEACiMAAQAKIwABAAojAAEACiMAAQAKIwABAAojAAEACiMAAQAKIwABAAojAAEA\\\n",
              "CiMAAQAKIwABAAojAAEACiMAAQAKIwABAAojAAEACiMAAQAKIwABAAojAAEACiMAAQAKIwABAAoj\\\n",
              "AAEACiMAAQAKIwABAAojAAEACiMAAQAKIwABAAojAAEACiMAAQAKIwABAAojAAEACiMAAQAKIwAB\\\n",
              "AAojAAEACiMAAQAKIwABAAojAAEACiMAAQAKIwABAAojAAEACiMAAQAKIwABAAojAAEACiMAAQAK\\\n",
              "IwABAAojAAEACiMAAQAKIwABAAojAAEACiMAAQAKIwABAAojAAEACiMAAQAKIwABAAojAAEACiMA\\\n",
              "AQAKIwABAAojAAEACiMAAQAKIwABAApTfAD29vbmVa96VU488cRcfPHF+eEPf9joIQEAHFVFB+A3\\\n",
              "vvGNXHfddenq6sqPf/zjXHDBBVm1alWefvrpRg8NAOCoKToAP/vZz+bqq6/OBz7wgSxbtiy33357\\\n",
              "Fi5cmL/9279t9NAAAI6aYgNw7969eeihh7Jy5cr6svnz52flypXZvn17A0cGAHB0Hd/oATTKr3/9\\\n",
              "6+zbty+LFy8et3zx4sV59NFHJ/2ZPXv2ZM+ePfXXw8PDR3WMAABHQ7EzgC/Hxo0b09LSUv9asmRJ\\\n",
              "o4cEAHDYig3AM888M8cdd1x27949bvnu3bvT1tY26c/cdNNNqdVq9a8nn3zyWAwVAOCIKjYAFyxY\\\n",
              "kAsvvDDbtm2rL9u/f3+2bduWFStWTPozTU1NaW5uHvcFADDbFHsOYJJcd911WbNmTf7gD/4gb3zj\\\n",
              "G/P5z38+zz33XD7wgQ80emgAAEdN0QH4Z3/2ZxkaGsrNN9+cXbt25Q1veEPuvvvuAy4MAQCYS+ZV\\\n",
              "VVU1ehCz1fDwcFpaWlKr1XwcDACzhON3wecAAgCUSgACABRGAAIAFEYAAgAURgACABRGAAIAFEYA\\\n",
              "AgAURgACABRGAAIAFEYAAgAURgACABRGAAIAFEYAAgAURgACABRGAAIAFEYAAgAURgACABRGAAIA\\\n",
              "FEYAAgAURgACABRGAAIAFEYAAgAURgACABRGAAIAFEYAAgAURgACABRGAAIAFEYAAgAURgACABRG\\\n",
              "AAIAFEYAAgAURgACABRGAAIAFEYAAgAURgACABRGAAIAFEYAAgAURgACABRGAAIAFEYAAgAURgAC\\\n",
              "ABRGAAIAFEYAAgAURgACABRGAAIAFEYAAgAURgACABRGAAIAFEYAAgAURgACABRGAAIAFEYAAgAU\\\n",
              "RgACABRGAAIAFEYAAgAURgACABRGAAIAFEYAAgAURgACABRGAAIAFEYAAgAUZk4G4C233JJLLrkk\\\n",
              "CxcuzGmnnTbpNk888UQuv/zyLFy4MIsWLcrHPvaxvPjii8d2oAAADXB8owdwNOzduzdXXnllVqxY\\\n",
              "ka985SsHrN+3b18uv/zytLW15Qc/+EF+9atf5f3vf39OOOGE/OVf/mUDRgwAcOzMq6qqavQgjpa+\\\n",
              "vr589KMfzTPPPDNu+T//8z/nD//wD7Nz584sXrw4SXL77bfnhhtuyNDQUBYsWHBI7z88PJyWlpbU\\\n",
              "arU0Nzcf6eEDAEeB4/cc/Qj4pWzfvj2vf/3r6/GXJKtWrcrw8HB++tOfTvlze/bsyfDw8LgvAIDZ\\\n",
              "psgA3LVr17j4S1J/vWvXril/buPGjWlpaal/LVmy5KiOEwDgaJg1AXjjjTdm3rx5B/169NFHj+oY\\\n",
              "brrpptRqtfrXk08+eVR/HwDA0TBrLgK5/vrrc9VVVx10m1e/+tWH9F5tbW354Q9/OG7Z7t276+um\\\n",
              "0tTUlKampkP6HQAAM9WsCcDW1ta0trYekfdasWJFbrnlljz99NNZtGhRkuSee+5Jc3Nzli1bdkR+\\\n",
              "BwDATDVrAvBwPPHEE/nNb36TJ554Ivv27ctPfvKTJMlrX/vanHLKKbnsssuybNmyvO9978ttt92W\\\n",
              "Xbt25VOf+lQ6OzvN8AEAc96cvA3MVVddlTvuuOOA5ffee2/e/va3J0l+8Ytf5Nprr819992Xk08+\\\n",
              "OWvWrMmtt96a448/9CZ2GTkAzD6O33M0AI8Vf0AAMPs4fs+iq4ABADgyBCAAQGEEIABAYQQgAEBh\\\n",
              "BCAAQGEEIABAYQQgAEBhBCAAQGEEIABAYQQgAEBhBCAAQGEEIABAYQQgAEBhBCAAQGEEIABAYQQg\\\n",
              "AEBhBCAAQGEEIABAYQQgAEBhBCAAQGEEIABAYQQgAEBhBCAAQGEEIABAYQQgAEBhBCAAQGEEIABA\\\n",
              "YQQgAEBhBCAAQGEEIABAYQQgAEBhBCAAQGEEIABAYQQgAEBhBCAAQGEEIMxQ3d3d6e3tPeg2vb29\\\n",
              "6e7uPjYDAmDOOL7RAwAO1N3dnQ0bNtRfd3Z2HrBNb29v1q1bN+5nAOBQmAGEGWZi/K1bt+6AmcCJ\\\n",
              "8bdhwwYBCMAhE4Awg0yMv1FjI3Bi/I0SgQAcqnlVVVWNHsRsNTw8nJaWltRqtTQ3Nzd6OMxyU8Xf\\\n",
              "WO3t7RkcHDzoNl1dXUIQ4CAcv80AwozR2to65brlWZ4k9fgbfX247wMAiQCEGaOzszM9PT0HLF+T\\\n",
              "NdmUTelIR5KkIx3ZlE1ZkzUHbNvT0zPpBSMAMJaPgKfBFDJHw9hz/JZneTZlU31dLbW0pKX+en3W\\\n",
              "pz/9ScQfwKFy/DYDCDPO2JnA/vRnczbX142Nv83ZLP4AeFnMAE6Df0FwNC1btqx+zt/WbB0Xf7XU\\\n",
              "sjqrk4xcGDIwMNCIIQLMSo7fZgBhRurt7a3HX0c6xsVfMjITOHpO4ODg4Es+MQQAxhKAMMNMPAdw\\\n",
              "bdbW19VSq3+/NmvrVwNPdrNoAJiKAIQZZOJNnvvTn770JRk55291VtfPCexLX/0cwEQEAnDonAM4\\\n",
              "Dc4h4Eia6gkfychM4NjYm/h6LBeEAByc47cZQJgxhoaGplw3Gnvt7e3jXh/u+wBAIgBhxuju7k5X\\\n",
              "V9eU63t6ejIwMDDpzaJHeQwcAIdCAMIMMlUEjv1Yd6onhog/AA6VAIQZZmIETnZO38QIFH8AHI7j\\\n",
              "Gz0A4ECjMdfa2jrlBR2jy4eGhsQfAIfFVcDT4CoiAJh9HL99BAwAUBwBCABQGOcAwjH0qhv/qf79\\\n",
              "47de3sCRAFAyM4AAAIURgAAAhZmTAfj444/nQx/6UJYuXZqTTjopr3nNa9LV1ZW9e/eO2+6RRx7J\\\n",
              "W9/61px44olZsmRJbrvttgaNmFI8fuvl9S8AaJQ5eQ7go48+mv3792fz5s157Wtfm/7+/lx99dV5\\\n",
              "7rnn8td//ddJRi4Bv+yyy7Jy5crcfvvt+bd/+7d88IMfzGmnnZZrrrmmwf8NAACOnmLuA/iZz3wm\\\n",
              "X/rSl/If//EfSZIvfelL+eQnP5ldu3ZlwYIFSZIbb7wxW7duzaOPPnpI7+k+QgAw+zh+z9GPgCdT\\\n",
              "q9Vyxhln1F9v3749b3vb2+rxlySrVq3Kjh078tvf/rYRQwQAOCaKCMDHHnssmzZtytq1a+vLdu3a\\\n",
              "lcWLF4/bbvT1rl27Jn2fPXv2ZHh4eNwXAPDydXd3p7e396Db9Pb2euTlETarzgG88cYb81d/9VcH\\\n",
              "3WZwcDDnn39+/fVTTz2Vd73rXbnyyitz9dVXT+v3b9y4MRs2bJjWewAAI7q7u8cdVyd79nlvb2/W\\\n",
              "rVs37meYvll1DuDQ0FD+8z//86DbvPrVr65/rLtz5868/e1vz5ve9Kb09fVl/vz/mfB8//vfn+Hh\\\n",
              "4WzdurW+7N5778073vGO/OY3v8npp59+wHvv2bMne/bsqb8eHh7OkiVLij6HAABejonxlyQ9PT3j\\\n",
              "InBi/CVJV1fXtCPQOYCzbAawtbU1ra2th7TtU089lUsvvTQXXnhhtmzZMi7+kmTFihX55Cc/mRde\\\n",
              "eCEnnHBCkuSee+7JeeedN2n8JUlTU1Oampqm918CAAo3WfwlqcdeZ2fnpPGXpP5zZgKnZ1bNAB6q\\\n",
              "p556Km9/+9vzyle+MnfccUeOO+64+rq2trYkIxeFnHfeebnssstyww03pL+/Px/84Afzuc997pBv\\\n",
              "A+NfEABweKaKv7Ha29szODh40G2mMxPo+D3LZgAP1T333JPHHnssjz32WM4555xx60Z7t6WlJd/9\\\n",
              "7nfT2dmZCy+8MGeeeWZuvvlm9wAEgKPoYJ/kLc/y9Ke/Hn+jrw/3fXhpc3IG8FjxLwgAOHyTfby7\\\n",
              "JmtyVa7K5mzOnbkzHenI2qxNX/pyR+4Yt+3EcwUPl+O3AJwWf0AA8PKMjcDlWZ5N2VRfV0stLWmp\\\n",
              "v16f9fWZwOnGX+L4nRRyH0AAYGbp7OxMT09PkqQ//dmczfV1Y+NvczYf0fhjhBnAafAvCACYnmXL\\\n",
              "ltXP+duarePir5ZaVmd1kpELQwYGBo7I73T8NgMIADRIb29vPf460jEu/pKRmcCOdCQZedDDSz0x\\\n",
              "hEMnAAGAY27iOYBr8z+Pa62lVv9+bdZmeZYnGblPoAg8MgQgAHBMTbwKuD/96UtfkpFz/lZndf2c\\\n",
              "wL70jbsVjAg8MpwDOA3OIQCAwzPVEz6SA+/7d7D7AE7nghDHbzOAAMAxNDQ0NOW60dhrb28f9/pw\\\n",
              "34eXJgABgGOmu7s7XV1dU67v6enJwMBA/RYxk5nOY+AYIQABgGNqqggc+7Hu2PsEjiX+jgwBCAAc\\\n",
              "cxMjcLJz+iZGoPg7co5v9AAAgDKNxlxra+uUF3SMLh8aGhJ/R5CrgKfBVUQAMPs4fvsIGACgOD4C\\\n",
              "BgCOjO4xj3Lrrk29HQ1nBhAAoDACEACgMD4CBgCODB/7zhpmAAEACiMAAQAKIwABAAojAAEACiMA\\\n",
              "AQAKIwABAAojAAEACiMAAQAKIwABAAojAAEACiMAAQAKIwABAAojAAEACnN8owcwm1VVlSQZHh5u\\\n",
              "8EgAgEM1etwePY6XSABOw7PPPpskWbJkSYNHAgAcrmeffTYtLS2NHkZDzKtKzt9p2r9/f3bu3JlT\\\n",
              "Tz018+bNa/RwDtvw8HCWLFmSJ598Ms3NzY0ezqxj/02P/ffy2XfTY/9Nz1zYf1VV5dlnn83ZZ5+d\\\n",
              "+fPLPBvODOA0zJ8/P+ecc06jhzFtzc3Ns/Z/xDOB/Tc99t/LZ99Nj/03PbN9/5U68zeqzOwFACiY\\\n",
              "AAQAKIwALFhTU1O6urrS1NTU6KHMSvbf9Nh/L599Nz323/TYf3ODi0AAAApjBhAAoDACEACgMAIQ\\\n",
              "AKAwAhAAoDACsFB/9Ed/lHPPPTcnnnhizjrrrLzvfe/Lzp07x23zyCOP5K1vfWtOPPHELFmyJLfd\\\n",
              "dluDRjuzPP744/nQhz6UpUuX5qSTTsprXvOadHV1Ze/eveO2s/+mdsstt+SSSy7JwoULc9ppp026\\\n",
              "zRNPPJHLL788CxcuzKJFi/Kxj30sL7744rEd6AzV29ubV73qVTnxxBNz8cUX54c//GGjhzQj3X//\\\n",
              "/XnPe96Ts88+O/PmzcvWrVvHra+qKjfffHPOOuusnHTSSVm5cmV+9rOfNWawM8zGjRtz0UUX5dRT\\\n",
              "T82iRYuyevXq7NixY9w2zz//fDo7O/OKV7wip5xySq644ors3r27QSPmcAnAQl166aX5+7//++zY\\\n",
              "sSP/8A//kH//93/Pn/7pn9bXDw8P57LLLssrX/nKPPTQQ/nMZz6T7u7ufPnLX27gqGeGRx99NPv3\\\n",
              "78/mzZvz05/+NJ/73Ody++235xOf+ER9G/vv4Pbu3Zsrr7wy11577aTr9+3bl8svvzx79+7ND37w\\\n",
              "g9xxxx3p6+vLzTfffIxHOvN84xvfyHXXXZeurq78+Mc/zgUXXJBVq1bl6aefbvTQZpznnnsuF1xw\\\n",
              "QXp7eyddf9ttt+ULX/hCbr/99jz44IM5+eSTs2rVqjz//PPHeKQzz/e+9710dnbmgQceyD333JMX\\\n",
              "Xnghl112WZ577rn6Nn/+53+ef/zHf8w3v/nNfO9738vOnTvzJ3/yJw0cNYelgqqq7rrrrmrevHnV\\\n",
              "3r17q6qqqi9+8YvV6aefXu3Zs6e+zQ033FCdd955jRrijHbbbbdVS5curb+2/w7Nli1bqpaWlgOW\\\n",
              "f+c736nmz59f7dq1q77sS1/6UtXc3Dxun5bojW98Y9XZ2Vl/vW/fvurss8+uNm7c2MBRzXxJqm99\\\n",
              "61v11/v376/a2tqqz3zmM/VlzzzzTNXU1FR9/etfb8AIZ7ann366SlJ973vfq6pqZF+dcMIJ1Te/\\\n",
              "+c36NoODg1WSavv27Y0aJofBDCD5zW9+k69+9au55JJLcsIJJyRJtm/fnre97W1ZsGBBfbtVq1Zl\\\n",
              "x44d+e1vf9uooc5YtVotZ5xxRv21/Tc927dvz+tf//osXry4vmzVqlUZHh7OT3/60waOrLH27t2b\\\n",
              "hx56KCtXrqwvmz9/flauXJnt27c3cGSzz89//vPs2rVr3L5saWnJxRdfbF9OolarJUn9/+ceeuih\\\n",
              "vPDCC+P23/nnn59zzz3X/pslBGDBbrjhhpx88sl5xStekSeeeCJ33XVXfd2uXbvGHXyT1F/v2rXr\\\n",
              "mI5zpnvssceyadOmrF27tr7M/pse+29yv/71r7Nv375J903J++XlGN1f9uVL279/fz760Y/mzW9+\\\n",
              "c5YvX55kZP8tWLDggHN47b/ZQwDOITfeeGPmzZt30K9HH320vv3HPvaxPPzww/nud7+b4447Lu9/\\\n",
              "//tTFfxgmMPdf0ny1FNP5V3veleuvPLKXH311Q0a+czwcvYfMPN1dnamv78/d955Z6OHwhF0fKMH\\\n",
              "wJFz/fXX56qrrjroNq9+9avr35955pk588wz8/u///tpb2/PkiVL8sADD2TFihVpa2s74Gqu0ddt\\\n",
              "bW1HfOwzweHuv507d+bSSy/NJZdccsDFHfbf5Mbuv4Npa2s74MrWub7/DsWZZ56Z4447btK/rZL3\\\n",
              "y8sxur92796ds846q7589+7decMb3tCgUc0869aty7e//e3cf//9Oeecc+rL29rasnfv3jzzzDPj\\\n",
              "ZgH9Lc4eAnAOaW1tTWtr68v62f379ydJ9uzZkyRZsWJFPvnJT+aFF16onxd4zz335Lzzzsvpp59+\\\n",
              "ZAY8wxzO/nvqqady6aWX5sILL8yWLVsyf/74yXT7b3pWrFiRW265JU8//XQWLVqUZGT/NTc3Z9my\\\n",
              "ZUfkd8xGCxYsyIUXXpht27Zl9erVSUb+t7tt27asW7eusYObZZYuXZq2trZs27atHnzDw8N58MEH\\\n",
              "p7w6vSRVVWX9+vX51re+lfvuuy9Lly4dt/7CCy/MCSeckG3btuWKK65IkuzYsSNPPPFEVqxY0Ygh\\\n",
              "c7gafRUKx94DDzxQbdq0qXr44Yerxx9/vNq2bVt1ySWXVK95zWuq559/vqqqkSu8Fi9eXL3vfe+r\\\n",
              "+vv7qzvvvLNauHBhtXnz5gaPvvF++ctfVq997Wurd77zndUvf/nL6le/+lX9a5T9d3C/+MUvqocf\\\n",
              "frjasGFDdcopp1QPP/xw9fDDD1fPPvtsVVVV9eKLL1bLly+vLrvssuonP/lJdffdd1etra3VTTfd\\\n",
              "1OCRN96dd95ZNTU1VX19fdXAwEB1zTXXVKeddtq4K6YZ8eyzz9b/tpJUn/3sZ6uHH364+sUvflFV\\\n",
              "VVXdeuut1WmnnVbddddd1SOPPFK9973vrZYuXVr97ne/a/DIG+/aa6+tWlpaqvvuu2/c/8f993//\\\n",
              "d32bD3/4w9W5555b/cu//Ev1ox/9qFqxYkW1YsWKBo6awyEAC/TII49Ul156aXXGGWdUTU1N1ate\\\n",
              "9arqwx/+cPXLX/5y3Hb/+q//Wr3lLW+pmpqaqt/7vd+rbr311gaNeGbZsmVLlWTSr7Hsv6mtWbNm\\\n",
              "0v1377331rd5/PHHq3e/+93VSSedVJ155pnV9ddfX73wwguNG/QMsmnTpurcc8+tFixYUL3xjW+s\\\n",
              "HnjggUYPaUa69957J/07W7NmTVVVI7eC+fSnP10tXry4ampqqt75zndWO3bsaOygZ4ip/j9uy5Yt\\\n",
              "9W1+97vfVR/5yEeq008/vVq4cGH1x3/8x+P+IczMNq+qCj7rHwCgQK4CBgAojAAEACiMAAQAKIwA\\\n",
              "BAAojAAEACiMAAQAKIwABAAojAAEACiMAAQAKIwABAAojAAEACiMAAQAKIwABAAojAAEACiMAAQA\\\n",
              "KIwABAAojAAEACiMAAQAKIwABAAojAAEACiMAAQAKIwABAAojAAEACiMAAQAKIwABAAojAAEACiM\\\n",
              "AAQAKIwABAAojAAEACiMAAQAKIwABAAozP8Fb0lDx4Of41QAAAAASUVORK5CYII=\\\n",
              "\"\n",
              "  frames[4] = \"data:image/png;base64,iVBORw0KGgoAAAANSUhEUgAAAoAAAAHgCAYAAAA10dzkAAAAOXRFWHRTb2Z0d2FyZQBNYXRwbG90\\\n",
              "bGliIHZlcnNpb24zLjguMCwgaHR0cHM6Ly9tYXRwbG90bGliLm9yZy81sbWrAAAACXBIWXMAAA9h\\\n",
              "AAAPYQGoP6dpAAAnvUlEQVR4nO3dfXBeZYH//08LNFAgASRtYClaHxbSqYPfYRGLDyPaoTqsa3dZ\\\n",
              "ZvOPFnWgYtoZF0YBH0g6s2xZ3J86NlHqd9yGnVFxnR3LrOsyMl2QmbXgiLgYUjqyK1KpLXGVOyxr\\\n",
              "W2jP7498c2+SJqUlbe8k1+s1kyHnPid3L84EzrvXfR7mVFVVBQCAYsxt9AAAADi+BCAAQGEEIABA\\\n",
              "YQQgAEBhBCAAQGEEIABAYQQgAEBhBCAAQGEEIABAYQQgAEBhBCAAQGEEIABAYQQgAEBhBCAAQGEE\\\n",
              "IABAYQQgAEBhBCAAQGEEIABAYQQgAEBhBCAAQGEEIABAYQQgAEBhBCAAQGEEIABAYQQgAEBhBCAA\\\n",
              "QGEEIABAYQQgAEBhBCAAQGEEIABAYQQgAEBhBCAAQGEEIABAYQQgAEBhBCAAQGEEIABAYQQgAEBh\\\n",
              "BCAAQGEEIABAYQQgAEBhBCAAQGEEIABAYQQgAEBhBCAAQGEEIABAYQQgAEBhBCAAQGEEIABAYQQg\\\n",
              "AEBhBCAAQGEEIABAYQQgAEBhBCAAQGEEIABAYQQgAEBhBCAAQGFObPQAZrIDBw5k586dOf300zNn\\\n",
              "zpxGDwcAOAxVVeX555/Pueeem7lzy5wLE4BTsHPnzixatKjRwwAAXoEdO3bkvPPOa/QwGkIATsHp\\\n",
              "p5+eZPgXqLm5ucGjAQAOx9DQUBYtWlQ/jpdIAE7ByMe+zc3NAhAAZpiST98q84NvAICCCUAAgMII\\\n",
              "QACAwghAAIDCCEAAgMIIQACAwghAAIDCCEAAgMIIQACAwghAAIDCCEAAgMIIQACAwgjAaep3d9+d\\\n",
              "n7/r3fnd3Xc3eigAwCwjAKep33z1/+alnTvzm6/+30YPBQCYZQTgNHX2ddfmxHPPzdnXXdvooQAA\\\n",
              "s8ycqqqqRg9iphoaGkpLS0tqtVqam5sbPRwA4DA4fpsBBAAojgAEACiMAAQAKIwABAAojAAEACiM\\\n",
              "AAQAKIwABAAojAAEACiMAAQAKIwAhFmqu7s7vb29h9ymt7c33d3dx2dAAEwbJzZ6AMDR193dnXXr\\\n",
              "1tWXOzs7D9qmt7c3a9asGfMzAJTBDCDMMuPjb82aNQfNBI6Pv3Xr1glAgIIIQJhFxsffiNEROD7+\\\n",
              "RohAgHLMqaqqavQgZqqhoaG0tLSkVqulubm50cOhcJPF32jt7e3Ztm3bIbfp6uoSgsCs5vhtBhBm\\\n",
              "jdbW1knXLc3SJKnH38jykb4PALODAIRZorOzMz09PQe9viqrsiEb0pGOJElHOrIhG7Iqqw7atqen\\\n",
              "Z8ILRgCYXXwEPAWmkJmORp/jtzRLsyEb6utqqaUlLfXltVmb/vQnEX9AORy/zQDCrDN6JrA//dmY\\\n",
              "jfV1o+NvYzaKP4BCmQGcAn+DYDpbsmRJ/Zy/zdk8Jv5qqWVlViYZvjBkYGCgEUMEaAjHbzOAMCv1\\\n",
              "9vbW468jHWPiLxmeCRw5J3Dbtm0v+8QQAGYXAQizzPhzAFdndX1dLbX696uzun418EQ3iwZg9pq1\\\n",
              "Abh+/fpccsklOf3007NgwYKsXLky27dvH7PNnj170tnZmVe96lU57bTTctVVV2X37t0NGjFM3fib\\\n",
              "PPenP33pSzJ8zt/KrKyfE9iXvvo5gIkIBCjJrD0H8D3veU86OjpyySWX5KWXXsqnPvWp9Pf3Z2Bg\\\n",
              "IKeeemqS5Prrr88///M/p6+vLy0tLVmzZk3mzp2bf/u3fzusP8M5BMdXd3d3WltbD3mxQm9vbwYH\\\n",
              "B4u8kfFkT/hIhmcCR8fe+OXRXBACzHaO38mJjR7AsXLvvfeOWe7r68uCBQvyyCOP5B3veEdqtVq+\\\n",
              "9rWv5Rvf+Ebe9a53JUk2bdqU9vb2PPTQQ3nLW97SiGEzifFPuZgoUMYHUGkRODg4OOm6kdgbeRLI\\\n",
              "ZPH3cu8DwOwwaz8CHq9WGz736ayzzkqSPPLII3nxxRezfPny+jYXXnhhzj///GzdunXC99i7d2+G\\\n",
              "hobGfHHsjY+/iT6qHB9/JT7Xtru7O11dXZOu7+npycDAwIQ3ix7hMXAAhagKsH///urKK6+s3vrW\\\n",
              "t9Zf+/rXv17NmzfvoG0vueSS6pOf/OSE79PV1VUlOeirVqsds7GXbrJ9nqTq6empqqqqenp6Jt2m\\\n",
              "q6ursf8CDTDRPhvZVyMm2mcl7iugTLVarfjjdxEB+NGPfrR69atfXe3YsaP+2isJwD179lS1Wq3+\\\n",
              "tWPHjuJ/gY6lQ8XfyFd7e/vLblNi2Ized+Pjb8ToCCxxHwHlEoBVNWvPARyxZs2afPe7382DDz6Y\\\n",
              "8847r/56W1tb9u3bl+eeey5nnHFG/fXdu3enra1twvdqampKU1PTsR4y/09ra+uk60YuYhi5192h\\\n",
              "Lmo41PvMViMf4x7qopmR10u9aAagZLP2KuCqqrJ27dp85zvfyQMPPJA3vOENY9bXarW0trbmm9/8\\\n",
              "Zq666qokyfbt23PhhRdm69ath3URiKuIjr2JrmxdlVW5JtdkYzbm7tydjnRkdVanL325K3eN2dYV\\\n",
              "rQCM5/g9iwPwYx/7WL7xjW/knnvuyQUXXFB/vaWlJaecckqS4dvAfO9730tfX1+am5uzdu3aJMkP\\\n",
              "f/jDw/oz/AIdH+NvbLwhG+rraqmNecrF2qz1fFsADsnxexYH4Jw5cyZ8fdOmTbnmmmuSDN8I+sYb\\\n",
              "b8w3v/nN7N27NytWrMiXv/zlST8CHs8v0PEzOgJHZvzGG5kRTMQfAJNz/J7FAXg8+AU6vpYsWVI/\\\n",
              "529zNo+Z+aullpVZmWT4XncDAwONGCIAM4Djd0H3AWRm6+3trcdfRzrGxF+StKQlHelIkmzbts0j\\\n",
              "zQDgEAQg0974cwBHf/xbS63+/eqsztIsTeK5tgBwKAKQaW38VcD96U9f+pIMn/O3MiuzMRuTJH3p\\\n",
              "G3MrGBEIABNzDuAUOIfg2JroFjAjxt/371D3AXRBCACjOX6bAWQaGxwcnHTdSOy1t7ePWT7S9wGA\\\n",
              "EglApq3u7u50dXVNur6npycDAwPp6emZdJuurq4jfsrF4xe2Z+DC9jx+YXveeNcb618AMFvM+kfB\\\n",
              "MbONxNu6devGvD76Y92Rf47/uPhI4++JN/2fHNizJ3OSTHwXSQCYHQQg0974CJzonL7xEfhKZv6q\\\n",
              "/xd/ADDbCUBmhJGYa21tnfSCjpHXBwcHjzj+kmTOySfnwJ499eUqyc9W/eyI3wcApjtXAU+Bq4gA\\\n",
              "YOZx/HYRCABAcQQgAEBhBCAAQGEEIABAYQQgAEBhBCAAQGEEIAAzQnd3d3p7ew+5TW9v7yu6DyiU\\\n",
              "xo2gAZj2uru7xzwScqIbwvf29o55JKQQhMmZAQRgWhsff2vWrDloJnB8/K1bt04AwiEIQACmrfHx\\\n",
              "N2J0BI6PvxEiECbnUXBT4FEyAMfOZPE3Wnt7e7Zt23bIbbq6uoQgYzh+mwEEYJpqbW2ddN3SLE2S\\\n",
              "evyNLB/p+0CpBCAA01JnZ2d6enoOen1VVmVDNqQjHUmSjnRkQzZkVVYdtG1PT8+EF4xA6XwEPAWm\\\n",
              "kAGOvdHn+C3N0mzIhvq6WmppSUt9eW3Wpj/9ScQfk3P8NgMIwDQ3eiawP/3ZmI31daPjb2M2ij84\\\n",
              "TGYAp8DfIACOnyVLltTP+duczWPir5ZaVmZlkuELQwYGBhoxRGYIx28zgADMAL29vfX460jHmPhL\\\n",
              "hmcCR84J3LZt28s+MQRKJwABmNbGnwO4Oqvr62qp1b9fndX1q4Enulk08L8EIADT1vibPPenP33p\\\n",
              "SzJ8zt/KrKyfE9iXvvo5gIkIhENxDuAUOIcA4NiZ7AkfyfBM4OjYG788mgtCGM/x2wwgANPU4ODg\\\n",
              "pOtGYq+9vX3M8pG+D5RKAAIwLXV3d6erq2vS9T09PRkYGJjwZtEjPAYOJiYAAZi2JovA0R/rTvbE\\\n",
              "EPEHkxOAAExr4yNwonP6xkeg+INDO7HRAwCAlzMSc62trZNe0DHy+uDgoPiDl+Eq4ClwFREAzDyO\\\n",
              "3z4CBgAojo+AAWio/+8v/rj+/Y3f+m4DRwLlMAMIAFAYAQgAUBgfAQPQUD72hePPDCAAQGEEIABA\\\n",
              "YQQgAEBhBCAAQGEEIADQcN3d3ent7T3kNr29vR7zd5S4ChgAaKju7u6sW7euvjzR8557e3uzZs2a\\\n",
              "MT/DK2cGEABomPHxt2bNmoNmAsfH37p16wTgFAlAAKAhxsffiNEROD7+RojAqZlTVVXV6EHMVEND\\\n",
              "Q2lpaUmtVktzc3OjhwMAM8Zk8Tdae3t7tm3bdshturq6jjgEHb/NAAIADdDa2jrpuqVZmiT1+BtZ\\\n",
              "PtL3YXICEAA47jo7O9PT03PQ66uyKhuyIR3pSJJ0pCMbsiGrsuqgbXt6eia8YISX5yPgKTCFDABT\\\n",
              "M/ocv6VZmg3ZUF9XSy0taakvr83a9Kc/ydTiz/HbDCAA0ECjZwL705+N2VhfNzr+NmbjUYk/hpkB\\\n",
              "nAJ/gwCAo2PJkiX1c/42Z/OY+KullpVZmWT4wpCBgYEp/VmO32YAAYAG6+3trcdfRzrGxF8yPBM4\\\n",
              "ck7gtm3bXvaJIbw8AQgANMz4cwBXZ3V9XS21+vers7p+NfBEN4vmyAhAAKAhxt/kuT/96UtfkuFz\\\n",
              "/lZmZf2cwL701c8BTETgVDkHcAqcQwAAr8xkT/hIhmcCR8fe+OXRXskFIY7fZgABgAYYHBycdN1I\\\n",
              "7LW3t49ZPtL3YXKzNgAffPDBvO9978u5556bOXPmZPPmzWPWV1WVW2+9Neecc05OOeWULF++PD//\\\n",
              "+c8bM1gAKEx3d3e6uromXd/T05OBgYEJbxY94pU8Bo5hszYAX3jhhVx00UWTnh9wxx135Etf+lLu\\\n",
              "vPPOPPzwwzn11FOzYsWK7Nmz5ziPFADKNFkEjv5Yd7Inhoi/qTmx0QM4Vt773vfmve9974TrqqrK\\\n",
              "F7/4xXzmM5/J+9///iTJ3//932fhwoXZvHlzOjo6judQAaBYIxG3bt26JBOf0zeyPHLOoPibulkb\\\n",
              "gIfyi1/8Irt27cry5cvrr7W0tOTSSy/N1q1bBSAAHEcjMdfa2jrpBR0jrw8ODoq/o6DIANy1a1eS\\\n",
              "ZOHChWNeX7hwYX3dRPbu3Zu9e/fWl4eGho7NAAGgMIcTdR7/dvTM2nMAj4X169enpaWl/rVo0aJG\\\n",
              "DwkA4IgVGYBtbW1Jkt27d495fffu3fV1E7nllltSq9XqXzt27Dim4wQAOBaK/Ah48eLFaWtry5Yt\\\n",
              "W/KmN70pyfDHuQ8//HCuv/76SX+uqakpTU1Nx2mUADDz9X70X+vfd975rgaOhNFmbQD+93//d558\\\n",
              "8sn68i9+8Yv89Kc/zVlnnZXzzz8/H//4x/NXf/VXecMb3pDFixfns5/9bM4999ysXLmycYMGADgO\\\n",
              "Zm0A/vjHP87ll19eX77hhhuSJKtWrUpfX18++clP5oUXXsh1112X5557Lm9729ty77335uSTT27U\\\n",
              "kAEAjgvPAp4CzxIEgJnH8bvQi0AAAEomAAEACiMAAQAKIwABAAojAAEACiMAAQAKIwABAAojAAEA\\\n",
              "CiMAAQAKIwABAAojAAEACiMAAQAKIwABAAojAAEACiMAAQAKIwABAAojAAEACiMAAQAKIwABAAoj\\\n",
              "AAEACiMAAQAKIwABAAojAAEACiMAAQAKIwABAAojAAEACiMAAQAKIwABAAojAAEACiMAAQAKIwAB\\\n",
              "AAojAAEACiMAAQAKIwABAAojAAEACiMAAQAKIwABAAojAAEACiMAAQAKIwABAAojAAEACiMAAQAK\\\n",
              "IwABAAojAAEACiMAAQAKIwABAAojAAEACiMAAQAKIwABAAojAAEACiMAAQAKIwABAAojAAEACiMA\\\n",
              "AQAKIwABAAojAAEACiMAAQAKIwABAAojAAEACiMAAQAKIwABAApTfAD29vbmNa95TU4++eRceuml\\\n",
              "+dGPftToIQEAHFNFB+C3vvWt3HDDDenq6spPfvKTXHTRRVmxYkWeffbZRg8NAOCYKToAP//5z+fa\\\n",
              "a6/Nhz70oSxZsiR33nln5s+fn7/7u79r9NAAAI6ZYgNw3759eeSRR7J8+fL6a3Pnzs3y5cuzdevW\\\n",
              "Bo4MAODYOrHRA2iU3/zmN9m/f38WLlw45vWFCxfmiSeemPBn9u7dm71799aXh4aGjukYAQCOhWJn\\\n",
              "AF+J9evXp6Wlpf61aNGiRg8JAOCIFRuAZ599dk444YTs3r17zOu7d+9OW1vbhD9zyy23pFar1b92\\\n",
              "7NhxPIYKAHBUFRuA8+bNy8UXX5wtW7bUXztw4EC2bNmSZcuWTfgzTU1NaW5uHvMFADDTFHsOYJLc\\\n",
              "cMMNWbVqVf7oj/4ob37zm/PFL34xL7zwQj70oQ81emgAAMdM0QH4F3/xFxkcHMytt96aXbt25U1v\\\n",
              "elPuvffegy4MAQCYTeZUVVU1ehAz1dDQUFpaWlKr1XwcDAAzhON3wecAAgCUSgACABRGAAIAFEYA\\\n",
              "AgAURgACABRGAAIAFEYAAgAURgACABRGAAIAFEYAAgAURgACABRGAAIAFEYAAgAURgACABRGAAIA\\\n",
              "FEYAAgAURgACABRGAAIAFEYAAgAURgACABRGAAIAFEYAAgAURgACABRGAAIAFEYAAgAURgACABRG\\\n",
              "AAIAFEYAAgAURgACABRGAAIAFEYAAgAURgACABRGAAIAFEYAAgAURgACABRGAAIAFEYAAgAURgAC\\\n",
              "ABRGAAIAFEYAAgAURgACABRGAAIAFEYAAgAURgACABRGAAIAFEYAAgAURgACABRGAAIAFEYAAgAU\\\n",
              "RgACABRGAAIAFEYAAgAURgACABRGAAIAFEYAAgAURgACABRGAAIAFEYAAgAURgACABRGAAIAFEYA\\\n",
              "AgAUZlYG4G233ZbLLrss8+fPzxlnnDHhNk8//XSuvPLKzJ8/PwsWLMgnPvGJvPTSS8d3oAAADXBi\\\n",
              "owdwLOzbty9XX311li1blq997WsHrd+/f3+uvPLKtLW15Yc//GF+/etf54Mf/GBOOumk/PVf/3UD\\\n",
              "RgwAcPzMqaqqavQgjpW+vr58/OMfz3PPPTfm9X/5l3/JH//xH2fnzp1ZuHBhkuTOO+/MTTfdlMHB\\\n",
              "wcybN++w3n9oaCgtLS2p1Wppbm4+2sMHAI4Bx+9Z+hHwy9m6dWve+MY31uMvSVasWJGhoaE8/vjj\\\n",
              "k/7c3r17MzQ0NOYLAGCmKTIAd+3aNSb+ktSXd+3aNenPrV+/Pi0tLfWvRYsWHdNxAgAcCzMmAG++\\\n",
              "+ebMmTPnkF9PPPHEMR3DLbfcklqtVv/asWPHMf3zAACOhRlzEciNN96Ya6655pDbvPa1rz2s92pr\\\n",
              "a8uPfvSjMa/t3r27vm4yTU1NaWpqOqw/AwBgupoxAdja2prW1taj8l7Lli3LbbfdlmeffTYLFixI\\\n",
              "ktx3331pbm7OkiVLjsqfAQAwXc2YADwSTz/9dH7729/m6aefzv79+/PTn/40SfL6178+p512Wq64\\\n",
              "4oosWbIkH/jAB3LHHXdk165d+cxnPpPOzk4zfADArDcrbwNzzTXX5K677jro9fvvvz/vfOc7kyS/\\\n",
              "/OUvc/311+eBBx7IqaeemlWrVuX222/PiScefhO7jBwAZh7H71kagMeLXyAAmHkcv2fQVcAAABwd\\\n",
              "AhAAoDACEACgMAIQAKAwAhAAoDACEACgMAIQAKAwAhAAoDACEACgMAIQAKAwAhAAoDACEACgMAIQ\\\n",
              "AKAwAhAAoDACEACgMAIQAKAwAhAAoDACEACgMAIQAKAwAhAAoDACEACgMAIQAKAwAhAAoDACEACg\\\n",
              "MAIQAKAwAhAAoDACEACgMAIQAKAwAhAAoDACEACgMAIQAKAwAhAAoDACEACgMAIQAKAwAhAAoDAC\\\n",
              "EKap7u7u9Pb2HnKb3t7edHd3H58BATBrnNjoAQAH6+7uzrp16+rLnZ2dB23T29ubNWvWjPkZADgc\\\n",
              "ZgBhmhkff2vWrDloJnB8/K1bt04AAnDYBCBMI+Pjb8ToCBwffyNEIACHa05VVVWjBzFTDQ0NpaWl\\\n",
              "JbVaLc3NzY0eDjPcZPE3Wnt7e7Zt23bIbbq6uoQgwCE4fpsBhGmjtbV10nVLszRJ6vE3snyk7wMA\\\n",
              "iQCEaaOzszM9PT0Hvb4qq7IhG9KRjiRJRzqyIRuyKqsO2ranp2fCC0YAYDQfAU+BKWSOhdHn+C3N\\\n",
              "0mzIhvq6WmppSUt9eW3Wpj/9ScQfwOFy/DYDCNPO6JnA/vRnYzbW142Ov43ZKP4AeEXMAE6Bv0Fw\\\n",
              "LC1ZsqR+zt/mbB4Tf7XUsjIrkwxfGDIwMNCIIQLMSI7fZgBhWurt7a3HX0c6xsRfMjwTOHJO4LZt\\\n",
              "2172iSEAMJoAhGlm/DmAq7O6vq6WWv371Vldvxp4optFA8BkBCBMI+Nv8tyf/vSlL8nwOX8rs7J+\\\n",
              "TmBf+urnACYiEIDD5xzAKXAOAUfTZE/4SIZnAkfH3vjl0VwQAnBojt9mAGHaGBwcnHTdSOy1t7eP\\\n",
              "WT7S9wGARADCtNHd3Z2urq5J1/f09GRgYGDCm0WP8Bg4AA6HAIRpZLIIHP2x7mRPDBF/ABwuAQjT\\\n",
              "zPgInOicvvERKP4AOBInNnoAwMFGYq61tXXSCzpGXh8cHBR/ABwRVwFPgauIAGDmcfz2ETAAQHEE\\\n",
              "IABAYZwDCMfRa27+5/r3T91+ZQNHAkDJzAACABRGAAIAFGZWBuBTTz2Vj3zkI1m8eHFOOeWUvO51\\\n",
              "r0tXV1f27ds3ZrvHHnssb3/723PyySdn0aJFueOOOxo0Ykrx1O1X1r8AoFFm5TmATzzxRA4cOJCN\\\n",
              "Gzfm9a9/ffr7+3PttdfmhRdeyN/+7d8mGb4E/Iorrsjy5ctz55135mc/+1k+/OEP54wzzsh1113X\\\n",
              "4H8DAIBjp5j7AH7uc5/LV77ylfznf/5nkuQrX/lKPv3pT2fXrl2ZN29ekuTmm2/O5s2b88QTTxzW\\\n",
              "e7qPEADMPI7fs/Qj4InUarWcddZZ9eWtW7fmHe94Rz3+kmTFihXZvn17fve73zViiAAAx0URAfjk\\\n",
              "k09mw4YNWb16df21Xbt2ZeHChWO2G1netWvXhO+zd+/eDA0NjfkCAF657u7u9Pb2HnKb3t5ej7w8\\\n",
              "ymbUOYA333xz/uZv/uaQ22zbti0XXnhhffmZZ57Je97znlx99dW59tprp/Tnr1+/PuvWrZvSewAA\\\n",
              "w7q7u8ccVyd69nlvb2/WrFkz5meYuhl1DuDg4GD+67/+65DbvPa1r61/rLtz5868853vzFve8pb0\\\n",
              "9fVl7tz/nfD84Ac/mKGhoWzevLn+2v333593vetd+e1vf5szzzzzoPfeu3dv9u7dW18eGhrKokWL\\\n",
              "ij6HAABeifHxlyQ9PT1jInB8/CVJV1fXlCPQOYAzbAawtbU1ra2th7XtM888k8svvzwXX3xxNm3a\\\n",
              "NCb+kmTZsmX59Kc/nRdffDEnnXRSkuS+++7LBRdcMGH8JUlTU1Oampqm9i8BAIWbKP6S1GOvs7Nz\\\n",
              "wvhLUv85M4FTM6NmAA/XM888k3e+85159atfnbvuuisnnHBCfV1bW1uS4YtCLrjgglxxxRW56aab\\\n",
              "0t/fnw9/+MP5whe+cNi3gfE3CAA4MpPF32jt7e3Ztm3bIbeZykyg4/cMmwE8XPfdd1+efPLJPPnk\\\n",
              "kznvvPPGrBvp3ZaWlnz/+99PZ2dnLr744px99tm59dZb3QMQAI6hQ32StzRL05/+evyNLB/p+/Dy\\\n",
              "ZuUM4PHibxAAcOQm+nh3VVblmlyTjdmYu3N3OtKR1VmdvvTlrtw1Ztvx5woeKcdvATglfoEA4JUZ\\\n",
              "HYFLszQbsqG+rpZaWtJSX16btfWZwKnGX+L4nRRyH0AAYHrp7OxMT09PkqQ//dmYjfV1o+NvYzYe\\\n",
              "1fhjmBnAKfA3CACYmiVLltTP+duczWPir5ZaVmZlkuELQwYGBo7Kn+n4bQYQAGiQ3t7eevx1pGNM\\\n",
              "/CXDM4Ed6Ugy/KCHl3tiCIdPAAIAx934cwBX538f11pLrf796qzO0ixNMnyfQBF4dAhAAOC4Gn8V\\\n",
              "cH/605e+JMPn/K3Myvo5gX3pG3MrGBF4dDgHcAqcQwAAR2ayJ3wkB9/371D3AZzKBSGO32YAAYDj\\\n",
              "aHBwcNJ1I7HX3t4+ZvlI34eXJwABgOOmu7s7XV1dk67v6enJwMBA/RYxE5nKY+AYJgABgONqsggc\\\n",
              "/bHu6PsEjib+jg4BCAAcd+MjcKJz+sZHoPg7ek5s9AAAgDKNxFxra+ukF3SMvD44OCj+jiJXAU+B\\\n",
              "q4gAYOZx/PYRMABAcXwEDAAcHd2jHuXWXZt8OxrODCAAQGEEIABAYXwEDAAcHT72nTHMAAIAFEYA\\\n",
              "AgAURgACABRGAAIAFEYAAgAURgACABRGAAIAFEYAAgAURgACABRGAAIAFEYAAgAURgACABRGAAIA\\\n",
              "FObERg9gJquqKkkyNDTU4JEAAIdr5Lg9chwvkQCcgueffz5JsmjRogaPBAA4Us8//3xaWloaPYyG\\\n",
              "mFOVnL9TdODAgezcuTOnn3565syZ0+jhHLGhoaEsWrQoO3bsSHNzc6OHM+PYf1Nj/71y9t3U2H9T\\\n",
              "Mxv2X1VVef7553Puuedm7twyz4YzAzgFc+fOzXnnndfoYUxZc3PzjP2PeDqw/6bG/nvl7Lupsf+m\\\n",
              "Zqbvv1Jn/kaUmb0AAAUTgAAAhRGABWtqakpXV1eampoaPZQZyf6bGvvvlbPvpsb+mxr7b3ZwEQgA\\\n",
              "QGHMAAIAFEYAAgAURgACABRGAAIAFEYAFupP/uRPcv755+fkk0/OOeeckw984APZuXPnmG0ee+yx\\\n",
              "vP3tb8/JJ5+cRYsW5Y477mjQaKeXp556Kh/5yEeyePHinHLKKXnd616Xrq6u7Nu3b8x29t/kbrvt\\\n",
              "tlx22WWZP39+zjjjjAm3efrpp3PllVdm/vz5WbBgQT7xiU/kpZdeOr4DnaZ6e3vzmte8JieffHIu\\\n",
              "vfTS/OhHP2r0kKalBx98MO973/ty7rnnZs6cOdm8efOY9VVV5dZbb80555yTU045JcuXL8/Pf/7z\\\n",
              "xgx2mlm/fn0uueSSnH766VmwYEFWrlyZ7du3j9lmz5496ezszKte9aqcdtppueqqq7J79+4GjZgj\\\n",
              "JQALdfnll+cf/uEfsn379vzjP/5j/uM//iN//ud/Xl8/NDSUK664Iq9+9avzyCOP5HOf+1y6u7vz\\\n",
              "1a9+tYGjnh6eeOKJHDhwIBs3bszjjz+eL3zhC7nzzjvzqU99qr6N/Xdo+/bty9VXX53rr79+wvX7\\\n",
              "9+/PlVdemX379uWHP/xh7rrrrvT19eXWW289ziOdfr71rW/lhhtuSFdXV37yk5/koosuyooVK/Ls\\\n",
              "s882emjTzgsvvJCLLroovb29E66/44478qUvfSl33nlnHn744Zx66qlZsWJF9uzZc5xHOv384Ac/\\\n",
              "SGdnZx566KHcd999efHFF3PFFVfkhRdeqG/zl3/5l/mnf/qnfPvb384PfvCD7Ny5M3/2Z3/WwFFz\\\n",
              "RCqoquqee+6p5syZU+3bt6+qqqr68pe/XJ155pnV3r1769vcdNNN1QUXXNCoIU5rd9xxR7V48eL6\\\n",
              "sv13eDZt2lS1tLQc9Pr3vve9au7cudWuXbvqr33lK1+pmpubx+zTEr35zW+uOjs768v79++vzj33\\\n",
              "3Gr9+vUNHNX0l6T6zne+U18+cOBA1dbWVn3uc5+rv/bcc89VTU1N1Te/+c0GjHB6e/bZZ6sk1Q9+\\\n",
              "8IOqqob31UknnVR9+9vfrm+zbdu2Kkm1devWRg2TI2AGkPz2t7/N17/+9Vx22WU56aSTkiRbt27N\\\n",
              "O97xjsybN6++3YoVK7J9+/b87ne/a9RQp61arZazzjqrvmz/Tc3WrVvzxje+MQsXLqy/tmLFigwN\\\n",
              "DeXxxx9v4Mgaa9++fXnkkUeyfPny+mtz587N8uXLs3Xr1gaObOb5xS9+kV27do3Zly0tLbn00kvt\\\n",
              "ywnUarUkqf9/7pFHHsmLL744Zv9deOGFOf/88+2/GUIAFuymm27Kqaeemle96lV5+umnc88999TX\\\n",
              "7dq1a8zBN0l9edeuXcd1nNPdk08+mQ0bNmT16tX11+y/qbH/Jvab3/wm+/fvn3DflLxfXomR/WVf\\\n",
              "vrwDBw7k4x//eN761rdm6dKlSYb337x58w46h9f+mzkE4Cxy8803Z86cOYf8euKJJ+rbf+ITn8ij\\\n",
              "jz6a73//+znhhBPywQ9+MFXBD4Y50v2XJM8880ze85735Oqrr861117boJFPD69k/wHTX2dnZ/r7\\\n",
              "+3P33Xc3eigcRSc2egAcPTfeeGOuueaaQ27z2te+tv792WefnbPPPjt/+Id/mPb29ixatCgPPfRQ\\\n",
              "li1blra2toOu5hpZbmtrO+pjnw6OdP/t3Lkzl19+eS677LKDLu6w/yY2ev8dSltb20FXts72/Xc4\\\n",
              "zj777JxwwgkT/m6VvF9eiZH9tXv37pxzzjn113fv3p03velNDRrV9LNmzZp897vfzYMPPpjzzjuv\\\n",
              "/npbW1v27duX5557bswsoN/FmUMAziKtra1pbW19RT974MCBJMnevXuTJMuWLcunP/3pvPjii/Xz\\\n",
              "Au+7775ccMEFOfPMM4/OgKeZI9l/zzzzTC6//PJcfPHF2bRpU+bOHTuZbv9NzbJly3Lbbbfl2Wef\\\n",
              "zYIFC5IM77/m5uYsWbLkqPwZM9G8efNy8cUXZ8uWLVm5cmWS4f92t2zZkjVr1jR2cDPM4sWL09bW\\\n",
              "li1bttSDb2hoKA8//PCkV6eXpKqqrF27Nt/5znfywAMPZPHixWPWX3zxxTnppJOyZcuWXHXVVUmS\\\n",
              "7du35+mnn86yZcsaMWSOVKOvQuH4e+ihh6oNGzZUjz76aPXUU09VW7ZsqS677LLqda97XbVnz56q\\\n",
              "qoav8Fq4cGH1gQ98oOrv76/uvvvuav78+dXGjRsbPPrG+9WvflW9/vWvr9797ndXv/rVr6pf//rX\\\n",
              "9a8R9t+h/fKXv6weffTRat26ddVpp51WPfroo9Wjjz5aPf/881VVVdVLL71ULV26tLriiiuqn/70\\\n",
              "p9W9995btba2VrfcckuDR954d999d9XU1FT19fVVAwMD1XXXXVedccYZY66YZtjzzz9f/91KUn3+\\\n",
              "85+vHn300eqXv/xlVVVVdfvtt1dnnHFGdc8991SPPfZY9f73v79avHhx9fvf/77BI2+866+/vmpp\\\n",
              "aakeeOCBMf+P+5//+Z/6Nh/96Eer888/v/rXf/3X6sc//nG1bNmyatmyZQ0cNUdCABboscceqy6/\\\n",
              "/PLqrLPOqpqamqrXvOY11Uc/+tHqV7/61Zjt/v3f/71629veVjU1NVV/8Ad/UN1+++0NGvH0smnT\\\n",
              "pirJhF+j2X+TW7Vq1YT77/77769v89RTT1Xvfe97q1NOOaU6++yzqxtvvLF68cUXGzfoaWTDhg3V\\\n",
              "+eefX82bN69685vfXD300EONHtK0dP/990/4e7Zq1aqqqoZvBfPZz362WrhwYdXU1FS9+93vrrZv\\\n",
              "397YQU8Tk/0/btOmTfVtfv/731cf+9jHqjPPPLOaP39+9ad/+qdj/iLM9Danqgo+6x8AoECuAgYA\\\n",
              "KIwABAAojAAEACiMAAQAKIwABAAojAAEACiMAAQAKIwABAAojAAEACiMAAQAKIwABAAojAAEACiM\\\n",
              "AAQAKIwABAAojAAEACiMAAQAKIwABAAojAAEACiMAAQAKIwABAAojAAEACiMAAQAKIwABAAojAAE\\\n",
              "ACiMAAQAKIwABAAojAAEACiMAAQAKIwABAAojAAEACiMAAQAKMz/D21bJ9uj8jVIAAAAAElFTkSu\\\n",
              "QmCC\\\n",
              "\"\n",
              "\n",
              "\n",
              "    /* set a timeout to make sure all the above elements are created before\n",
              "       the object is initialized. */\n",
              "    setTimeout(function() {\n",
              "        anim1cc6306a1db44a60b0be660680464a9c = new Animation(frames, img_id, slider_id, 500.0,\n",
              "                                 loop_select_id);\n",
              "    }, 0);\n",
              "  })()\n",
              "</script>\n"
            ]
          },
          "metadata": {},
          "execution_count": 71
        }
      ],
      "source": [
        "# create your own animation\n",
        "X = data.clone()\n",
        "fig,ax = plt.subplots()\n",
        "ani = FuncAnimation(fig, do_one, frames=5, interval=500, repeat=False)\n",
        "plt.close()\n",
        "HTML(ani.to_jshtml())"
      ]
    },
    {
      "cell_type": "markdown",
      "metadata": {
        "id": "5s_WudrncqU6"
      },
      "source": [
        "## GPU batched algorithm"
      ]
    },
    {
      "cell_type": "markdown",
      "metadata": {
        "id": "k2DxmPObcqU6"
      },
      "source": [
        "To truly accelerate the algorithm, we need to be performing updates on a batch of points per iteration, instead of just one as we were doing."
      ]
    },
    {
      "cell_type": "code",
      "execution_count": 72,
      "metadata": {
        "id": "-ikYUnIZcqU6",
        "outputId": "09f3f1fa-d9c1-49e9-ff8e-a85c3172e195",
        "colab": {
          "base_uri": "https://localhost:8080/",
          "height": 0
        }
      },
      "outputs": [
        {
          "output_type": "execute_result",
          "data": {
            "text/plain": [
              "(torch.Size([5, 2]), torch.Size([1500, 2]))"
            ]
          },
          "metadata": {},
          "execution_count": 72
        }
      ],
      "source": [
        "bs=5\n",
        "X = data.clone()\n",
        "x = X[:bs]\n",
        "x.shape,X.shape"
      ]
    },
    {
      "cell_type": "code",
      "execution_count": 73,
      "metadata": {
        "id": "j6g-MOjocqU6"
      },
      "outputs": [],
      "source": [
        "def dist_b(a,b): return (((a[None]-b[:,None])**2).sum(2)).sqrt()#第一个维度变为batchsize，所以相加的维度变为了2"
      ]
    },
    {
      "cell_type": "code",
      "execution_count": 74,
      "metadata": {
        "id": "tXH9Jsw-cqU7",
        "outputId": "b0a402ef-6d9f-450e-cef4-6c5795da8389",
        "colab": {
          "base_uri": "https://localhost:8080/",
          "height": 0
        }
      },
      "outputs": [
        {
          "output_type": "execute_result",
          "data": {
            "text/plain": [
              "tensor([[ 0.000,  5.762,  6.912,  ..., 36.225, 37.880, 36.377],\n",
              "        [ 5.762,  0.000,  5.318,  ..., 38.558, 39.557, 37.997],\n",
              "        [ 6.912,  5.318,  0.000,  ..., 42.726, 44.072, 42.534],\n",
              "        [ 4.271,  4.462,  2.645,  ..., 40.264, 41.729, 40.204],\n",
              "        [ 4.621,  6.297,  3.364,  ..., 40.838, 42.493, 40.986]])"
            ]
          },
          "metadata": {},
          "execution_count": 74
        }
      ],
      "source": [
        "dist_b(X, x)"
      ]
    },
    {
      "cell_type": "code",
      "execution_count": 75,
      "metadata": {
        "id": "cRt9xk58cqU7",
        "outputId": "b71e283d-68e9-41e9-8cc5-6a9bb5ef924f",
        "colab": {
          "base_uri": "https://localhost:8080/",
          "height": 0
        }
      },
      "outputs": [
        {
          "output_type": "execute_result",
          "data": {
            "text/plain": [
              "torch.Size([5, 1500])"
            ]
          },
          "metadata": {},
          "execution_count": 75
        }
      ],
      "source": [
        "dist_b(X, x).shape"
      ]
    },
    {
      "cell_type": "code",
      "execution_count": 76,
      "metadata": {
        "id": "qDutWNkdcqU7",
        "outputId": "4586656a-f090-4e2b-8161-fa49b617e6bc",
        "colab": {
          "base_uri": "https://localhost:8080/",
          "height": 0
        }
      },
      "outputs": [
        {
          "output_type": "execute_result",
          "data": {
            "text/plain": [
              "(torch.Size([1, 1500, 2]), torch.Size([5, 1, 2]), torch.Size([5, 1500, 2]))"
            ]
          },
          "metadata": {},
          "execution_count": 76
        }
      ],
      "source": [
        "X[None,:].shape, x[:,None].shape, (X[None,:]-x[:,None]).shape"
      ]
    },
    {
      "cell_type": "code",
      "execution_count": 77,
      "metadata": {
        "id": "O6ZG2e2-cqU7",
        "outputId": "6cd764a6-6190-4000-bb06-24aece2b8c5b",
        "colab": {
          "base_uri": "https://localhost:8080/",
          "height": 0
        }
      },
      "outputs": [
        {
          "output_type": "execute_result",
          "data": {
            "text/plain": [
              "tensor([[0.199, 0.003, 0.001,  ..., 0.000, 0.000, 0.000],\n",
              "        [0.003, 0.199, 0.006,  ..., 0.000, 0.000, 0.000],\n",
              "        [0.001, 0.006, 0.199,  ..., 0.000, 0.000, 0.000],\n",
              "        [0.020, 0.017, 0.083,  ..., 0.000, 0.000, 0.000],\n",
              "        [0.014, 0.001, 0.048,  ..., 0.000, 0.000, 0.000]])"
            ]
          },
          "metadata": {},
          "execution_count": 77
        }
      ],
      "source": [
        "weight = gaussian(dist_b(X, x), 2)\n",
        "weight"
      ]
    },
    {
      "cell_type": "code",
      "execution_count": 78,
      "metadata": {
        "id": "LLPVzagbcqU7",
        "outputId": "1e2b01b2-19f3-4e6a-9c26-07e6734e8bee",
        "colab": {
          "base_uri": "https://localhost:8080/",
          "height": 0
        }
      },
      "outputs": [
        {
          "output_type": "execute_result",
          "data": {
            "text/plain": [
              "(torch.Size([5, 1500]), torch.Size([1500, 2]))"
            ]
          },
          "metadata": {},
          "execution_count": 78
        }
      ],
      "source": [
        "weight.shape,X.shape"
      ]
    },
    {
      "cell_type": "code",
      "execution_count": 79,
      "metadata": {
        "id": "e-B7BS50cqU7",
        "outputId": "2166dcab-8134-4b5c-d671-381bb53c1c70",
        "colab": {
          "base_uri": "https://localhost:8080/",
          "height": 0
        }
      },
      "outputs": [
        {
          "output_type": "execute_result",
          "data": {
            "text/plain": [
              "(torch.Size([5, 1500, 1]), torch.Size([1, 1500, 2]))"
            ]
          },
          "metadata": {},
          "execution_count": 79
        }
      ],
      "source": [
        "weight[...,None].shape, X[None].shape"
      ]
    },
    {
      "cell_type": "code",
      "execution_count": 81,
      "metadata": {
        "id": "9SqdSwy5cqU7",
        "outputId": "d50a45aa-413b-4104-9d3f-eba550421e07",
        "colab": {
          "base_uri": "https://localhost:8080/",
          "height": 0
        }
      },
      "outputs": [
        {
          "output_type": "execute_result",
          "data": {
            "text/plain": [
              "(torch.Size([5, 2]),\n",
              " tensor([[-119.400, -137.155],\n",
              "         [-226.752, -206.096],\n",
              "         [-267.690, -282.296],\n",
              "         [-363.511, -396.659],\n",
              "         [-244.396, -289.064]]))"
            ]
          },
          "metadata": {},
          "execution_count": 81
        }
      ],
      "source": [
        "num = (weight[...,None]*X[None]).sum(1)\n",
        "num.shape,num"
      ]
    },
    {
      "cell_type": "code",
      "execution_count": 82,
      "metadata": {
        "id": "602X7m0kcqU7",
        "outputId": "4db95a66-a0ef-40f6-d930-bb2a5511488c",
        "colab": {
          "base_uri": "https://localhost:8080/",
          "height": 0
        }
      },
      "outputs": [
        {
          "output_type": "execute_result",
          "data": {
            "text/plain": [
              "tensor([[-119.400, -137.155],\n",
              "        [-226.752, -206.096],\n",
              "        [-267.690, -282.296],\n",
              "        [-363.511, -396.659],\n",
              "        [-244.396, -289.064]])"
            ]
          },
          "metadata": {},
          "execution_count": 82
        }
      ],
      "source": [
        "num"
      ]
    },
    {
      "cell_type": "code",
      "execution_count": 83,
      "metadata": {
        "id": "9iwfOLXmcqU8",
        "outputId": "f1e46351-efad-40d7-bbb7-2ff248b6537d",
        "colab": {
          "base_uri": "https://localhost:8080/",
          "height": 0
        }
      },
      "outputs": [
        {
          "output_type": "execute_result",
          "data": {
            "text/plain": [
              "tensor([[-119.400, -137.155],\n",
              "        [-226.752, -206.096],\n",
              "        [-267.690, -282.296],\n",
              "        [-363.511, -396.659],\n",
              "        [-244.396, -289.064]])"
            ]
          },
          "metadata": {},
          "execution_count": 83
        }
      ],
      "source": [
        "torch.einsum('ij,jk->ik', weight, X)"
      ]
    },
    {
      "cell_type": "code",
      "execution_count": 84,
      "metadata": {
        "id": "ibiM_BJzcqU8",
        "outputId": "349e429a-4ab6-45fa-903b-6aba8833de08",
        "colab": {
          "base_uri": "https://localhost:8080/",
          "height": 0
        }
      },
      "outputs": [
        {
          "output_type": "execute_result",
          "data": {
            "text/plain": [
              "tensor([[-119.400, -137.155],\n",
              "        [-226.752, -206.096],\n",
              "        [-267.690, -282.296],\n",
              "        [-363.511, -396.659],\n",
              "        [-244.396, -289.064]])"
            ]
          },
          "metadata": {},
          "execution_count": 84
        }
      ],
      "source": [
        "weight@X"
      ]
    },
    {
      "cell_type": "code",
      "execution_count": 85,
      "metadata": {
        "id": "CeN7j7ALcqU8",
        "outputId": "4e66fc76-72ac-42e7-f5d3-491bb505df10",
        "colab": {
          "base_uri": "https://localhost:8080/",
          "height": 0
        }
      },
      "outputs": [
        {
          "output_type": "execute_result",
          "data": {
            "text/plain": [
              "torch.Size([5, 1])"
            ]
          },
          "metadata": {},
          "execution_count": 85
        }
      ],
      "source": [
        "div = weight.sum(1, keepdim=True)\n",
        "div.shape"
      ]
    },
    {
      "cell_type": "code",
      "execution_count": 86,
      "metadata": {
        "id": "h9nYF705cqU8",
        "outputId": "85d5c8ad-8910-440f-bda0-4feb255fe322",
        "colab": {
          "base_uri": "https://localhost:8080/",
          "height": 0
        }
      },
      "outputs": [
        {
          "output_type": "execute_result",
          "data": {
            "text/plain": [
              "tensor([[-16.012, -18.393],\n",
              "        [-19.011, -17.279],\n",
              "        [-19.307, -20.360],\n",
              "        [-18.011, -19.653],\n",
              "        [-17.397, -20.577]])"
            ]
          },
          "metadata": {},
          "execution_count": 86
        }
      ],
      "source": [
        "num/div"
      ]
    },
    {
      "cell_type": "code",
      "execution_count": 87,
      "metadata": {
        "id": "Ashd6jNscqU8"
      },
      "outputs": [],
      "source": [
        "def meanshift(data, bs=500):\n",
        "    n = len(data)\n",
        "    X = data.clone()\n",
        "    for it in range(5):\n",
        "        for i in range(0, n, bs):\n",
        "            s = slice(i, min(i+bs,n))\n",
        "            weight = gaussian(dist_b(X, X[s]), 2.5)\n",
        "#             weight = tri(dist_b(X, X[s]), 8)\n",
        "            div = weight.sum(1, keepdim=True)\n",
        "            X[s] = weight@X/div\n",
        "    return X"
      ]
    },
    {
      "cell_type": "markdown",
      "metadata": {
        "id": "qwHmEdwDcqU8"
      },
      "source": [
        "Although each iteration still has to launch a new cuda kernel, there are now fewer iterations, and the acceleration from updating a batch of points more than makes up for it."
      ]
    },
    {
      "cell_type": "code",
      "execution_count": 88,
      "metadata": {
        "id": "d8aRpcHKcqU8"
      },
      "outputs": [],
      "source": [
        "data = data.cuda()"
      ]
    },
    {
      "cell_type": "code",
      "execution_count": 89,
      "metadata": {
        "id": "fO9vqCfYcqU8"
      },
      "outputs": [],
      "source": [
        "X = meanshift(data).cpu()"
      ]
    },
    {
      "cell_type": "code",
      "execution_count": 90,
      "metadata": {
        "id": "VRIQVHxZcqU9",
        "outputId": "de9a27ac-17b4-481e-9832-b956ce39a9b5",
        "colab": {
          "base_uri": "https://localhost:8080/",
          "height": 0
        }
      },
      "outputs": [
        {
          "output_type": "stream",
          "name": "stdout",
          "text": [
            "6.32 ms ± 304 µs per loop (mean ± std. dev. of 7 runs, 5 loops each)\n"
          ]
        }
      ],
      "source": [
        "%timeit -n 5 _=meanshift(data, 1250).cpu()"
      ]
    },
    {
      "cell_type": "code",
      "execution_count": 91,
      "metadata": {
        "id": "fzLkflXncqU9",
        "outputId": "04981546-4377-48fe-8fd2-14b96ef1a5af",
        "colab": {
          "base_uri": "https://localhost:8080/",
          "height": 430
        }
      },
      "outputs": [
        {
          "output_type": "display_data",
          "data": {
            "text/plain": [
              "<Figure size 640x480 with 1 Axes>"
            ],
            "image/png": "[encoded data removed]"
          },
          "metadata": {}
        }
      ],
      "source": [
        "plot_data(centroids+2, X, n_samples)"
      ]
    },
    {
      "cell_type": "markdown",
      "metadata": {
        "id": "h-pLUmwccqU9"
      },
      "source": [
        "**Homework:** implement k-means clustering, dbscan, locality sensitive hashing, or some other clustering, fast nearest neighbors, or similar algorithm of your choice, on the GPU. Check if your version is faster than a pure python or CPU version.\n",
        "\n",
        "Bonus: Implement it in APL too!\n",
        "\n",
        "Super bonus: Invent a new meanshift algorithm which picks only the closest points, to avoid quadratic time.\n",
        "\n",
        "Super super bonus: Publish a paper that describes it :D"
      ]
    },
    {
      "cell_type": "code",
      "execution_count": 131,
      "metadata": {
        "collapsed": true,
        "id": "LG23LnB0cqU9",
        "outputId": "38d1d472-38e2-402d-832f-d5ffd881e771",
        "colab": {
          "base_uri": "https://localhost:8080/",
          "height": 430
        }
      },
      "outputs": [
        {
          "output_type": "display_data",
          "data": {
            "text/plain": [
              "<Figure size 640x480 with 1 Axes>"
            ],
            "image/png": "[encoded data removed]"
          },
          "metadata": {}
        }
      ],
      "source": [
        "X = data.clone()\n",
        "data = data.cpu()\n",
        "plot_data(centroids, data, n_samples)"
      ]
    },
    {
      "cell_type": "code",
      "source": [
        "x = data[0]\n",
        "x,x.shape,X.shape"
      ],
      "metadata": {
        "id": "Fp7EgW7vnJov",
        "outputId": "d5146253-4a5f-4834-b027-9819bb3b80a1",
        "colab": {
          "base_uri": "https://localhost:8080/",
          "height": 0
        }
      },
      "execution_count": 99,
      "outputs": [
        {
          "output_type": "execute_result",
          "data": {
            "text/plain": [
              "(tensor([-14.167, -17.772]), torch.Size([2]), torch.Size([1500, 2]))"
            ]
          },
          "metadata": {},
          "execution_count": 99
        }
      ]
    },
    {
      "cell_type": "code",
      "source": [
        "def distance(x,X):\n",
        "  # dis = torch.sqrt(((x-X)**2).sum(1))\n",
        "  dis = np.linalg.norm(x - X)\n",
        "  return dis"
      ],
      "metadata": {
        "id": "GWSSOcJGnlFT"
      },
      "execution_count": 154,
      "outputs": []
    },
    {
      "cell_type": "code",
      "source": [
        "distance(x,data)"
      ],
      "metadata": {
        "id": "8BmfLrtDoMKx"
      },
      "execution_count": null,
      "outputs": []
    },
    {
      "cell_type": "code",
      "source": [
        "def region_query(X,point_idx,epsilon):\n",
        "  neighbors = []\n",
        "  labels = []\n",
        "  for i ,x in enumerate(X):\n",
        "    dis = distance(X[point_idx],x)\n",
        "    if dis < epsilon:\n",
        "      neighbors.append(i)\n",
        "\n",
        "  return neighbors,"
      ],
      "metadata": {
        "id": "ncVxbzjnmc_A"
      },
      "execution_count": 148,
      "outputs": []
    },
    {
      "cell_type": "code",
      "source": [
        "def expand_cluster(X,labels,point_idx,neighbors,cluster_id,eps,min_pts):\n",
        "  labels[point_idx] = cluster_id\n",
        "  i = 0\n",
        "  while i < len(neighbors):\n",
        "    neighbors_idx = neighbors[i]\n",
        "    if labels[neighbors_idx] == -1:\n",
        "      labels[neighbors_idx] = cluster_id\n",
        "    elif labels[neighbors_idx] == 0:\n",
        "      labels[neighbor_idx] = cluster_id\n",
        "      new_neighbors = region_query(X,neighbor_idx,eps)\n",
        "      if len(new_neighbors) > min_pts:\n",
        "        neighbors +=new_neighbors\n",
        "    elif labels[neighbors_idx] == 1:\n",
        "      labels[neighbor_idx] = cluster_id\n",
        "  i += 1"
      ],
      "metadata": {
        "id": "aGDyoASsrWNj"
      },
      "execution_count": 149,
      "outputs": []
    },
    {
      "cell_type": "code",
      "source": [
        "import numpy as np\n",
        "def dbscan(X,eps,min_pts):\n",
        "  n_points = len(X)\n",
        "  labels = np.zeros(n_points)\n",
        "  cluster_id = 0\n",
        "\n",
        "  for point_idx in range(n_points):\n",
        "    if labels[point_idx] == 0 :\n",
        "      neighbors = region_query(X,point_idx,eps)\n",
        "    if len(neighbors) < min_pts:\n",
        "      labels[point_idx] = -1\n",
        "    else:\n",
        "      labels[point_idx] = 1\n",
        "      cluster_id +=1\n",
        "      expand_cluster(X,labels,point_idx,neighbors,cluster_id,eps,min_pts)\n",
        "  return labels"
      ],
      "metadata": {
        "id": "VU22kuQ_lsBL"
      },
      "execution_count": 150,
      "outputs": []
    },
    {
      "cell_type": "code",
      "source": [
        "X = data.clone()\n",
        "eps = 3\n",
        "min_pts=10\n",
        "labels = dbscan(X,eps,min_pts)\n",
        "\n",
        "plt.figure(figsize=(8, 6))\n",
        "plt.scatter(X[:, 0], X[:, 1], c=labels, cmap='viridis')\n",
        "plt.title('DBSCAN Clustering (Manual Implementation)')\n",
        "plt.xlabel('X')\n",
        "plt.ylabel('Y')\n",
        "plt.show()\n",
        "\n",
        "print(f\"Cluster labels: {np.unique(labels)}\")"
      ],
      "metadata": {
        "id": "fcSe6-ckytXm",
        "outputId": "2aca6243-edc9-494b-ef2a-56a9c6c1c95c",
        "colab": {
          "base_uri": "https://localhost:8080/",
          "height": 582
        }
      },
      "execution_count": 157,
      "outputs": [
        {
          "output_type": "display_data",
          "data": {
            "text/plain": [
              "<Figure size 800x600 with 1 Axes>"
            ],
            "image/png": "[encoded data removed]"
          },
          "metadata": {}
        },
        {
          "output_type": "stream",
          "name": "stdout",
          "text": [
            "Cluster labels: [-1.]\n"
          ]
        }
      ]
    },
    {
      "cell_type": "code",
      "source": [
        "import numpy as np\n",
        "import matplotlib.pyplot as plt\n",
        "\n",
        "# 计算两点之间的欧氏距离\n",
        "def euclidean_distance(x1, x2):\n",
        "    return np.linalg.norm(x1 - x2)\n",
        "\n",
        "# 寻找邻域\n",
        "def region_query(data, point_idx, eps):\n",
        "    neighbors = []\n",
        "    for i, point in enumerate(data):\n",
        "        if euclidean_distance(data[point_idx], point) < eps:\n",
        "            neighbors.append(i)\n",
        "    return neighbors\n",
        "\n",
        "# 扩展簇\n",
        "def expand_cluster(data, labels, point_idx, neighbors, cluster_id, eps, min_pts):\n",
        "    labels[point_idx] = cluster_id  # 将核心点标记为簇的ID\n",
        "    i = 0\n",
        "    while i < len(neighbors):\n",
        "        neighbor_idx = neighbors[i]\n",
        "        if labels[neighbor_idx] == -1:  # 如果是噪声点，将其归为当前簇\n",
        "            labels[neighbor_idx] = cluster_id\n",
        "        elif labels[neighbor_idx] == 0:  # 如果该点还未被标记\n",
        "            labels[neighbor_idx] = cluster_id\n",
        "            # 检查该点的邻域\n",
        "            new_neighbors = region_query(data, neighbor_idx, eps)\n",
        "            if len(new_neighbors) >= min_pts:  # 如果该点是核心点，则继续扩展\n",
        "                neighbors += new_neighbors  # 扩展邻域\n",
        "        i += 1\n",
        "\n",
        "# DBSCAN聚类算法\n",
        "def dbscan(data, eps, min_pts):\n",
        "    n_points = len(data)\n",
        "    labels = np.zeros(n_points)  # 初始化所有点的标签为0，0表示未访问\n",
        "    cluster_id = 0  # 聚类ID\n",
        "\n",
        "    for point_idx in range(n_points):\n",
        "        if labels[point_idx] == 0:  # 如果该点尚未访问\n",
        "            neighbors = region_query(data, point_idx, eps)\n",
        "            if len(neighbors) < min_pts:  # 如果邻域中的点少于min_pts，标记为噪声\n",
        "                labels[point_idx] = -1\n",
        "            else:  # 如果是核心点，开始扩展簇\n",
        "                cluster_id += 1\n",
        "                expand_cluster(data, labels, point_idx, neighbors, cluster_id, eps, min_pts)\n",
        "\n",
        "    return labels\n",
        "\n",
        "# 运行DBSCAN算法\n",
        "X = data.clone()\n",
        "eps = 3\n",
        "min_pts = 10\n",
        "labels = dbscan(X, eps, min_pts)\n",
        "\n",
        "# 绘制结果\n",
        "plt.figure(figsize=(8, 6))\n",
        "plt.scatter(X[:, 0], X[:, 1], c=labels, cmap='viridis')\n",
        "plt.title('DBSCAN Clustering (Manual Implementation)')\n",
        "plt.xlabel('X')\n",
        "plt.ylabel('Y')\n",
        "plt.show()\n",
        "\n",
        "# 输出聚类结果\n",
        "print(f\"Cluster labels: {np.unique(labels)}\")\n"
      ],
      "metadata": {
        "collapsed": true,
        "id": "Ayuw5RnTuYeY",
        "outputId": "a8eb8f90-46ef-4aed-c1b9-d765a6bfd66a",
        "colab": {
          "base_uri": "https://localhost:8080/",
          "height": 582
        }
      },
      "execution_count": 158,
      "outputs": [
        {
          "output_type": "display_data",
          "data": {
            "text/plain": [
              "<Figure size 800x600 with 1 Axes>"
            ],
            "image/png": "[encoded data removed]"
          },
          "metadata": {}
        },
        {
          "output_type": "stream",
          "name": "stdout",
          "text": [
            "Cluster labels: [-1.  1.  2.  3.  4.  5.  6.]\n"
          ]
        }
      ]
    }
  ],
  "metadata": {
    "kernelspec": {
      "display_name": "Python 3",
      "name": "python3"
    },
    "colab": {
      "provenance": [],
      "gpuType": "T4"
    },
    "accelerator": "GPU"
  },
  "nbformat": 4,
  "nbformat_minor": 0
}