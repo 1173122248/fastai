{
  "cells": [
    {
      "cell_type": "code",
      "execution_count": 1,
      "metadata": {
        "id": "ZxgdyBUzk39C"
      },
      "outputs": [],
      "source": [
        "import torch\n",
        "import matplotlib.pyplot as plt\n",
        "import random"
      ]
    },
    {
      "cell_type": "markdown",
      "metadata": {
        "id": "eW8iL7TKk39D"
      },
      "source": [
        "## Callbacks"
      ]
    },
    {
      "cell_type": "markdown",
      "metadata": {
        "id": "-KQI24hPk39E"
      },
      "source": [
        "### Callbacks as GUI events"
      ]
    },
    {
      "cell_type": "code",
      "execution_count": 2,
      "metadata": {
        "id": "HCRKRtirk39E"
      },
      "outputs": [],
      "source": [
        "import ipywidgets as widgets#jupyter实现html控件的库"
      ]
    },
    {
      "cell_type": "markdown",
      "metadata": {
        "id": "i2EOn-E7k39E"
      },
      "source": [
        "From the [ipywidget docs](https://ipywidgets.readthedocs.io/en/stable/examples/Widget%20Events.html):\n",
        "\n",
        "- *the button widget is used to handle mouse clicks. The on_click method of the Button can be used to register function to be called when the button is clicked*"
      ]
    },
    {
      "cell_type": "code",
      "execution_count": 11,
      "metadata": {
        "id": "2jwbA778k39E"
      },
      "outputs": [],
      "source": [
        "w = widgets.Button(description='Click me')"
      ]
    },
    {
      "cell_type": "code",
      "execution_count": 12,
      "metadata": {
        "id": "lGuw4dyvk39E",
        "outputId": "2ce7946a-1324-42c4-f969-69872a0748ed",
        "colab": {
          "base_uri": "https://localhost:8080/",
          "height": 67,
          "referenced_widgets": [
            "b093b6e821574b7a91714b9bb9e0f69a",
            "1b41811b1d394450a594e37a0913f4dc",
            "154c3535587c40b585e13ff5248aa4ba"
          ]
        }
      },
      "outputs": [
        {
          "output_type": "display_data",
          "data": {
            "text/plain": [
              "Button(description='Click me', style=ButtonStyle())"
            ],
            "application/vnd.jupyter.widget-view+json": {
              "version_major": 2,
              "version_minor": 0,
              "model_id": "b093b6e821574b7a91714b9bb9e0f69a"
            }
          },
          "metadata": {}
        },
        {
          "output_type": "stream",
          "name": "stdout",
          "text": [
            "中大奖\n"
          ]
        }
      ],
      "source": [
        "w"
      ]
    },
    {
      "cell_type": "code",
      "execution_count": 13,
      "metadata": {
        "id": "QQkwoZYOk39F"
      },
      "outputs": [],
      "source": [
        "def f(o): print('中大奖')"
      ]
    },
    {
      "cell_type": "code",
      "execution_count": 14,
      "metadata": {
        "id": "S5lFDJFgk39F",
        "outputId": "2e094db8-aeeb-40fe-e6a5-6cd2c642c82a",
        "colab": {
          "base_uri": "https://localhost:8080/",
          "height": 67,
          "referenced_widgets": [
            "b093b6e821574b7a91714b9bb9e0f69a",
            "1b41811b1d394450a594e37a0913f4dc",
            "154c3535587c40b585e13ff5248aa4ba"
          ]
        }
      },
      "outputs": [
        {
          "output_type": "display_data",
          "data": {
            "text/plain": [
              "Button(description='Click me', style=ButtonStyle())"
            ],
            "application/vnd.jupyter.widget-view+json": {
              "version_major": 2,
              "version_minor": 0,
              "model_id": "b093b6e821574b7a91714b9bb9e0f69a"
            }
          },
          "metadata": {}
        },
        {
          "output_type": "stream",
          "name": "stdout",
          "text": [
            "中大奖\n"
          ]
        }
      ],
      "source": [
        "w.on_click(f)\n",
        "w"
      ]
    },
    {
      "cell_type": "markdown",
      "metadata": {
        "id": "lFgOdZODk39F"
      },
      "source": [
        "*NB: When callbacks are used in this way they are often called \"events\".*"
      ]
    },
    {
      "cell_type": "markdown",
      "metadata": {
        "id": "Yw0GZFg6k39G"
      },
      "source": [
        "### Creating your own callback"
      ]
    },
    {
      "cell_type": "code",
      "execution_count": 15,
      "metadata": {
        "id": "HgwZ3RS9k39G"
      },
      "outputs": [],
      "source": [
        "from time import sleep"
      ]
    },
    {
      "cell_type": "code",
      "execution_count": 16,
      "metadata": {
        "id": "uuo9wmexk39G"
      },
      "outputs": [],
      "source": [
        "def slow_calculation():\n",
        "    res = 0\n",
        "    for i in range(5):\n",
        "        res += i*i\n",
        "        sleep(1)\n",
        "    return res"
      ]
    },
    {
      "cell_type": "code",
      "execution_count": 17,
      "metadata": {
        "id": "WK6ogoDNk39G",
        "outputId": "97267c64-9ef3-4b7a-c7ed-e6f148aa2b09",
        "colab": {
          "base_uri": "https://localhost:8080/"
        }
      },
      "outputs": [
        {
          "output_type": "execute_result",
          "data": {
            "text/plain": [
              "30"
            ]
          },
          "metadata": {},
          "execution_count": 17
        }
      ],
      "source": [
        "slow_calculation()"
      ]
    },
    {
      "cell_type": "code",
      "execution_count": 18,
      "metadata": {
        "id": "o9ItCst0k39G"
      },
      "outputs": [],
      "source": [
        "def slow_calculation(cb=None):\n",
        "    res = 0\n",
        "    for i in range(5):\n",
        "        res += i*i\n",
        "        sleep(1)\n",
        "        if cb: cb(i)\n",
        "    return res"
      ]
    },
    {
      "cell_type": "code",
      "execution_count": 19,
      "metadata": {
        "id": "_SHcJsLAk39G"
      },
      "outputs": [],
      "source": [
        "def show_progress(epoch): print(f\"Awesome! We've finished epoch {epoch}!\")"
      ]
    },
    {
      "cell_type": "code",
      "execution_count": 20,
      "metadata": {
        "id": "Yl6j4Us2k39G",
        "outputId": "10970bcd-17b8-464a-e137-59b56307c91c",
        "colab": {
          "base_uri": "https://localhost:8080/"
        }
      },
      "outputs": [
        {
          "output_type": "stream",
          "name": "stdout",
          "text": [
            "Awesome! We've finished epoch 0!\n",
            "Awesome! We've finished epoch 1!\n",
            "Awesome! We've finished epoch 2!\n",
            "Awesome! We've finished epoch 3!\n",
            "Awesome! We've finished epoch 4!\n"
          ]
        },
        {
          "output_type": "execute_result",
          "data": {
            "text/plain": [
              "30"
            ]
          },
          "metadata": {},
          "execution_count": 20
        }
      ],
      "source": [
        "slow_calculation(show_progress)"
      ]
    },
    {
      "cell_type": "markdown",
      "metadata": {
        "id": "eipNwwjdk39H"
      },
      "source": [
        "### Lambdas and partials"
      ]
    },
    {
      "cell_type": "code",
      "execution_count": 22,
      "metadata": {
        "id": "t-s_7wY1k39H",
        "outputId": "c83f5bd0-b150-4626-8d0e-2bb88e63a792",
        "colab": {
          "base_uri": "https://localhost:8080/"
        }
      },
      "outputs": [
        {
          "output_type": "stream",
          "name": "stdout",
          "text": [
            "Awesome! We've finished epoch 0!\n",
            "Awesome! We've finished epoch 1!\n",
            "Awesome! We've finished epoch 2!\n",
            "Awesome! We've finished epoch 3!\n",
            "Awesome! We've finished epoch 4!\n"
          ]
        },
        {
          "output_type": "execute_result",
          "data": {
            "text/plain": [
              "30"
            ]
          },
          "metadata": {},
          "execution_count": 22
        }
      ],
      "source": [
        "slow_calculation(lambda o: print(f\"Awesome! We've finished epoch {o}!\"))"
      ]
    },
    {
      "cell_type": "code",
      "execution_count": 23,
      "metadata": {
        "id": "gDjdHosjk39H"
      },
      "outputs": [],
      "source": [
        "def show_progress(exclamation, epoch): print(f\"{exclamation}! We've finished epoch {epoch}!\")"
      ]
    },
    {
      "cell_type": "code",
      "execution_count": 25,
      "metadata": {
        "id": "e0XeEMTIk39H",
        "outputId": "932543cf-7842-4118-ba69-6759b74533cc",
        "colab": {
          "base_uri": "https://localhost:8080/"
        }
      },
      "outputs": [
        {
          "output_type": "stream",
          "name": "stdout",
          "text": [
            "OK I guess! We've finished epoch 0!\n",
            "OK I guess! We've finished epoch 1!\n",
            "OK I guess! We've finished epoch 2!\n",
            "OK I guess! We've finished epoch 3!\n",
            "OK I guess! We've finished epoch 4!\n"
          ]
        },
        {
          "output_type": "execute_result",
          "data": {
            "text/plain": [
              "30"
            ]
          },
          "metadata": {},
          "execution_count": 25
        }
      ],
      "source": [
        "slow_calculation(lambda o: show_progress(\"OK I guess\",o))"
      ]
    },
    {
      "cell_type": "code",
      "execution_count": 26,
      "metadata": {
        "id": "fLEUNeUak39H"
      },
      "outputs": [],
      "source": [
        "def make_show_progress(exclamation):\n",
        "    def _inner(epoch): print(f\"{exclamation}! We've finished epoch {epoch}!\")\n",
        "    return _inner"
      ]
    },
    {
      "cell_type": "code",
      "execution_count": 31,
      "metadata": {
        "id": "1YGsB72Lk39H",
        "outputId": "3c51dbda-1066-4995-dd7b-04e48f5c0eb9",
        "colab": {
          "base_uri": "https://localhost:8080/"
        }
      },
      "outputs": [
        {
          "output_type": "stream",
          "name": "stdout",
          "text": [
            "Nice!! We've finished epoch 0!\n",
            "Nice!! We've finished epoch 1!\n",
            "Nice!! We've finished epoch 2!\n",
            "Nice!! We've finished epoch 3!\n",
            "Nice!! We've finished epoch 4!\n"
          ]
        },
        {
          "output_type": "execute_result",
          "data": {
            "text/plain": [
              "30"
            ]
          },
          "metadata": {},
          "execution_count": 31
        }
      ],
      "source": [
        "slow_calculation(make_show_progress(\"Nice!\"))"
      ]
    },
    {
      "cell_type": "code",
      "execution_count": 28,
      "metadata": {
        "id": "TSy5iIWbk39H"
      },
      "outputs": [],
      "source": [
        "from functools import partial"
      ]
    },
    {
      "cell_type": "code",
      "execution_count": 33,
      "metadata": {
        "id": "Oq9-mRLBk39H",
        "outputId": "604f067e-f592-4a39-c842-ddd34fb79827",
        "colab": {
          "base_uri": "https://localhost:8080/"
        }
      },
      "outputs": [
        {
          "output_type": "stream",
          "name": "stdout",
          "text": [
            "OK I guess! We've finished epoch 0!\n",
            "OK I guess! We've finished epoch 1!\n",
            "OK I guess! We've finished epoch 2!\n",
            "OK I guess! We've finished epoch 3!\n",
            "OK I guess! We've finished epoch 4!\n"
          ]
        },
        {
          "output_type": "execute_result",
          "data": {
            "text/plain": [
              "30"
            ]
          },
          "metadata": {},
          "execution_count": 33
        }
      ],
      "source": [
        "slow_calculation(partial(show_progress, \"OK I guess\"))"
      ]
    },
    {
      "cell_type": "code",
      "execution_count": 35,
      "metadata": {
        "id": "FywF4RWBk39I"
      },
      "outputs": [],
      "source": [
        "f2 = partial(show_progress, \"OK I guess\")"
      ]
    },
    {
      "cell_type": "markdown",
      "metadata": {
        "id": "VPy9aRa8k39I"
      },
      "source": [
        "### Callbacks as callable classes"
      ]
    },
    {
      "cell_type": "code",
      "execution_count": 36,
      "metadata": {
        "id": "RZ_mGs8ek39I"
      },
      "outputs": [],
      "source": [
        "class ProgressShowingCallback():\n",
        "    def __init__(self, exclamation=\"Awesome\"): self.exclamation = exclamation\n",
        "    def __call__(self, epoch): print(f\"{self.exclamation}! We've finished epoch {epoch}!\")"
      ]
    },
    {
      "cell_type": "code",
      "execution_count": 45,
      "metadata": {
        "id": "K1p1pXFGk39I"
      },
      "outputs": [],
      "source": [
        "cb = ProgressShowingCallback(\"Just super1\")"
      ]
    },
    {
      "cell_type": "code",
      "execution_count": 46,
      "metadata": {
        "id": "fsTipJyBk39I",
        "outputId": "fa1a4d0e-67b2-4c63-9c8d-219a878e90ff",
        "colab": {
          "base_uri": "https://localhost:8080/"
        }
      },
      "outputs": [
        {
          "output_type": "stream",
          "name": "stdout",
          "text": [
            "Just super1! We've finished epoch 0!\n",
            "Just super1! We've finished epoch 1!\n",
            "Just super1! We've finished epoch 2!\n",
            "Just super1! We've finished epoch 3!\n",
            "Just super1! We've finished epoch 4!\n"
          ]
        },
        {
          "output_type": "execute_result",
          "data": {
            "text/plain": [
              "30"
            ]
          },
          "metadata": {},
          "execution_count": 46
        }
      ],
      "source": [
        "slow_calculation(cb)"
      ]
    },
    {
      "cell_type": "code",
      "source": [
        "def slow_calculation(cb:None):\n",
        "  num = 0\n",
        "  for i in range(5):\n",
        "    num += i * i\n",
        "    if cb : cb(i)\n",
        "  return num\n",
        "slow_calculation(lambda o: print(f\"Awsome!,we have finished {o} epochs\"))"
      ],
      "metadata": {
        "id": "gCG2FKGyp7qW",
        "outputId": "a395c3a0-ed52-4d2e-d7c1-d1614d63a46a",
        "colab": {
          "base_uri": "https://localhost:8080/"
        }
      },
      "execution_count": 44,
      "outputs": [
        {
          "output_type": "stream",
          "name": "stdout",
          "text": [
            "Awsome!,we have finished 0 epochs\n",
            "Awsome!,we have finished 1 epochs\n",
            "Awsome!,we have finished 2 epochs\n",
            "Awsome!,we have finished 3 epochs\n",
            "Awsome!,we have finished 4 epochs\n"
          ]
        },
        {
          "output_type": "execute_result",
          "data": {
            "text/plain": [
              "30"
            ]
          },
          "metadata": {},
          "execution_count": 44
        }
      ]
    },
    {
      "cell_type": "markdown",
      "metadata": {
        "id": "1KSjJx41k39I"
      },
      "source": [
        "### Multiple callback funcs; `*args` and `**kwargs`"
      ]
    },
    {
      "cell_type": "code",
      "execution_count": 47,
      "metadata": {
        "id": "EltHj2CFk39I"
      },
      "outputs": [],
      "source": [
        "def f(*a, **b): print(f\"args: {a}; kwargs: {b}\")#*a用来收集任意数量的位置参数（即没有关键字的参数），并将它们作为一个元组（tuple）存储在变量a中。**b用来收集任意数量的关键字参数（即带有关键字的参数），并将它们作为一个字典（dict）存储在变量b中。"
      ]
    },
    {
      "cell_type": "code",
      "execution_count": 49,
      "metadata": {
        "id": "e18IExV8k39I",
        "outputId": "50bba231-be14-49e9-86f7-71c9372e9c96",
        "colab": {
          "base_uri": "https://localhost:8080/"
        }
      },
      "outputs": [
        {
          "output_type": "stream",
          "name": "stdout",
          "text": [
            "args: (3, 'a', 10); kwargs: {'thing1': 'hello'}\n"
          ]
        }
      ],
      "source": [
        "f(3, 'a',10, thing1=\"hello\")"
      ]
    },
    {
      "cell_type": "code",
      "execution_count": 50,
      "metadata": {
        "id": "8IUzwZd5k39I"
      },
      "outputs": [],
      "source": [
        "def g(a,b,c=0): print(a,b,c)"
      ]
    },
    {
      "cell_type": "code",
      "execution_count": 51,
      "metadata": {
        "id": "DNbEFB-jk39J",
        "outputId": "80d43b50-1648-4e8b-b269-6cb7b4c9d6ce",
        "colab": {
          "base_uri": "https://localhost:8080/"
        }
      },
      "outputs": [
        {
          "output_type": "stream",
          "name": "stdout",
          "text": [
            "1 2 3\n"
          ]
        }
      ],
      "source": [
        "args = [1,2]\n",
        "kwargs = {'c':3}\n",
        "g(*args, **kwargs)"
      ]
    },
    {
      "cell_type": "code",
      "execution_count": 52,
      "metadata": {
        "id": "F_9Rf2EZk39J"
      },
      "outputs": [],
      "source": [
        "def slow_calculation(cb=None):\n",
        "    res = 0\n",
        "    for i in range(5):\n",
        "        if cb: cb.before_calc(i)\n",
        "        res += i*i\n",
        "        sleep(1)\n",
        "        if cb: cb.after_calc(i, val=res)\n",
        "    return res"
      ]
    },
    {
      "cell_type": "code",
      "execution_count": 53,
      "metadata": {
        "id": "cx15NRDNk39J"
      },
      "outputs": [],
      "source": [
        "class PrintStepCallback():\n",
        "    def before_calc(self, *args, **kwargs): print(f\"About to start\")\n",
        "    def after_calc (self, *args, **kwargs): print(f\"Done step\")"
      ]
    },
    {
      "cell_type": "code",
      "execution_count": 54,
      "metadata": {
        "id": "x8C07al6k39J",
        "outputId": "4722ec5a-7191-4fd1-834e-ad54561ef066",
        "colab": {
          "base_uri": "https://localhost:8080/"
        }
      },
      "outputs": [
        {
          "output_type": "stream",
          "name": "stdout",
          "text": [
            "About to start\n",
            "Done step\n",
            "About to start\n",
            "Done step\n",
            "About to start\n",
            "Done step\n",
            "About to start\n",
            "Done step\n",
            "About to start\n",
            "Done step\n"
          ]
        },
        {
          "output_type": "execute_result",
          "data": {
            "text/plain": [
              "30"
            ]
          },
          "metadata": {},
          "execution_count": 54
        }
      ],
      "source": [
        "slow_calculation(PrintStepCallback())"
      ]
    },
    {
      "cell_type": "code",
      "execution_count": 55,
      "metadata": {
        "id": "cYjz1ndgk39J"
      },
      "outputs": [],
      "source": [
        "class PrintStatusCallback():\n",
        "    def __init__(self): pass\n",
        "    def before_calc(self, epoch, **kwargs): print(f\"About to start: {epoch}\")\n",
        "    def after_calc (self, epoch, val, **kwargs): print(f\"After {epoch}: {val}\")"
      ]
    },
    {
      "cell_type": "code",
      "execution_count": 56,
      "metadata": {
        "id": "HBeHlClzk39K",
        "outputId": "510d925f-49b2-4ea3-8f6b-c18894e1273e",
        "colab": {
          "base_uri": "https://localhost:8080/"
        }
      },
      "outputs": [
        {
          "output_type": "stream",
          "name": "stdout",
          "text": [
            "About to start: 0\n",
            "After 0: 0\n",
            "About to start: 1\n",
            "After 1: 1\n",
            "About to start: 2\n",
            "After 2: 5\n",
            "About to start: 3\n",
            "After 3: 14\n",
            "About to start: 4\n",
            "After 4: 30\n"
          ]
        },
        {
          "output_type": "execute_result",
          "data": {
            "text/plain": [
              "30"
            ]
          },
          "metadata": {},
          "execution_count": 56
        }
      ],
      "source": [
        "slow_calculation(PrintStatusCallback())"
      ]
    },
    {
      "cell_type": "markdown",
      "metadata": {
        "id": "KPX3YezGk39K"
      },
      "source": [
        "### Modifying behavior"
      ]
    },
    {
      "cell_type": "code",
      "execution_count": 70,
      "metadata": {
        "id": "4mxbk_rYk39K"
      },
      "outputs": [],
      "source": [
        "def slow_calculation(cb=None):\n",
        "    res = 0\n",
        "    for i in range(5):\n",
        "        if cb and hasattr(cb,'before_calc'): cb.before_calc(i)#hasattr用于检测cb是否具有'before——calc'这个属性\n",
        "        res += i*i\n",
        "        sleep(1)\n",
        "        if cb and hasattr(cb,'after_calc'):\n",
        "            if cb.after_calc(i, res):\n",
        "                print(\"stopping early\")\n",
        "                break\n",
        "    return res"
      ]
    },
    {
      "cell_type": "code",
      "execution_count": 68,
      "metadata": {
        "id": "qgTXslCsk39K"
      },
      "outputs": [],
      "source": [
        "class PrintAfterCallback():\n",
        "    def before_calc (self,epoch): print(f\"this is {epoch} epochs\")\n",
        "    def after_calc (self, epoch, val):\n",
        "        print(f\"After {epoch}: {val}\")\n",
        "        if val>10: return True\n",
        "        else: return False"
      ]
    },
    {
      "cell_type": "code",
      "execution_count": 71,
      "metadata": {
        "id": "hj0YKthrk39K",
        "outputId": "4fd9d467-86cb-45fe-a026-cb4cac95907a",
        "colab": {
          "base_uri": "https://localhost:8080/"
        }
      },
      "outputs": [
        {
          "output_type": "stream",
          "name": "stdout",
          "text": [
            "this is 0 epochs\n",
            "After 0: 0\n",
            "this is 1 epochs\n",
            "After 1: 1\n",
            "this is 2 epochs\n",
            "After 2: 5\n",
            "this is 3 epochs\n",
            "After 3: 14\n",
            "stopping early\n"
          ]
        },
        {
          "output_type": "execute_result",
          "data": {
            "text/plain": [
              "14"
            ]
          },
          "metadata": {},
          "execution_count": 71
        }
      ],
      "source": [
        "slow_calculation(PrintAfterCallback())"
      ]
    },
    {
      "cell_type": "code",
      "execution_count": 72,
      "metadata": {
        "id": "rx8HTVrck39K"
      },
      "outputs": [],
      "source": [
        "class SlowCalculator():\n",
        "    def __init__(self, cb=None): self.cb,self.res = cb,0\n",
        "\n",
        "    def callback(self, cb_name, *args):\n",
        "        if not self.cb: return\n",
        "        cb = getattr(self.cb,cb_name, None)\n",
        "        if cb: return cb(self, *args)\n",
        "\n",
        "    def calc(self):\n",
        "        for i in range(5):\n",
        "            self.callback('before_calc', i)\n",
        "            self.res += i*i\n",
        "            sleep(1)\n",
        "            if self.callback('after_calc', i):\n",
        "                print(\"stopping early\")\n",
        "                break"
      ]
    },
    {
      "cell_type": "code",
      "execution_count": 73,
      "metadata": {
        "id": "te8jQyWgk39K"
      },
      "outputs": [],
      "source": [
        "class ModifyingCallback():\n",
        "    def after_calc (self, calc, epoch):\n",
        "        print(f\"After {epoch}: {calc.res}\")\n",
        "        if calc.res>10: return True\n",
        "        if calc.res<3: calc.res = calc.res*2"
      ]
    },
    {
      "cell_type": "code",
      "execution_count": 74,
      "metadata": {
        "id": "-ERB88K-k39L"
      },
      "outputs": [],
      "source": [
        "calculator = SlowCalculator(ModifyingCallback())"
      ]
    },
    {
      "cell_type": "code",
      "execution_count": 75,
      "metadata": {
        "id": "bLPiMUYok39L",
        "outputId": "73aa6e3b-decb-4c65-afa3-e2533bc591d7",
        "colab": {
          "base_uri": "https://localhost:8080/"
        }
      },
      "outputs": [
        {
          "output_type": "stream",
          "name": "stdout",
          "text": [
            "After 0: 0\n",
            "After 1: 1\n",
            "After 2: 6\n",
            "After 3: 15\n",
            "stopping early\n"
          ]
        },
        {
          "output_type": "execute_result",
          "data": {
            "text/plain": [
              "15"
            ]
          },
          "metadata": {},
          "execution_count": 75
        }
      ],
      "source": [
        "calculator.calc()\n",
        "calculator.res"
      ]
    },
    {
      "cell_type": "markdown",
      "metadata": {
        "id": "nbQYQAXWk39L"
      },
      "source": [
        "## `__dunder__` thingies"
      ]
    },
    {
      "cell_type": "markdown",
      "metadata": {
        "id": "zxQVg1Gok39L"
      },
      "source": [
        "Anything that looks like `__this__` is, in some way, *special*. Python, or some library, can define some functions that they will call at certain documented times. For instance, when your class is setting up a new object, python will call `__init__`. These are defined as part of the python [data model](https://docs.python.org/3/reference/datamodel.html#object.__init__).\n",
        "\n",
        "For instance, if python sees `+`, then it will call the special method `__add__`. If you try to display an object in Jupyter (or lots of other places in Python) it will call `__repr__`."
      ]
    },
    {
      "cell_type": "code",
      "execution_count": null,
      "metadata": {
        "id": "7OfusyWdk39L"
      },
      "outputs": [],
      "source": [
        "class SloppyAdder():\n",
        "    def __init__(self,o): self.o=o\n",
        "    def __add__(self,b): return SloppyAdder(self.o + b.o + 0.01)\n",
        "    def __repr__(self): return str(self.o)"
      ]
    },
    {
      "cell_type": "code",
      "execution_count": null,
      "metadata": {
        "id": "g9pWL-3Xk39L",
        "outputId": "44e9189b-1837-4031-b314-de4f1ba648a1"
      },
      "outputs": [
        {
          "data": {
            "text/plain": [
              "3.01"
            ]
          },
          "execution_count": null,
          "metadata": {},
          "output_type": "execute_result"
        }
      ],
      "source": [
        "a = SloppyAdder(1)\n",
        "b = SloppyAdder(2)\n",
        "a+b"
      ]
    },
    {
      "cell_type": "markdown",
      "metadata": {
        "id": "iNePoQkKk39L"
      },
      "source": [
        "Special methods you should probably know about (see data model link above) are:\n",
        "\n",
        "- `__getitem__`\n",
        "- `__getattr__`\n",
        "- `__setattr__`\n",
        "- `__del__`\n",
        "- `__init__`\n",
        "- `__new__`\n",
        "- `__enter__`\n",
        "- `__exit__`\n",
        "- `__len__`\n",
        "- `__repr__`\n",
        "- `__str__`"
      ]
    },
    {
      "cell_type": "markdown",
      "metadata": {
        "id": "bbOfR8J4k39L"
      },
      "source": [
        "### `__getattr__` and `getattr`"
      ]
    },
    {
      "cell_type": "code",
      "execution_count": null,
      "metadata": {
        "id": "YqmUYzuBk39L"
      },
      "outputs": [],
      "source": [
        "class A: a,b=1,2"
      ]
    },
    {
      "cell_type": "code",
      "execution_count": null,
      "metadata": {
        "id": "Xj5ZmSW5k39M"
      },
      "outputs": [],
      "source": [
        "a = A()"
      ]
    },
    {
      "cell_type": "code",
      "execution_count": null,
      "metadata": {
        "id": "a3ekZUJDk39M",
        "outputId": "9cbd7a45-b18e-4b6f-fd82-4309096ee7f2"
      },
      "outputs": [
        {
          "data": {
            "text/plain": [
              "2"
            ]
          },
          "execution_count": null,
          "metadata": {},
          "output_type": "execute_result"
        }
      ],
      "source": [
        "a.b"
      ]
    },
    {
      "cell_type": "code",
      "execution_count": null,
      "metadata": {
        "id": "4cfAfq2Yk39M",
        "outputId": "8b85f3cf-7f25-4e8e-9581-451888c6b523"
      },
      "outputs": [
        {
          "data": {
            "text/plain": [
              "2"
            ]
          },
          "execution_count": null,
          "metadata": {},
          "output_type": "execute_result"
        }
      ],
      "source": [
        "getattr(a, 'b')"
      ]
    },
    {
      "cell_type": "code",
      "execution_count": null,
      "metadata": {
        "id": "r7FFM91qk39M",
        "outputId": "b7882ab0-57c6-445f-b079-c2f71f909fee"
      },
      "outputs": [
        {
          "data": {
            "text/plain": [
              "2"
            ]
          },
          "execution_count": null,
          "metadata": {},
          "output_type": "execute_result"
        }
      ],
      "source": [
        "getattr(a, 'b' if random.random()>0.5 else 'a')"
      ]
    },
    {
      "cell_type": "code",
      "execution_count": null,
      "metadata": {
        "id": "wBv7Z4_4k39M"
      },
      "outputs": [],
      "source": [
        "class B:\n",
        "    a,b=1,2\n",
        "    def __getattr__(self, k):\n",
        "        if k[0]=='_': raise AttributeError(k)\n",
        "        return f'Hello from {k}'"
      ]
    },
    {
      "cell_type": "code",
      "execution_count": null,
      "metadata": {
        "id": "z6afuufUk39M"
      },
      "outputs": [],
      "source": [
        "b = B()"
      ]
    },
    {
      "cell_type": "code",
      "execution_count": null,
      "metadata": {
        "id": "9p_9Pw05k39M",
        "outputId": "d30a293c-8af2-4851-8467-be3cf3694254"
      },
      "outputs": [
        {
          "data": {
            "text/plain": [
              "1"
            ]
          },
          "execution_count": null,
          "metadata": {},
          "output_type": "execute_result"
        }
      ],
      "source": [
        "b.a"
      ]
    },
    {
      "cell_type": "code",
      "execution_count": null,
      "metadata": {
        "id": "UO32UdaOk39M",
        "outputId": "2cdf7f88-1d84-4bd5-8574-38d2a529b3d7"
      },
      "outputs": [
        {
          "data": {
            "text/plain": [
              "'Hello from foo'"
            ]
          },
          "execution_count": null,
          "metadata": {},
          "output_type": "execute_result"
        }
      ],
      "source": [
        "b.foo"
      ]
    },
    {
      "cell_type": "code",
      "execution_count": null,
      "metadata": {
        "id": "Ay8vVgUkk39N"
      },
      "outputs": [],
      "source": []
    }
  ],
  "metadata": {
    "kernelspec": {
      "display_name": "Python 3 (ipykernel)",
      "language": "python",
      "name": "python3"
    },
    "colab": {
      "provenance": []
    },
    "widgets": {
      "application/vnd.jupyter.widget-state+json": {
        "b093b6e821574b7a91714b9bb9e0f69a": {
          "model_module": "@jupyter-widgets/controls",
          "model_name": "ButtonModel",
          "model_module_version": "1.5.0",
          "state": {
            "_dom_classes": [],
            "_model_module": "@jupyter-widgets/controls",
            "_model_module_version": "1.5.0",
            "_model_name": "ButtonModel",
            "_view_count": null,
            "_view_module": "@jupyter-widgets/controls",
            "_view_module_version": "1.5.0",
            "_view_name": "ButtonView",
            "button_style": "",
            "description": "Click me",
            "disabled": false,
            "icon": "",
            "layout": "IPY_MODEL_1b41811b1d394450a594e37a0913f4dc",
            "style": "IPY_MODEL_154c3535587c40b585e13ff5248aa4ba",
            "tooltip": ""
          }
        },
        "1b41811b1d394450a594e37a0913f4dc": {
          "model_module": "@jupyter-widgets/base",
          "model_name": "LayoutModel",
          "model_module_version": "1.2.0",
          "state": {
            "_model_module": "@jupyter-widgets/base",
            "_model_module_version": "1.2.0",
            "_model_name": "LayoutModel",
            "_view_count": null,
            "_view_module": "@jupyter-widgets/base",
            "_view_module_version": "1.2.0",
            "_view_name": "LayoutView",
            "align_content": null,
            "align_items": null,
            "align_self": null,
            "border": null,
            "bottom": null,
            "display": null,
            "flex": null,
            "flex_flow": null,
            "grid_area": null,
            "grid_auto_columns": null,
            "grid_auto_flow": null,
            "grid_auto_rows": null,
            "grid_column": null,
            "grid_gap": null,
            "grid_row": null,
            "grid_template_areas": null,
            "grid_template_columns": null,
            "grid_template_rows": null,
            "height": null,
            "justify_content": null,
            "justify_items": null,
            "left": null,
            "margin": null,
            "max_height": null,
            "max_width": null,
            "min_height": null,
            "min_width": null,
            "object_fit": null,
            "object_position": null,
            "order": null,
            "overflow": null,
            "overflow_x": null,
            "overflow_y": null,
            "padding": null,
            "right": null,
            "top": null,
            "visibility": null,
            "width": null
          }
        },
        "154c3535587c40b585e13ff5248aa4ba": {
          "model_module": "@jupyter-widgets/controls",
          "model_name": "ButtonStyleModel",
          "model_module_version": "1.5.0",
          "state": {
            "_model_module": "@jupyter-widgets/controls",
            "_model_module_version": "1.5.0",
            "_model_name": "ButtonStyleModel",
            "_view_count": null,
            "_view_module": "@jupyter-widgets/base",
            "_view_module_version": "1.2.0",
            "_view_name": "StyleView",
            "button_color": null,
            "font_weight": ""
          }
        }
      }
    }
  },
  "nbformat": 4,
  "nbformat_minor": 0
}